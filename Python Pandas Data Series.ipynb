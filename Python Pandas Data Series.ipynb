{
 "cells": [
  {
   "cell_type": "markdown",
   "id": "85db88ef",
   "metadata": {},
   "source": [
    "# 1. Write a Pandas program to create and display a one-dimensional array-like object containing an array of data using Pandas module."
   ]
  },
  {
   "cell_type": "code",
   "execution_count": 45,
   "id": "0aa8f87b",
   "metadata": {},
   "outputs": [
    {
     "name": "stdout",
     "output_type": "stream",
     "text": [
      "0     2\n",
      "1     4\n",
      "2     6\n",
      "3     8\n",
      "4    10\n",
      "dtype: int64\n"
     ]
    }
   ],
   "source": [
    "import pandas as pd\n",
    "ds = pd.Series([2, 4, 6, 8, 10])\n",
    "print(ds)\n"
   ]
  },
  {
   "cell_type": "markdown",
   "id": "5f22cd52",
   "metadata": {},
   "source": [
    "# 2. Write a Pandas program to convert a Panda module Series to Python list and it's type.\n"
   ]
  },
  {
   "cell_type": "code",
   "execution_count": 46,
   "id": "dec178c9",
   "metadata": {},
   "outputs": [
    {
     "name": "stdout",
     "output_type": "stream",
     "text": [
      "Pandas Series and type\n",
      "0     2\n",
      "1     4\n",
      "2     6\n",
      "3     8\n",
      "4    10\n",
      "dtype: int64\n",
      "<class 'pandas.core.series.Series'>\n",
      "Convert Pandas Series to Python list\n",
      "[2, 4, 6, 8, 10]\n",
      "<class 'list'>\n"
     ]
    }
   ],
   "source": [
    "import pandas as pd\n",
    "ds = pd.Series([2, 4, 6, 8, 10])\n",
    "print(\"Pandas Series and type\")\n",
    "print(ds)\n",
    "print(type(ds))\n",
    "print(\"Convert Pandas Series to Python list\")\n",
    "print(ds.tolist())\n",
    "print(type(ds.tolist()))\n"
   ]
  },
  {
   "cell_type": "markdown",
   "id": "b4ee9b2a",
   "metadata": {},
   "source": [
    "# 3. Write a Pandas program to add, subtract, multiple and divide two Pandas Series.\n",
    "Sample Series: [2, 4, 6, 8, 10], [1, 3, 5, 7, 9]"
   ]
  },
  {
   "cell_type": "code",
   "execution_count": 47,
   "id": "4c15acbb",
   "metadata": {},
   "outputs": [
    {
     "name": "stdout",
     "output_type": "stream",
     "text": [
      "Add two Series:\n",
      "0     3\n",
      "1     7\n",
      "2    11\n",
      "3    15\n",
      "4    19\n",
      "dtype: int64\n",
      "Subtract two Series:\n",
      "0    1\n",
      "1    1\n",
      "2    1\n",
      "3    1\n",
      "4    1\n",
      "dtype: int64\n",
      "Multiply two Series:\n",
      "0     2\n",
      "1    12\n",
      "2    30\n",
      "3    56\n",
      "4    90\n",
      "dtype: int64\n",
      "Divide Series1 by Series2:\n",
      "0    2.000000\n",
      "1    1.333333\n",
      "2    1.200000\n",
      "3    1.142857\n",
      "4    1.111111\n",
      "dtype: float64\n"
     ]
    }
   ],
   "source": [
    "import pandas as pd\n",
    "ds1 = pd.Series([2, 4, 6, 8, 10])\n",
    "ds2 = pd.Series([1, 3, 5, 7, 9])\n",
    "ds = ds1 + ds2\n",
    "print(\"Add two Series:\")\n",
    "print(ds)\n",
    "print(\"Subtract two Series:\")\n",
    "ds = ds1 - ds2\n",
    "print(ds)\n",
    "print(\"Multiply two Series:\")\n",
    "ds = ds1 * ds2\n",
    "print(ds)\n",
    "print(\"Divide Series1 by Series2:\")\n",
    "ds = ds1 / ds2\n",
    "print(ds)\n"
   ]
  },
  {
   "cell_type": "markdown",
   "id": "541193db",
   "metadata": {},
   "source": [
    "# 4. Write a Pandas program to compare the elements of the two Pandas Series.\n",
    "Sample Series: [2, 4, 6, 8, 10], [1, 3, 5, 7, 10]"
   ]
  },
  {
   "cell_type": "code",
   "execution_count": 48,
   "id": "4b986a1a",
   "metadata": {},
   "outputs": [
    {
     "name": "stdout",
     "output_type": "stream",
     "text": [
      "Series1:\n",
      "0     2\n",
      "1     4\n",
      "2     6\n",
      "3     8\n",
      "4    10\n",
      "dtype: int64\n",
      "Series2:\n",
      "0     1\n",
      "1     3\n",
      "2     5\n",
      "3     7\n",
      "4    10\n",
      "dtype: int64\n",
      "Compare the elements of the said Series:\n",
      "Equals:\n",
      "0    False\n",
      "1    False\n",
      "2    False\n",
      "3    False\n",
      "4     True\n",
      "dtype: bool\n",
      "Greater than:\n",
      "0     True\n",
      "1     True\n",
      "2     True\n",
      "3     True\n",
      "4    False\n",
      "dtype: bool\n",
      "Less than:\n",
      "0    False\n",
      "1    False\n",
      "2    False\n",
      "3    False\n",
      "4    False\n",
      "dtype: bool\n"
     ]
    }
   ],
   "source": [
    "import pandas as pd\n",
    "ds1 = pd.Series([2, 4, 6, 8, 10])\n",
    "ds2 = pd.Series([1, 3, 5, 7, 10])\n",
    "print(\"Series1:\")\n",
    "print(ds1)\n",
    "print(\"Series2:\")\n",
    "print(ds2)\n",
    "print(\"Compare the elements of the said Series:\")\n",
    "print(\"Equals:\")\n",
    "print(ds1 == ds2)\n",
    "print(\"Greater than:\")\n",
    "print(ds1 > ds2)\n",
    "print(\"Less than:\")\n",
    "print(ds1 < ds2)\n"
   ]
  },
  {
   "cell_type": "markdown",
   "id": "789bed17",
   "metadata": {},
   "source": [
    "# 5. Write a Pandas program to convert a dictionary to a Pandas series.\n",
    "Sample Series: \n",
    "Original dictionary:\n",
    "{'a': 100, 'b': 200, 'c': 300, 'd': 400, 'e': 800}\n",
    "\n",
    "Converted series:\n",
    "a    100\n",
    "b    200\n",
    "c    300\n",
    "d    400\n",
    "e    800\n",
    "dtype: int64 "
   ]
  },
  {
   "cell_type": "code",
   "execution_count": 49,
   "id": "d58c8b4e",
   "metadata": {},
   "outputs": [
    {
     "name": "stdout",
     "output_type": "stream",
     "text": [
      "Original dictionary:\n",
      "{'a': 100, 'b': 200, 'c': 300, 'd': 400, 'e': 800}\n",
      "Converted series:\n",
      "a    100\n",
      "b    200\n",
      "c    300\n",
      "d    400\n",
      "e    800\n",
      "dtype: int64\n"
     ]
    }
   ],
   "source": [
    "import pandas as pd\n",
    "d1 = {'a': 100, 'b': 200, 'c':300, 'd':400, 'e':800}\n",
    "print(\"Original dictionary:\")\n",
    "print(d1)\n",
    "new_series = pd.Series(d1)\n",
    "print(\"Converted series:\")\n",
    "print(new_series)\n"
   ]
  },
  {
   "cell_type": "markdown",
   "id": "dd5ffe56",
   "metadata": {},
   "source": [
    "# 6. Write a Pandas program to convert a NumPy array to a Pandas series.\n",
    "Sample Series: \n",
    "  NumPy array:\n",
    "[10 20 30 40 50]\n",
    "Converted Pandas series:\n",
    "0    10\n",
    "1    20\n",
    "2    30\n",
    "3    40\n",
    "4    50\n",
    "dtype: int64 "
   ]
  },
  {
   "cell_type": "code",
   "execution_count": 50,
   "id": "95e95cff",
   "metadata": {},
   "outputs": [
    {
     "name": "stdout",
     "output_type": "stream",
     "text": [
      "NumPy array:\n",
      "[10 20 30 40 50]\n",
      "Converted Pandas series:\n",
      "0    10\n",
      "1    20\n",
      "2    30\n",
      "3    40\n",
      "4    50\n",
      "dtype: int32\n"
     ]
    }
   ],
   "source": [
    "import numpy as np\n",
    "import pandas as pd\n",
    "np_array = np.array([10, 20, 30, 40, 50])\n",
    "print(\"NumPy array:\")\n",
    "print(np_array)\n",
    "new_series = pd.Series(np_array)\n",
    "print(\"Converted Pandas series:\")\n",
    "print(new_series)\n"
   ]
  },
  {
   "cell_type": "markdown",
   "id": "4b89cb03",
   "metadata": {},
   "source": [
    "# 7. Write a Pandas program to change the data type of given a column or a Series.\n",
    "Sample Series: \n",
    "    Original Data Series:\n",
    "0       100\n",
    "1       200\n",
    "2    python\n",
    "3    300.12\n",
    "4       400\n",
    "dtype: object\n",
    "Change the said data type to numeric:\n",
    "0    100.00\n",
    "1    200.00\n",
    "2       NaN\n",
    "3    300.12\n",
    "4    400.00\n",
    "dtype: float64"
   ]
  },
  {
   "cell_type": "code",
   "execution_count": 51,
   "id": "4095fad2",
   "metadata": {},
   "outputs": [
    {
     "name": "stdout",
     "output_type": "stream",
     "text": [
      "Original Data Series:\n",
      "0       100\n",
      "1       200\n",
      "2    python\n",
      "3    300.12\n",
      "4       400\n",
      "dtype: object\n",
      "Change the said data type to numeric:\n",
      "0    100.00\n",
      "1    200.00\n",
      "2       NaN\n",
      "3    300.12\n",
      "4    400.00\n",
      "dtype: float64\n"
     ]
    }
   ],
   "source": [
    "import pandas as pd\n",
    "s1 = pd.Series(['100', '200', 'python', '300.12', '400'])\n",
    "print(\"Original Data Series:\")\n",
    "print(s1)\n",
    "print(\"Change the said data type to numeric:\")\n",
    "s2 = pd.to_numeric(s1, errors='coerce')\n",
    "print(s2)\n"
   ]
  },
  {
   "cell_type": "markdown",
   "id": "6b1a6ae0",
   "metadata": {},
   "source": [
    "# 8. Write a Pandas program to convert the first column of a DataFrame as a Series.\n",
    "Sample Output:  \n",
    "Original DataFrame\n",
    "   col1  col2  col3\n",
    "0     1     4     7\n",
    "1     2     5     5\n",
    "2     3     6     8\n",
    "3     4     9    12\n",
    "4     7     5     1\n",
    "5    11     0    11\n",
    "\n",
    "1st column as a Series:\n",
    "0     1\n",
    "1     2\n",
    "2     3\n",
    "3     4\n",
    "4     7\n",
    "5    11\n",
    "Name: col1, dtype: int64\n",
    "<class 'pandas.core.series.Series'>"
   ]
  },
  {
   "cell_type": "code",
   "execution_count": 54,
   "id": "97b65c96",
   "metadata": {},
   "outputs": [
    {
     "name": "stdout",
     "output_type": "stream",
     "text": [
      "1st column as a Series:\n",
      "0     1\n",
      "1     2\n",
      "2     3\n",
      "3     4\n",
      "4     7\n",
      "5    11\n",
      "Name: col1, dtype: int64\n",
      "<class 'pandas.core.series.Series'>\n"
     ]
    }
   ],
   "source": [
    "import pandas as pd\n",
    "\n",
    "# Create the original DataFrame\n",
    "df = pd.DataFrame({'col1': [1, 2, 3, 4, 7, 11],\n",
    "                   'col2': [4, 5, 6, 9, 5, 0],\n",
    "                   'col3': [7, 5, 8, 12, 1, 11]})\n",
    "\n",
    "# Convert the first column into a Series\n",
    "series_col1 = df['col1']\n",
    "\n",
    "# Print the first column as a Series\n",
    "print(\"1st column as a Series:\")\n",
    "print(series_col1)\n",
    "print(type(series_col1))\n"
   ]
  },
  {
   "cell_type": "markdown",
   "id": "2b6d8c30",
   "metadata": {},
   "source": [
    "# 9. Write a Pandas program to convert a given Series to an array.\n",
    "Sample Output: \n",
    "Original Data Series:\n",
    "0       100\n",
    "1       200\n",
    "2    python\n",
    "3    300.12\n",
    "4       400\n",
    "dtype: object\n",
    "Series to an array\n",
    "['100' '200' 'python' '300.12' '400']\n",
    "<class 'numpy.ndarray'>"
   ]
  },
  {
   "cell_type": "code",
   "execution_count": 55,
   "id": "c595a17c",
   "metadata": {},
   "outputs": [
    {
     "name": "stdout",
     "output_type": "stream",
     "text": [
      "Original Data Series:\n",
      "0       100\n",
      "1       200\n",
      "2    python\n",
      "3    300.12\n",
      "4       400\n",
      "dtype: object\n",
      "Series to an array\n",
      "['100' '200' 'python' '300.12' '400']\n",
      "<class 'numpy.ndarray'>\n"
     ]
    }
   ],
   "source": [
    "import pandas as pd\n",
    "import numpy as np\n",
    "s1 = pd.Series(['100', '200', 'python', '300.12', '400'])\n",
    "print(\"Original Data Series:\")\n",
    "print(s1)\n",
    "print(\"Series to an array\")\n",
    "a = s1.values\n",
    "print(a)\n",
    "print(type(a))\n"
   ]
  },
  {
   "cell_type": "markdown",
   "id": "fd26af09",
   "metadata": {},
   "source": [
    "# 10. Write a Pandas program to convert Series of lists to one Series.\n",
    "Sample Output: \n",
    "Original Series of list\n",
    "0    [Red, Green, White]\n",
    "1           [Red, Black]\n",
    "2               [Yellow]\n",
    "dtype: object\n",
    "One Series\n",
    "0       Red\n",
    "1     Green\n",
    "2     White\n",
    "3       Red\n",
    "4     Black\n",
    "5    Yellow\n",
    "dtype: object"
   ]
  },
  {
   "cell_type": "code",
   "execution_count": 56,
   "id": "6a1856ae",
   "metadata": {},
   "outputs": [
    {
     "name": "stdout",
     "output_type": "stream",
     "text": [
      "Original Series of list\n",
      "0    [Red, Green, White]\n",
      "1           [Red, Black]\n",
      "2               [Yellow]\n",
      "dtype: object\n",
      "One Series\n",
      "0       Red\n",
      "1     Green\n",
      "2     White\n",
      "3       Red\n",
      "4     Black\n",
      "5    Yellow\n",
      "dtype: object\n"
     ]
    }
   ],
   "source": [
    "import pandas as pd\n",
    "s = pd.Series([\n",
    "    ['Red', 'Green', 'White'],\n",
    "    ['Red', 'Black'],\n",
    "    ['Yellow']])\n",
    "print(\"Original Series of list\")\n",
    "print(s)\n",
    "s = s.apply(pd.Series).stack().reset_index(drop=True)\n",
    "print(\"One Series\")\n",
    "print(s)\n"
   ]
  },
  {
   "cell_type": "markdown",
   "id": "be9cfec7",
   "metadata": {},
   "source": [
    "# 11. Write a Pandas program to sort a given Series.\n",
    "Sample Output:\n",
    "Original Data Series:\n",
    "0       100\n",
    "1       200\n",
    "2    python\n",
    "3    300.12\n",
    "4       400\n",
    "dtype: object\n",
    "0       100\n",
    "1       200\n",
    "3    300.12\n",
    "4       400\n",
    "2    python\n",
    "dtype: object"
   ]
  },
  {
   "cell_type": "code",
   "execution_count": 57,
   "id": "7df857c6",
   "metadata": {},
   "outputs": [
    {
     "name": "stdout",
     "output_type": "stream",
     "text": [
      "Original Data Series:\n",
      "0       100\n",
      "1       200\n",
      "2    python\n",
      "3    300.12\n",
      "4       400\n",
      "dtype: object\n",
      "0       100\n",
      "1       200\n",
      "3    300.12\n",
      "4       400\n",
      "2    python\n",
      "dtype: object\n"
     ]
    }
   ],
   "source": [
    "import pandas as pd\n",
    "s = pd.Series(['100', '200', 'python', '300.12', '400'])\n",
    "print(\"Original Data Series:\")\n",
    "print(s)\n",
    "new_s = pd.Series(s).sort_values()\n",
    "print(new_s)\n"
   ]
  },
  {
   "cell_type": "markdown",
   "id": "bee8da0d",
   "metadata": {},
   "source": [
    "# 12. Write a Pandas program to add some data to an existing Series.\n",
    "Sample Output: \n",
    "Original Data Series:\n",
    "0       100\n",
    "1       200\n",
    "2    python\n",
    "3    300.12\n",
    "4       400\n",
    "dtype: object\n",
    "\n",
    "Data Series after adding some data:\n",
    "0       100\n",
    "1       200\n",
    "2    python\n",
    "3    300.12\n",
    "4       400\n",
    "5       500\n",
    "6       php\n",
    "dtype: object"
   ]
  },
  {
   "cell_type": "code",
   "execution_count": 58,
   "id": "f1def7e5",
   "metadata": {},
   "outputs": [
    {
     "name": "stdout",
     "output_type": "stream",
     "text": [
      "Original Data Series:\n",
      "0       100\n",
      "1       200\n",
      "2    python\n",
      "3    300.12\n",
      "4       400\n",
      "dtype: object\n",
      "\n",
      "Data Series after adding some data:\n",
      "0       100\n",
      "1       200\n",
      "2    python\n",
      "3    300.12\n",
      "4       400\n",
      "5       500\n",
      "6       php\n",
      "dtype: object\n"
     ]
    }
   ],
   "source": [
    "import pandas as pd\n",
    "s = pd.Series(['100', '200', 'python', '300.12', '400'])\n",
    "print(\"Original Data Series:\")\n",
    "print(s)\n",
    "print(\"\\nData Series after adding some data:\")\n",
    "new_s = pd.concat([s, pd.Series([500, \"php\"])], ignore_index=True)\n",
    "print(new_s)\n"
   ]
  },
  {
   "cell_type": "markdown",
   "id": "057e1fe2",
   "metadata": {},
   "source": [
    "# 13. Write a Pandas program to create a subset of a given series based on value and condition.\n",
    "Sample Output:\n",
    "Original Data Series:\n",
    "0      0\n",
    "1      1\n",
    "2      2\n",
    "\n",
    "....\n",
    "\n",
    "9      9\n",
    "10    10\n",
    "dtype: int64\n",
    "\n",
    "Subset of the above Data Series:\n",
    "0    0\n",
    "1    1\n",
    "2    2\n",
    "3    3\n",
    "4    4\n",
    "5    5\n",
    "dtype: int64"
   ]
  },
  {
   "cell_type": "code",
   "execution_count": 59,
   "id": "be4ce974",
   "metadata": {},
   "outputs": [
    {
     "name": "stdout",
     "output_type": "stream",
     "text": [
      "Original Data Series:\n",
      "0      0\n",
      "1      1\n",
      "2      2\n",
      "3      3\n",
      "4      4\n",
      "5      5\n",
      "6      6\n",
      "7      7\n",
      "8      8\n",
      "9      9\n",
      "10    10\n",
      "dtype: int64\n",
      "\n",
      "Subset of the above Data Series:\n",
      "0    0\n",
      "1    1\n",
      "2    2\n",
      "3    3\n",
      "4    4\n",
      "5    5\n",
      "dtype: int64\n"
     ]
    }
   ],
   "source": [
    "import pandas as pd\n",
    "s = pd.Series([0,1,2,3,4,5,6,7,8,9,10])\n",
    "print(\"Original Data Series:\")\n",
    "print(s)\n",
    "print(\"\\nSubset of the above Data Series:\")\n",
    "n = 6\n",
    "new_s = s[s < n]\n",
    "print(new_s)\n"
   ]
  },
  {
   "cell_type": "markdown",
   "id": "db7601e4",
   "metadata": {},
   "source": [
    "# 14. Write a Pandas program to change the order of index of a given series.\n",
    "Sample Output:\n",
    "Original Data Series:\n",
    "A    1\n",
    "B    2\n",
    "C    3\n",
    "D    4\n",
    "E    5\n",
    "dtype: int64\n",
    "Data Series after changing the order of index:\n",
    "B    2\n",
    "A    1\n",
    "C    3\n",
    "D    4\n",
    "E    5\n",
    "dtype: int64"
   ]
  },
  {
   "cell_type": "code",
   "execution_count": 60,
   "id": "e2b2f244",
   "metadata": {},
   "outputs": [
    {
     "name": "stdout",
     "output_type": "stream",
     "text": [
      "Original Data Series:\n",
      "A    1\n",
      "B    2\n",
      "C    3\n",
      "D    4\n",
      "E    5\n",
      "dtype: int64\n",
      "Data Series after changing the order of index:\n",
      "B    2\n",
      "A    1\n",
      "C    3\n",
      "D    4\n",
      "E    5\n",
      "dtype: int64\n"
     ]
    }
   ],
   "source": [
    "import pandas as pd\n",
    "s = pd.Series(data = [1,2,3,4,5], index = ['A', 'B', 'C','D','E'])\n",
    "print(\"Original Data Series:\")\n",
    "print(s)\n",
    "s = s.reindex(index = ['B','A','C','D','E'])\n",
    "print(\"Data Series after changing the order of index:\")\n",
    "print(s)\n"
   ]
  },
  {
   "cell_type": "markdown",
   "id": "1524152b",
   "metadata": {},
   "source": [
    "# 15. Write a Pandas program to create the mean and standard deviation of the data of a given Series.\n",
    "Sample Output:\n",
    "Original Data Series:\n",
    "0     1\n",
    "1     2\n",
    "2     3\n",
    "....\n",
    "7     8\n",
    "8     9\n",
    "9     5\n",
    "10    3\n",
    "dtype: int64\n",
    "Mean of the said Data Series:\n",
    "4.818181818181818\n",
    "Standard deviation of the said Data Series:\n",
    "2.522624895547565"
   ]
  },
  {
   "cell_type": "code",
   "execution_count": 61,
   "id": "4f7e773b",
   "metadata": {},
   "outputs": [
    {
     "name": "stdout",
     "output_type": "stream",
     "text": [
      "Original Data Series:\n",
      "0     1\n",
      "1     2\n",
      "2     3\n",
      "3     4\n",
      "4     5\n",
      "5     6\n",
      "6     7\n",
      "7     8\n",
      "8     9\n",
      "9     5\n",
      "10    3\n",
      "dtype: int64\n",
      "Mean of the said Data Series:\n",
      "4.818181818181818\n",
      "Standard deviation of the said Data Series:\n",
      "2.522624895547565\n"
     ]
    }
   ],
   "source": [
    "import pandas as pd\n",
    "s = pd.Series(data = [1,2,3,4,5,6,7,8,9,5,3])\n",
    "print(\"Original Data Series:\")\n",
    "print(s)\n",
    "print(\"Mean of the said Data Series:\")\n",
    "print(s.mean())\n",
    "print(\"Standard deviation of the said Data Series:\")\n",
    "print(s.std())\n"
   ]
  },
  {
   "cell_type": "markdown",
   "id": "c264f52c",
   "metadata": {},
   "source": [
    "# 16. Write a Pandas program to get the items of a given series not present in another given series.\n",
    "Sample Output:  \n",
    "Original Series:\n",
    "sr1:\n",
    "0    1\n",
    "1    2\n",
    "2    3\n",
    "3    4\n",
    "4    5\n",
    "dtype: int64\n",
    "sr2:\n",
    "0     2\n",
    "1     4\n",
    "2     6\n",
    "3     8\n",
    "4    10\n",
    "dtype: int64\n",
    "\n",
    "Items of sr1 not present in sr2:\n",
    "0    1\n",
    "2    3\n",
    "4    5\n",
    "dtype: int64"
   ]
  },
  {
   "cell_type": "code",
   "execution_count": 62,
   "id": "22e44a08",
   "metadata": {},
   "outputs": [
    {
     "name": "stdout",
     "output_type": "stream",
     "text": [
      "Original Series:\n",
      "sr1:\n",
      "0    1\n",
      "1    2\n",
      "2    3\n",
      "3    4\n",
      "4    5\n",
      "dtype: int64\n",
      "sr2:\n",
      "0     2\n",
      "1     4\n",
      "2     6\n",
      "3     8\n",
      "4    10\n",
      "dtype: int64\n",
      "\n",
      "Items of sr1 not present in sr2:\n",
      "0    1\n",
      "2    3\n",
      "4    5\n",
      "dtype: int64\n"
     ]
    }
   ],
   "source": [
    "import pandas as pd\n",
    "sr1 = pd.Series([1, 2, 3, 4, 5])\n",
    "sr2 = pd.Series([2, 4, 6, 8, 10])\n",
    "print(\"Original Series:\")\n",
    "print(\"sr1:\")\n",
    "print(sr1)\n",
    "print(\"sr2:\")\n",
    "print(sr2)\n",
    "print(\"\\nItems of sr1 not present in sr2:\")\n",
    "result = sr1[~sr1.isin(sr2)]\n",
    "print(result)\n"
   ]
  },
  {
   "cell_type": "markdown",
   "id": "05ceedd1",
   "metadata": {},
   "source": [
    "# 17. Write a Pandas program to get the items which are not common of two given series.\n",
    "Sample Output: \n",
    "Original Series:\n",
    "sr1: \n",
    "0    1 \n",
    "1    2 \n",
    "2    3 \n",
    "3    4 \n",
    "4    5\n",
    "dtype: int64\n",
    "sr2:\n",
    "0     2\n",
    "1     4 \n",
    "2     6 \n",
    "3     8\n",
    "4    10 \n",
    "dtype: int64 \n",
    "\n",
    "Items of a given series not present in another given series: \n",
    "0     1 \n",
    "2     3 \n",
    "4     5 \n",
    "5     6 \n",
    "6     8\n",
    "7    10 \n",
    "dtype: int64"
   ]
  },
  {
   "cell_type": "code",
   "execution_count": 63,
   "id": "94250619",
   "metadata": {},
   "outputs": [
    {
     "name": "stdout",
     "output_type": "stream",
     "text": [
      "Original Series:\n",
      "sr1:\n",
      "0    1\n",
      "1    2\n",
      "2    3\n",
      "3    4\n",
      "4    5\n",
      "dtype: int64\n",
      "sr2:\n",
      "0     2\n",
      "1     4\n",
      "2     6\n",
      "3     8\n",
      "4    10\n",
      "dtype: int64\n",
      "\n",
      "Items of a given series not present in another given series:\n",
      "0     1\n",
      "2     3\n",
      "4     5\n",
      "5     6\n",
      "6     8\n",
      "7    10\n",
      "dtype: int64\n"
     ]
    }
   ],
   "source": [
    "import pandas as pd\n",
    "import numpy as np\n",
    "sr1 = pd.Series([1, 2, 3, 4, 5])\n",
    "sr2 = pd.Series([2, 4, 6, 8, 10])\n",
    "print(\"Original Series:\")\n",
    "print(\"sr1:\")\n",
    "print(sr1)\n",
    "print(\"sr2:\")\n",
    "print(sr2)\n",
    "print(\"\\nItems of a given series not present in another given series:\")\n",
    "sr11 = pd.Series(np.union1d(sr1, sr2))\n",
    "sr22 = pd.Series(np.intersect1d(sr1, sr2))\n",
    "result = sr11[~sr11.isin(sr22)]\n",
    "print(result)\n"
   ]
  },
  {
   "cell_type": "markdown",
   "id": "51928a12",
   "metadata": {},
   "source": [
    "# 18. Write a Pandas program to compute the minimum, 25th percentile, median, 75th, and maximum of a given series.\n",
    "Sample Output:\n",
    "Original Series:\n",
    "0      3.000938\n",
    "1     11.370722\n",
    "2     14.612143\n",
    "\n",
    "....\n",
    "\n",
    "17    14.118931\n",
    "18     8.247458\n",
    "19     5.526727\n",
    "dtype: float64\n",
    "\n",
    "Minimum, 25th percentile, median, 75th, and maximum of a given series:\n",
    "[ 3.00093811  8.09463867 10.23353705 12.21537733 14.61214321]"
   ]
  },
  {
   "cell_type": "code",
   "execution_count": 64,
   "id": "cd3844bc",
   "metadata": {},
   "outputs": [
    {
     "name": "stdout",
     "output_type": "stream",
     "text": [
      "Original Series:\n",
      "0      3.000938\n",
      "1     11.370722\n",
      "2     14.612143\n",
      "3      8.990256\n",
      "4     13.925283\n",
      "5     12.056875\n",
      "6     10.884719\n",
      "7      5.719827\n",
      "8      9.242017\n",
      "9     11.020006\n",
      "10     8.167892\n",
      "11    11.740654\n",
      "12     7.665620\n",
      "13    13.267388\n",
      "14    12.690883\n",
      "15     9.582355\n",
      "16     7.874878\n",
      "17    14.118931\n",
      "18     8.247458\n",
      "19     5.526727\n",
      "dtype: float64\n",
      "\n",
      "Minimum, 25th percentile, median, 75th, and maximum of a given series:\n",
      "[ 3.00093811  8.09463867 10.23353705 12.21537733 14.61214321]\n"
     ]
    }
   ],
   "source": [
    "import pandas as pd\n",
    "import numpy as np\n",
    "num_state = np.random.RandomState(100)\n",
    "num_series = pd.Series(num_state.normal(10, 4, 20))\n",
    "print(\"Original Series:\")\n",
    "print(num_series)\n",
    "result = np.percentile(num_series, q=[0, 25, 50, 75, 100])\n",
    "print(\"\\nMinimum, 25th percentile, median, 75th, and maximum of a given series:\")\n",
    "print(result)\n"
   ]
  },
  {
   "cell_type": "markdown",
   "id": "eafbecfb",
   "metadata": {},
   "source": [
    "# 19. Write a Pandas program to calculate the frequency counts of each unique value of a given series.\n",
    "Sample Output:\n",
    "Original Series:\n",
    "0     1\n",
    "1     7\n",
    "2     1\n",
    "3     6\n",
    "\n",
    "...\n",
    "\n",
    "\n",
    "37    0\n",
    "38    4\n",
    "39    8\n",
    "dtype: object\n",
    "Frequency of each unique value of the said series.\n",
    "0    9\n",
    "2    7\n",
    "9    6\n",
    "....\n",
    "3    2\n",
    "4    1\n",
    "5    1\n",
    "dtype: int64"
   ]
  },
  {
   "cell_type": "code",
   "execution_count": 65,
   "id": "cea0a05c",
   "metadata": {},
   "outputs": [
    {
     "name": "stdout",
     "output_type": "stream",
     "text": [
      "Original Series:\n",
      "0     0\n",
      "1     6\n",
      "2     3\n",
      "3     3\n",
      "4     0\n",
      "5     0\n",
      "6     7\n",
      "7     5\n",
      "8     9\n",
      "9     1\n",
      "10    6\n",
      "11    1\n",
      "12    6\n",
      "13    8\n",
      "14    8\n",
      "15    7\n",
      "16    2\n",
      "17    5\n",
      "18    9\n",
      "19    0\n",
      "20    4\n",
      "21    9\n",
      "22    1\n",
      "23    5\n",
      "24    7\n",
      "25    4\n",
      "26    1\n",
      "27    0\n",
      "28    3\n",
      "29    5\n",
      "30    3\n",
      "31    3\n",
      "32    4\n",
      "33    1\n",
      "34    7\n",
      "35    8\n",
      "36    5\n",
      "37    7\n",
      "38    6\n",
      "39    2\n",
      "dtype: object\n",
      "Frequency of each unique value of the said series.\n",
      "0    5\n",
      "3    5\n",
      "7    5\n",
      "5    5\n",
      "1    5\n",
      "6    4\n",
      "9    3\n",
      "8    3\n",
      "4    3\n",
      "2    2\n",
      "dtype: int64\n"
     ]
    }
   ],
   "source": [
    "import pandas as pd\n",
    "import numpy as np\n",
    "num_series = pd.Series(np.take(list('0123456789'), np.random.randint(10, size=40)))\n",
    "print(\"Original Series:\")\n",
    "print(num_series)\n",
    "print(\"Frequency of each unique value of the said series.\")\n",
    "result = num_series.value_counts()\n",
    "print(result)\n"
   ]
  },
  {
   "cell_type": "markdown",
   "id": "e33342dd",
   "metadata": {},
   "source": [
    "# 20. Write a Pandas program to display most frequent value in a given series and replace everything else as 'Other' in the series.\n",
    "Sample Output:\n",
    "Original Series:\n",
    "0     3\n",
    "1     1\n",
    "2     1\n",
    "3     3\n",
    "...\n",
    "12    2\n",
    "13    3\n",
    "14    3\n",
    "dtype: int64\n",
    "Top 2 Freq: 2    6\n",
    "3    5\n",
    "1    4\n",
    "dtype: int64\n",
    "0     Other\n",
    "1     Other\n",
    "2     Other\n",
    "3     Other\n",
    "...\n",
    "11        2\n",
    "12        2\n",
    "13    Other\n",
    "14    Other\n",
    "dtype: object"
   ]
  },
  {
   "cell_type": "code",
   "execution_count": 66,
   "id": "cb00bf8b",
   "metadata": {},
   "outputs": [
    {
     "name": "stdout",
     "output_type": "stream",
     "text": [
      "Original Series:\n",
      "0     4\n",
      "1     3\n",
      "2     4\n",
      "3     2\n",
      "4     4\n",
      "5     2\n",
      "6     2\n",
      "7     2\n",
      "8     4\n",
      "9     2\n",
      "10    4\n",
      "11    4\n",
      "12    2\n",
      "13    2\n",
      "14    1\n",
      "dtype: int32\n",
      "Top 2 Freq: 2    7\n",
      "4    6\n",
      "3    1\n",
      "1    1\n",
      "dtype: int64\n",
      "0     Other\n",
      "1     Other\n",
      "2     Other\n",
      "3         2\n",
      "4     Other\n",
      "5         2\n",
      "6         2\n",
      "7         2\n",
      "8     Other\n",
      "9         2\n",
      "10    Other\n",
      "11    Other\n",
      "12        2\n",
      "13        2\n",
      "14    Other\n",
      "dtype: object\n"
     ]
    }
   ],
   "source": [
    "import pandas as pd\n",
    "import numpy as np\n",
    "num_series = pd.Series(np.random.randint(1, 5, [15]))\n",
    "print(\"Original Series:\")\n",
    "print(num_series)\n",
    "print(\"Top 2 Freq:\", num_series.value_counts())\n",
    "result = num_series[~num_series.isin(num_series.value_counts().index[:1])] = 'Other'\n",
    "print(num_series)\n"
   ]
  },
  {
   "cell_type": "markdown",
   "id": "f6b7e763",
   "metadata": {},
   "source": [
    "# 21. Write a Pandas program to find the positions of numbers that are multiples of 5 of a given series.\n",
    "Sample Output:\n",
    "Original Series:\n",
    "0 1\n",
    "1 9\n",
    "2 8\n",
    "3 6\n",
    "4 9\n",
    "5 7\n",
    "6 1\n",
    "7 1\n",
    "8 1\n",
    "dtype: int64\n",
    "Positions of numbers that are multiples of 5:\n",
    "[]"
   ]
  },
  {
   "cell_type": "code",
   "execution_count": 67,
   "id": "d45d6988",
   "metadata": {},
   "outputs": [
    {
     "name": "stdout",
     "output_type": "stream",
     "text": [
      "Original Series:\n",
      "0    1\n",
      "1    8\n",
      "2    6\n",
      "3    5\n",
      "4    6\n",
      "5    9\n",
      "6    8\n",
      "7    7\n",
      "8    7\n",
      "dtype: int32\n",
      "Positions of numbers that are multiples of 5:\n",
      "(array([3], dtype=int64),)\n"
     ]
    }
   ],
   "source": [
    "import pandas as pd\n",
    "import numpy as np\n",
    "num_series = pd.Series(np.random.randint(1, 10, 9))\n",
    "print(\"Original Series:\")\n",
    "print(num_series)\n",
    "result = np.where(num_series % 5==0)\n",
    "print(\"Positions of numbers that are multiples of 5:\")\n",
    "print(result)\n"
   ]
  },
  {
   "cell_type": "markdown",
   "id": "0e3f7428",
   "metadata": {},
   "source": [
    "# 22. Write a Pandas program to extract items at given positions of a given series.\n",
    "Sample Output:  \n",
    "Original Series:\n",
    "0     2\n",
    "1     3\n",
    "2     9\n",
    "3     0\n",
    "4     2\n",
    "5     3\n",
    "...\n",
    "\n",
    "19    0\n",
    "20    2 \n",
    "21    3\n",
    "dtype: object\n",
    "\n",
    "Extract items at given positions of the said series: \n",
    "0     2\n",
    "2     9\n",
    "6     8\n",
    "11    0\n",
    "21    3\n",
    "dtype: object"
   ]
  },
  {
   "cell_type": "code",
   "execution_count": 68,
   "id": "e395ba21",
   "metadata": {},
   "outputs": [
    {
     "name": "stdout",
     "output_type": "stream",
     "text": [
      "Original Series:\n",
      "0     2\n",
      "1     3\n",
      "2     9\n",
      "3     0\n",
      "4     2\n",
      "5     3\n",
      "6     8\n",
      "7     9\n",
      "8     2\n",
      "9     3\n",
      "10    9\n",
      "11    0\n",
      "12    2\n",
      "13    3\n",
      "14    9\n",
      "15    0\n",
      "16    2\n",
      "17    3\n",
      "18    9\n",
      "19    0\n",
      "20    2\n",
      "21    3\n",
      "dtype: object\n",
      "\n",
      "Extract items at given positions of the said series:\n",
      "0     2\n",
      "2     9\n",
      "6     8\n",
      "11    0\n",
      "21    3\n",
      "dtype: object\n"
     ]
    }
   ],
   "source": [
    "import pandas as pd\n",
    "num_series = pd.Series(list('2390238923902390239023'))\n",
    "element_pos = [0, 2, 6, 11, 21]\n",
    "print(\"Original Series:\")\n",
    "print(num_series)\n",
    "result = num_series.take(element_pos)\n",
    "print(\"\\nExtract items at given positions of the said series:\")\n",
    "print(result)\n"
   ]
  },
  {
   "cell_type": "markdown",
   "id": "73e4600c",
   "metadata": {},
   "source": [
    "# 23. Write a Pandas program to get the positions of items of a given series in another given series.\n",
    "Sample Output:  \n",
    "Original Series:\n",
    "0     1\n",
    "1     2\n",
    "2     3\n",
    "3     4\n",
    "4     5\n",
    "5     6\n",
    "6     7\n",
    "7     8\n",
    "8     9\n",
    "9    10\n",
    "dtype: int64\n",
    "0     1\n",
    "1     3\n",
    "2     5\n",
    "3     7\n",
    "4    10\n",
    "dtype: int64\n",
    "Positions of items of series2 in series1:\n",
    "[0, 2, 4, 6, 9]"
   ]
  },
  {
   "cell_type": "code",
   "execution_count": 69,
   "id": "8fb412ba",
   "metadata": {},
   "outputs": [
    {
     "name": "stdout",
     "output_type": "stream",
     "text": [
      "Original Series:\n",
      "0     1\n",
      "1     2\n",
      "2     3\n",
      "3     4\n",
      "4     5\n",
      "5     6\n",
      "6     7\n",
      "7     8\n",
      "8     9\n",
      "9    10\n",
      "dtype: int64\n",
      "0     1\n",
      "1     3\n",
      "2     5\n",
      "3     7\n",
      "4    10\n",
      "dtype: int64\n",
      "Positions of items of series2 in series1:\n",
      "[0, 2, 4, 6, 9]\n"
     ]
    }
   ],
   "source": [
    "import pandas as pd\n",
    "series1 = pd.Series([1, 2, 3, 4, 5, 6, 7, 8, 9, 10])\n",
    "series2 = pd.Series([1, 3, 5, 7, 10])\n",
    "print(\"Original Series:\")\n",
    "print(series1)\n",
    "print(series2)\n",
    "result = [pd.Index(series1).get_loc(i) for i in series2]\n",
    "print(\"Positions of items of series2 in series1:\")\n",
    "print(result)\n"
   ]
  },
  {
   "cell_type": "markdown",
   "id": "836df563",
   "metadata": {},
   "source": [
    "# 24. Write a Pandas program convert the first and last character of each word to upper case in each word of a given series.\n",
    "Sample Output:\n",
    "Original Series:\n",
    "0       php\n",
    "1    python\n",
    "2      java\n",
    "3        c#\n",
    "dtype: object\n",
    "\n",
    "First and last character of each word to upper case:\n",
    "0       PhP\n",
    "1    PythoN\n",
    "2      JavA\n",
    "3        C#\n",
    "dtype: object"
   ]
  },
  {
   "cell_type": "code",
   "execution_count": 70,
   "id": "6e2f4868",
   "metadata": {},
   "outputs": [
    {
     "name": "stdout",
     "output_type": "stream",
     "text": [
      "Original Series:\n",
      "0       php\n",
      "1    python\n",
      "2      java\n",
      "3        c#\n",
      "dtype: object\n",
      "\n",
      "First and last character of each word to upper case:\n",
      "0       PhP\n",
      "1    PythoN\n",
      "2      JavA\n",
      "3        C#\n",
      "dtype: object\n"
     ]
    }
   ],
   "source": [
    "import pandas as pd\n",
    "series1 = pd.Series(['php', 'python', 'java', 'c#'])\n",
    "print(\"Original Series:\")\n",
    "print(series1)\n",
    "result = series1.map(lambda x: x[0].upper() + x[1:-1] + x[-1].upper())\n",
    "print(\"\\nFirst and last character of each word to upper case:\")\n",
    "print(result)\n"
   ]
  },
  {
   "cell_type": "markdown",
   "id": "ff65fa44",
   "metadata": {},
   "source": [
    "# 25. Write a Pandas program to calculate the number of characters in each word in a given series.\n",
    "Sample Output: \n",
    "Original Series:\n",
    "0       Php\n",
    "1    Python\n",
    "2      Java\n",
    "3        C#\n",
    "dtype: object\n",
    "\n",
    "Number of characters in each word in the said series:\n",
    "0    3\n",
    "1    6\n",
    "2    4\n",
    "3    2\n",
    "dtype: int64"
   ]
  },
  {
   "cell_type": "code",
   "execution_count": 71,
   "id": "b5a2bea4",
   "metadata": {},
   "outputs": [
    {
     "name": "stdout",
     "output_type": "stream",
     "text": [
      "Original Series:\n",
      "0       Php\n",
      "1    Python\n",
      "2      Java\n",
      "3        C#\n",
      "dtype: object\n",
      "\n",
      "Number of characters in each word in the said series:\n",
      "0    3\n",
      "1    6\n",
      "2    4\n",
      "3    2\n",
      "dtype: int64\n"
     ]
    }
   ],
   "source": [
    "import pandas as pd\n",
    "series1 = pd.Series(['Php', 'Python', 'Java', 'C#'])\n",
    "print(\"Original Series:\")\n",
    "print(series1)\n",
    "result = series1.map(lambda x: len(x))\n",
    "print(\"\\nNumber of characters in each word in the said series:\")\n",
    "print(result)\n"
   ]
  },
  {
   "cell_type": "markdown",
   "id": "2be6dd5c",
   "metadata": {},
   "source": [
    "# 26. Write a Pandas program to compute difference of differences between consecutive numbers of a given series.\n",
    "Sample Output:\n",
    "Original Series:\n",
    "0     1\n",
    "1     3\n",
    "2     5\n",
    "3     8\n",
    "4    10\n",
    "5    11\n",
    "6    15\n",
    "dtype: int64\n",
    "\n",
    "Difference of differences between consecutive numbers of the said series:\n",
    "[nan, 2.0, 2.0, 3.0, 2.0, 1.0, 4.0]\n",
    "[nan, nan, 0.0, 1.0, -1.0, -1.0, 3.0]"
   ]
  },
  {
   "cell_type": "code",
   "execution_count": 72,
   "id": "454216d0",
   "metadata": {},
   "outputs": [
    {
     "name": "stdout",
     "output_type": "stream",
     "text": [
      "Original Series:\n",
      "0     1\n",
      "1     3\n",
      "2     5\n",
      "3     8\n",
      "4    10\n",
      "5    11\n",
      "6    15\n",
      "dtype: int64\n",
      "\n",
      "Difference of differences between consecutive numbers of the said series:\n",
      "[nan, 2.0, 2.0, 3.0, 2.0, 1.0, 4.0]\n",
      "[nan, nan, 0.0, 1.0, -1.0, -1.0, 3.0]\n"
     ]
    }
   ],
   "source": [
    "import pandas as pd\n",
    "series1 = pd.Series([1, 3, 5, 8, 10, 11, 15])\n",
    "print(\"Original Series:\")\n",
    "print(series1)\n",
    "print(\"\\nDifference of differences between consecutive numbers of the said series:\")\n",
    "print(series1.diff().tolist())\n",
    "print(series1.diff().diff().tolist())\n"
   ]
  },
  {
   "cell_type": "markdown",
   "id": "c65a4f7d",
   "metadata": {},
   "source": [
    "# 27. Write a Pandas program to convert a series of date strings to a timeseries.\n",
    "Sample Output:\n",
    "Original Series:\n",
    "0         01 Jan 2015\n",
    "1          10-02-2016\n",
    "2            20180307\n",
    "3          2014/05/06\n",
    "4          2016-04-12\n",
    "5    2019-04-06T11:20\n",
    "dtype: object\n",
    "\n",
    "Series of date strings to a timeseries:\n",
    "0   2015-01-01 00:00:00\n",
    "1   2016-10-02 00:00:00\n",
    "2   2018-03-07 00:00:00\n",
    "3   2014-05-06 00:00:00\n",
    "4   2016-04-12 00:00:00\n",
    "5   2019-04-06 11:20:00\n",
    "dtype: datetime64[ns]"
   ]
  },
  {
   "cell_type": "code",
   "execution_count": 73,
   "id": "599d4fec",
   "metadata": {},
   "outputs": [
    {
     "name": "stdout",
     "output_type": "stream",
     "text": [
      "Original Series:\n",
      "0         01 Jan 2015\n",
      "1          10-02-2016\n",
      "2            20180307\n",
      "3          2014/05/06\n",
      "4          2016-04-12\n",
      "5    2019-04-06T11:20\n",
      "dtype: object\n",
      "\n",
      "Series of date strings to a timeseries:\n",
      "0   2015-01-01 00:00:00\n",
      "1   2016-10-02 00:00:00\n",
      "2   2018-03-07 00:00:00\n",
      "3   2014-05-06 00:00:00\n",
      "4   2016-04-12 00:00:00\n",
      "5   2019-04-06 11:20:00\n",
      "dtype: datetime64[ns]\n"
     ]
    }
   ],
   "source": [
    "import pandas as pd\n",
    "date_series = pd.Series(['01 Jan 2015', '10-02-2016', '20180307', '2014/05/06', '2016-04-12', '2019-04-06T11:20'])\n",
    "print(\"Original Series:\")\n",
    "print(date_series)\n",
    "print(\"\\nSeries of date strings to a timeseries:\")\n",
    "print(pd.to_datetime(date_series))\n"
   ]
  },
  {
   "cell_type": "markdown",
   "id": "1fd3b6a7",
   "metadata": {},
   "source": [
    "# 28. Write a Pandas program to get the day of month, day of year, week number and day of week from a given series of date strings.\n",
    "Sample Output: \n",
    "Original Series:\n",
    "0         01 Jan 2015\n",
    "1          10-02-2016\n",
    "2            20180307\n",
    "3          2014/05/06\n",
    "4          2016-04-12\n",
    "5    2019-04-06T11:20\n",
    "dtype: object\n",
    "Day of month:\n",
    "[1, 2, 7, 6, 12, 6]\n",
    "Day of year:\n",
    "[1, 276, 66, 126, 103, 96]\n",
    "Week number:\n",
    "[1, 39, 10, 19, 15, 14]\n",
    "Day of week:\n",
    "['Thursday', 'Sunday', 'Wednesday', 'Tuesday', 'Tuesday', 'Saturday']"
   ]
  },
  {
   "cell_type": "code",
   "execution_count": 76,
   "id": "93d8c7f8",
   "metadata": {},
   "outputs": [
    {
     "name": "stdout",
     "output_type": "stream",
     "text": [
      "Original Series:\n",
      "0         01 Jan 2015\n",
      "1          10-02-2016\n",
      "2            20180307\n",
      "3          2014/05/06\n",
      "4          2016-04-12\n",
      "5    2019-04-06T11:20\n",
      "dtype: object\n",
      "Day of month: [1, 2, 7, 6, 12, 6]\n",
      "Day of year: [1, 276, 66, 126, 103, 96]\n",
      "Week number: [1, 39, 10, 19, 15, 14]\n",
      "Day of week: ['Thursday', 'Sunday', 'Wednesday', 'Tuesday', 'Tuesday', 'Saturday']\n"
     ]
    },
    {
     "name": "stderr",
     "output_type": "stream",
     "text": [
      "C:\\Users\\Akshit Koche\\AppData\\Local\\Temp\\ipykernel_4036\\3165314787.py:16: FutureWarning: Series.dt.weekofyear and Series.dt.week have been deprecated. Please use Series.dt.isocalendar().week instead.\n",
      "  week_number = date_times.dt.week.tolist()\n"
     ]
    }
   ],
   "source": [
    "import pandas as pd\n",
    "\n",
    "# Create the original Series of date strings\n",
    "dates = pd.Series(['01 Jan 2015', '10-02-2016', '20180307', '2014/05/06', '2016-04-12', '2019-04-06T11:20'])\n",
    "\n",
    "# Convert the date strings to datetime objects\n",
    "date_times = pd.to_datetime(dates)\n",
    "\n",
    "# Extract the day of month\n",
    "day_of_month = date_times.dt.day.tolist()\n",
    "\n",
    "# Extract the day of year\n",
    "day_of_year = date_times.dt.dayofyear.tolist()\n",
    "\n",
    "# Extract the week number\n",
    "week_number = date_times.dt.week.tolist()\n",
    "\n",
    "# Extract the day of week\n",
    "day_of_week = date_times.dt.day_name().tolist()\n",
    "\n",
    "# Print the original series\n",
    "print(\"Original Series:\")\n",
    "print(dates)\n",
    "\n",
    "# Print the extracted information\n",
    "print(\"Day of month:\", day_of_month)\n",
    "print(\"Day of year:\", day_of_year)\n",
    "print(\"Week number:\", week_number)\n",
    "print(\"Day of week:\", day_of_week)\n"
   ]
  },
  {
   "cell_type": "markdown",
   "id": "bac99f25",
   "metadata": {},
   "source": [
    "# 29. Write a Pandas program to convert year-month string to dates adding a specified day of the month.\n",
    "Sample Output:\n",
    "Original Series:\n",
    "0    Jan 2015\n",
    "1    Feb 2016\n",
    "2    Mar 2017\n",
    "3    Apr 2018\n",
    "4    May 2019\n",
    "dtype: object\n",
    "\n",
    "New dates:\n",
    "0   2015-01-11\n",
    "1   2016-02-11\n",
    "2   2017-03-11\n",
    "3   2018-04-11\n",
    "4   2019-05-11\n",
    "dtype: datetime64[ns]"
   ]
  },
  {
   "cell_type": "code",
   "execution_count": 75,
   "id": "9d3da205",
   "metadata": {},
   "outputs": [
    {
     "name": "stdout",
     "output_type": "stream",
     "text": [
      "Original Series:\n",
      "0    Jan 2015\n",
      "1    Feb 2016\n",
      "2    Mar 2017\n",
      "3    Apr 2018\n",
      "4    May 2019\n",
      "dtype: object\n",
      "\n",
      "New dates:\n",
      "0   2015-01-11\n",
      "1   2016-02-11\n",
      "2   2017-03-11\n",
      "3   2018-04-11\n",
      "4   2019-05-11\n",
      "dtype: datetime64[ns]\n"
     ]
    }
   ],
   "source": [
    "import pandas as pd\n",
    "from dateutil.parser import parse\n",
    "date_series = pd.Series(['Jan 2015', 'Feb 2016', 'Mar 2017', 'Apr 2018', 'May 2019'])\n",
    "print(\"Original Series:\")\n",
    "print(date_series)\n",
    "print(\"\\nNew dates:\")\n",
    "result = date_series.map(lambda d: parse('11 ' + d))\n",
    "print(result)\n"
   ]
  },
  {
   "cell_type": "markdown",
   "id": "dfb757e1",
   "metadata": {},
   "source": [
    "# 30. Write a Pandas program to filter words from a given series that contain atleast two vowels.\n",
    "Sample Output: \n",
    "Original Series:\n",
    "0       Red\n",
    "1     Green\n",
    "2    Orange\n",
    "3      Pink\n",
    "4    Yellow\n",
    "5     White\n",
    "dtype: object\n",
    "\n",
    "Filtered words:\n",
    "1     Green\n",
    "2    Orange\n",
    "4    Yellow\n",
    "5     White\n",
    "dtype: object"
   ]
  },
  {
   "cell_type": "code",
   "execution_count": 20,
   "id": "e5f3539e",
   "metadata": {},
   "outputs": [
    {
     "name": "stdout",
     "output_type": "stream",
     "text": [
      "Original Series:\n",
      "0       Red\n",
      "1     Green\n",
      "2    Orange\n",
      "3      Pink\n",
      "4    Yellow\n",
      "5     White\n",
      "dtype: object\n",
      "\n",
      "Filtered words:\n",
      "1     Green\n",
      "2    Orange\n",
      "4    Yellow\n",
      "5     White\n",
      "dtype: object\n"
     ]
    }
   ],
   "source": [
    "import pandas as pd\n",
    "from collections import Counter\n",
    "color_series = pd.Series(['Red', 'Green', 'Orange', 'Pink', 'Yellow', 'White'])\n",
    "print(\"Original Series:\")\n",
    "print(color_series)\n",
    "print(\"\\nFiltered words:\")\n",
    "result =color_series.map(lambda c: sum([Counter(c.lower()).get(i, 0) for i in list('aeiou')]) >= 2)\n",
    "print(color_series[result])\n"
   ]
  },
  {
   "cell_type": "markdown",
   "id": "04aa9642",
   "metadata": {},
   "source": [
    "# 31. Write a Pandas program to compute the Euclidean distance between two given series.\n",
    "Euclidean distance\n",
    "From Wikipedia,\n",
    "In mathematics, the Euclidean distance or Euclidean metric is the \"ordinary\" straight-line distance between two points in Euclidean space. With this distance, Euclidean space becomes a metric space. The associated norm is called the Euclidean norm.\n",
    "Sample Output:\n",
    "Original series:\n",
    "0     1\n",
    "1     2\n",
    "2     3\n",
    "3     4\n",
    "4     5\n",
    "5     6\n",
    "6     7\n",
    "7     8\n",
    "8     9\n",
    "9    10\n",
    "dtype: int64\n",
    "0    11\n",
    "1     8\n",
    "2     7\n",
    "3     5\n",
    "4     6\n",
    "5     5\n",
    "6     3\n",
    "7     4\n",
    "8     7\n",
    "9     1\n",
    "dtype: int64\n",
    "\n",
    "Euclidean distance between two said series:\n",
    "16.492422502470642"
   ]
  },
  {
   "cell_type": "code",
   "execution_count": 21,
   "id": "d590e280",
   "metadata": {},
   "outputs": [
    {
     "name": "stdout",
     "output_type": "stream",
     "text": [
      "Original series:\n",
      "0     1\n",
      "1     2\n",
      "2     3\n",
      "3     4\n",
      "4     5\n",
      "5     6\n",
      "6     7\n",
      "7     8\n",
      "8     9\n",
      "9    10\n",
      "dtype: int64\n",
      "0    11\n",
      "1     8\n",
      "2     7\n",
      "3     5\n",
      "4     6\n",
      "5     5\n",
      "6     3\n",
      "7     4\n",
      "8     7\n",
      "9     1\n",
      "dtype: int64\n",
      "\n",
      "Euclidean distance between two said series:\n",
      "16.492422502470642\n"
     ]
    }
   ],
   "source": [
    "# import pandas as pd\n",
    "import numpy as np\n",
    "x = pd.Series([1, 2, 3, 4, 5, 6, 7, 8, 9, 10])\n",
    "y = pd.Series([11, 8, 7, 5, 6, 5, 3, 4, 7, 1])\n",
    "print(\"Original series:\")\n",
    "print(x)\n",
    "print(y)\n",
    "print(\"\\nEuclidean distance between two said series:\")\n",
    "print(np.linalg.norm(x-y))\n"
   ]
  },
  {
   "cell_type": "markdown",
   "id": "69f33b4c",
   "metadata": {},
   "source": [
    "# 32. Write a Pandas program to find the positions of the values neighboured by smaller values on both sides in a given series.\n",
    "Sample Output: \n",
    "Original series:\n",
    "0    1\n",
    "1    8\n",
    "2    7\n",
    "3    5\n",
    "4    6\n",
    "5    5\n",
    "6    3\n",
    "7    4\n",
    "8    7\n",
    "9    1\n",
    "dtype: int64\n",
    "\n",
    "Positions of the values surrounded by smaller values on both sides:\n",
    "[1 4 8]"
   ]
  },
  {
   "cell_type": "code",
   "execution_count": 22,
   "id": "b97fef45",
   "metadata": {},
   "outputs": [
    {
     "name": "stdout",
     "output_type": "stream",
     "text": [
      "Original series:\n",
      "0    1\n",
      "1    8\n",
      "2    7\n",
      "3    5\n",
      "4    6\n",
      "5    5\n",
      "6    3\n",
      "7    4\n",
      "8    7\n",
      "9    1\n",
      "dtype: int64\n",
      "\n",
      "Positions of the values surrounded by smaller values on both sides:\n",
      "[1 4 8]\n"
     ]
    }
   ],
   "source": [
    "import pandas as pd\n",
    "import numpy as np\n",
    "nums = pd.Series([1, 8, 7, 5, 6, 5, 3, 4, 7, 1])\n",
    "print(\"Original series:\")\n",
    "print(nums)\n",
    "print(\"\\nPositions of the values surrounded by smaller values on both sides:\")\n",
    "temp = np.diff(np.sign(np.diff(nums)))\n",
    "result = np.where(temp == -2)[0] + 1\n",
    "print(result)\n"
   ]
  },
  {
   "cell_type": "markdown",
   "id": "b0f51a88",
   "metadata": {},
   "source": [
    "# 33. Write a Pandas program to replace missing white spaces in a given string with the least frequent character.\n",
    "Sample Output:\n",
    "Original series:\n",
    "abc def abcdef icd\n",
    "c    3\n",
    "d    3\n",
    "     3\n",
    "b    2\n",
    "e    2\n",
    "a    2\n",
    "f    2\n",
    "i    1\n",
    "dtype: int64\n",
    "abcidefiabcdefiicd"
   ]
  },
  {
   "cell_type": "code",
   "execution_count": 29,
   "id": "084df797",
   "metadata": {},
   "outputs": [
    {
     "name": "stdout",
     "output_type": "stream",
     "text": [
      "Original series:\n",
      "abc def abcdef icd\n",
      "c    3\n",
      "     3\n",
      "d    3\n",
      "a    2\n",
      "b    2\n",
      "e    2\n",
      "f    2\n",
      "i    1\n",
      "dtype: int64\n",
      "abcidefiabcdefiicd\n"
     ]
    }
   ],
   "source": [
    "import pandas as pd\n",
    "str1 = 'abc def abcdef icd'\n",
    "print(\"Original series:\")\n",
    "print(str1)\n",
    "ser = pd.Series(list(str1))\n",
    "element_freq = ser.value_counts()\n",
    "print(element_freq)\n",
    "current_freq = element_freq.dropna().index[-1]\n",
    "result = \"\".join(ser.replace(' ', current_freq))\n",
    "print(result)\n"
   ]
  },
  {
   "cell_type": "markdown",
   "id": "be5b20d3",
   "metadata": {},
   "source": [
    "# 34. Write a Pandas program to compute the autocorrelations of a given numeric series.\n",
    "From Wikipedia:\n",
    "Autocorrelation, also known as serial correlation, is the correlation of a signal with a delayed copy of itself as a function of delay. Informally, it is the similarity between observations as a function of the time lag between them.\n",
    "Sample Output:\n",
    "Original series:\n",
    "0     13.207262\n",
    "1      4.098685\n",
    "2     -1.435534\n",
    "3     13.626760\n",
    "...\n",
    "13    -2.346193\n",
    "14    17.873884\n",
    "dtype: float64\n",
    "\n",
    "Autocorrelations of the said series:\n",
    "[-0.38, 0.1, -0.43, 0.03, 0.35, -0.2, 0.04, -0.59, 0.34, 0.11]"
   ]
  },
  {
   "cell_type": "code",
   "execution_count": 28,
   "id": "cacb4d31",
   "metadata": {},
   "outputs": [
    {
     "name": "stdout",
     "output_type": "stream",
     "text": [
      "Original series:\n",
      "0    -12.909202\n",
      "1     -0.045556\n",
      "2     -2.343093\n",
      "3     16.837853\n",
      "4      4.696617\n",
      "5     18.618280\n",
      "6      4.760670\n",
      "7     -0.825390\n",
      "8      3.672830\n",
      "9      4.774664\n",
      "10    19.887685\n",
      "11    19.918333\n",
      "12    21.762460\n",
      "13    29.143400\n",
      "14    -2.949902\n",
      "dtype: float64\n",
      "\n",
      "Autocorrelations of the said series:\n",
      "[0.27, 0.3, -0.26, -0.36, -0.06, 0.2, 0.72, 0.6, -0.06, 0.11]\n"
     ]
    }
   ],
   "source": [
    "import pandas as pd\n",
    "import numpy as np\n",
    "num_series = pd.Series(np.arange(15) + np.random.normal(1, 10, 15))\n",
    "print(\"Original series:\")\n",
    "print(num_series)\n",
    "autocorrelations = [num_series.autocorr(i).round(2) for i in range(11)]\n",
    "print(\"\\nAutocorrelations of the said series:\")\n",
    "print(autocorrelations[1:])\n"
   ]
  },
  {
   "cell_type": "markdown",
   "id": "01135d05",
   "metadata": {},
   "source": [
    "# 35. Write a Pandas program to create a TimeSeries to display all the Sundays of given year.\n",
    "Sample Output: \n",
    "All Sundays of 2019:\n",
    "0    2020-01-05\n",
    "1    2020-01-12\n",
    "2    2020-01-19\n",
    "3    2020-01-26\n",
    "4    2020-02-02\n",
    "5    2020-02-09\n",
    ".....\n",
    "48   2020-12-06 \n",
    "49   2020-12-13\n",
    "50   2020-12-20\n",
    "51   2020-12-27\n",
    "dtype: datetime64[ns]"
   ]
  },
  {
   "cell_type": "code",
   "execution_count": 27,
   "id": "cf6c5bf4",
   "metadata": {},
   "outputs": [
    {
     "name": "stdout",
     "output_type": "stream",
     "text": [
      "All Sundays of 2019:\n",
      "0    2020-01-05\n",
      "1    2020-01-12\n",
      "2    2020-01-19\n",
      "3    2020-01-26\n",
      "4    2020-02-02\n",
      "5    2020-02-09\n",
      "6    2020-02-16\n",
      "7    2020-02-23\n",
      "8    2020-03-01\n",
      "9    2020-03-08\n",
      "10   2020-03-15\n",
      "11   2020-03-22\n",
      "12   2020-03-29\n",
      "13   2020-04-05\n",
      "14   2020-04-12\n",
      "15   2020-04-19\n",
      "16   2020-04-26\n",
      "17   2020-05-03\n",
      "18   2020-05-10\n",
      "19   2020-05-17\n",
      "20   2020-05-24\n",
      "21   2020-05-31\n",
      "22   2020-06-07\n",
      "23   2020-06-14\n",
      "24   2020-06-21\n",
      "25   2020-06-28\n",
      "26   2020-07-05\n",
      "27   2020-07-12\n",
      "28   2020-07-19\n",
      "29   2020-07-26\n",
      "30   2020-08-02\n",
      "31   2020-08-09\n",
      "32   2020-08-16\n",
      "33   2020-08-23\n",
      "34   2020-08-30\n",
      "35   2020-09-06\n",
      "36   2020-09-13\n",
      "37   2020-09-20\n",
      "38   2020-09-27\n",
      "39   2020-10-04\n",
      "40   2020-10-11\n",
      "41   2020-10-18\n",
      "42   2020-10-25\n",
      "43   2020-11-01\n",
      "44   2020-11-08\n",
      "45   2020-11-15\n",
      "46   2020-11-22\n",
      "47   2020-11-29\n",
      "48   2020-12-06\n",
      "49   2020-12-13\n",
      "50   2020-12-20\n",
      "51   2020-12-27\n",
      "dtype: datetime64[ns]\n"
     ]
    }
   ],
   "source": [
    "import pandas as pd\n",
    "result = pd.Series(pd.date_range('2020-01-01', periods=52, freq='W-SUN'))\n",
    "print(\"All Sundays of 2019:\")\n",
    "print(result)\n"
   ]
  },
  {
   "cell_type": "markdown",
   "id": "aa4d97e4",
   "metadata": {},
   "source": [
    "# 36. Write a Pandas program to convert given series into a dataframe with its index as another column on the dataframe.\n",
    "Sample Output:\n",
    "  index  0\n",
    "0     A  0\n",
    "1     B  1\n",
    "2     C  2\n",
    "3     D  3\n",
    "4     E  4"
   ]
  },
  {
   "cell_type": "code",
   "execution_count": 26,
   "id": "0cb456b7",
   "metadata": {},
   "outputs": [
    {
     "name": "stdout",
     "output_type": "stream",
     "text": [
      "  index  0\n",
      "0     A  0\n",
      "1     B  1\n",
      "2     C  2\n",
      "3     D  3\n",
      "4     E  4\n"
     ]
    }
   ],
   "source": [
    "import numpy as np\n",
    "import pandas as pd\n",
    "char_list = list('ABCDEFGHIJKLMNOP')\n",
    "num_arra = np.arange(8)\n",
    "num_dict = dict(zip(char_list, num_arra))\n",
    "num_ser = pd.Series(num_dict)\n",
    "df = num_ser.to_frame().reset_index()\n",
    "print(df.head())\n"
   ]
  },
  {
   "cell_type": "markdown",
   "id": "90a71ace",
   "metadata": {},
   "source": [
    "# 37. Write a Pandas program to stack two given series vertically and horizontally.\n",
    "Sample Output:\n",
    "Original Series:\n",
    "0    0\n",
    "1    1\n",
    "2    2\n",
    "....\n",
    "7    7\n",
    "8    8\n",
    "9    9\n",
    "dtype: int64\n",
    "0    p\n",
    "1    q\n",
    "2    r\n",
    "....\n",
    "7    w\n",
    "8    x\n",
    "9    y\n",
    "dtype: object\n",
    "\n",
    "Stack two given series vertically and horizontally:\n",
    "   0  1\n",
    "0  0  p\n",
    "1  1  q\n",
    "2  2  r\n",
    ".....\n",
    "8  8  x\n",
    "9  9  y "
   ]
  },
  {
   "cell_type": "code",
   "execution_count": null,
   "id": "c463221e",
   "metadata": {},
   "outputs": [],
   "source": [
    "import pandas as pd\n",
    "series1 = pd.Series(range(10))\n",
    "series2 = pd.Series(list('pqrstuvwxy'))\n",
    "print(\"Original Series:\")\n",
    "print(series1)\n",
    "print(series2)\n",
    "series1.append(series2)\n",
    "df = pd.concat([series1, series2], axis=1)\n",
    "print(\"\\nStack two given series vertically and horizontally:\")\n",
    "print(df)\n"
   ]
  },
  {
   "cell_type": "markdown",
   "id": "fa7b211a",
   "metadata": {},
   "source": [
    "# 38. Write a Pandas program to check the equality of two given series.\n",
    "Sample Output: \n",
    "Original Series:\n",
    "0    1\n",
    "1    8\n",
    "2    7\n",
    "...\n",
    "7    4\n",
    "8    7\n",
    "9    1\n",
    "dtype: int64\n",
    "0    1\n",
    "1    8\n",
    "2    7\n",
    "3    5\n",
    ".....\n",
    "8    7\n",
    "9    1\n",
    "dtype: int64\n",
    "Check 2 series are equal or not?\n",
    "0    True\n",
    "1    True\n",
    "2    True\n",
    "....\n",
    "7    True\n",
    "8    True\n",
    "9    True\n",
    "dtype: bool"
   ]
  },
  {
   "cell_type": "code",
   "execution_count": 23,
   "id": "65d0d9f0",
   "metadata": {},
   "outputs": [
    {
     "name": "stdout",
     "output_type": "stream",
     "text": [
      "Original Series:\n",
      "0    1\n",
      "1    8\n",
      "2    7\n",
      "3    5\n",
      "4    6\n",
      "5    5\n",
      "6    3\n",
      "7    4\n",
      "8    7\n",
      "9    1\n",
      "dtype: int64\n",
      "0    1\n",
      "1    8\n",
      "2    7\n",
      "3    5\n",
      "4    6\n",
      "5    5\n",
      "6    3\n",
      "7    4\n",
      "8    7\n",
      "9    1\n",
      "dtype: int64\n",
      "Check 2 series are equal or not?\n",
      "0    True\n",
      "1    True\n",
      "2    True\n",
      "3    True\n",
      "4    True\n",
      "5    True\n",
      "6    True\n",
      "7    True\n",
      "8    True\n",
      "9    True\n",
      "dtype: bool\n"
     ]
    }
   ],
   "source": [
    "import pandas as pd\n",
    "nums1 = pd.Series([1, 8, 7, 5, 6, 5, 3, 4, 7, 1])\n",
    "nums2 = pd.Series([1, 8, 7, 5, 6, 5, 3, 4, 7, 1])\n",
    "print(\"Original Series:\")\n",
    "print(nums1)\n",
    "print(nums2)\n",
    "print(\"Check 2 series are equal or not?\")\n",
    "print(nums1 == nums2)\n"
   ]
  },
  {
   "cell_type": "markdown",
   "id": "2a0f057e",
   "metadata": {},
   "source": [
    "# 39. Write a Pandas program to find the index of the first occurrence of the smallest and largest value of a given series.\n",
    "Sample Output:\n",
    "Original Series:\n",
    "0     1\n",
    "1     3\n",
    "2     7\n",
    ".....\n",
    "7     1\n",
    "8     9\n",
    "9     0\n",
    "dtype: int64\n",
    "Index of the first occurrence of the smallest and largest value of the said series:\n",
    "9\n",
    "4"
   ]
  },
  {
   "cell_type": "code",
   "execution_count": 24,
   "id": "a3e7d2c3",
   "metadata": {},
   "outputs": [
    {
     "name": "stdout",
     "output_type": "stream",
     "text": [
      "Original Series:\n",
      "0     1\n",
      "1     3\n",
      "2     7\n",
      "3    12\n",
      "4    88\n",
      "5    23\n",
      "6     3\n",
      "7     1\n",
      "8     9\n",
      "9     0\n",
      "dtype: int64\n",
      "Index of the first occurrence of the smallest and largest value of the said series:\n",
      "9\n",
      "4\n"
     ]
    }
   ],
   "source": [
    "import pandas as pd\n",
    "nums = pd.Series([1, 3, 7, 12, 88, 23, 3, 1, 9, 0])\n",
    "print(\"Original Series:\")\n",
    "print(nums)\n",
    "print(\"Index of the first occurrence of the smallest and largest value of the said series:\")\n",
    "print(nums.idxmin())\n",
    "print(nums.idxmax())\n"
   ]
  },
  {
   "cell_type": "markdown",
   "id": "fde9c871",
   "metadata": {},
   "source": [
    "# 40. Write a Pandas program to check inequality over the index axis of a given dataframe and a given series.\n",
    "Sample Output: \n",
    "Original DataFrame:\n",
    "      W     X   Y   Z\n",
    "0  68.0  78.0  84  86\n",
    "1  75.0  75.0  94  97\n",
    "2  86.0   NaN  89  96\n",
    "3  80.0  80.0  86  72\n",
    "4   NaN  86.0  86  83\n",
    "\n",
    "Original Series:\n",
    "0    68.0\n",
    "1    75.0\n",
    "2    86.0\n",
    "3    80.0\n",
    "4     NaN\n",
    "dtype: float64\n",
    "\n",
    "Check for inequality of the said series & dataframe:\n",
    "       W      X     Y     Z\n",
    "0  False   True  True  True\n",
    "1  False  False  True  True\n",
    "2  False   True  True  True\n",
    "3  False  False  True  True\n",
    "4   True   True  True  True"
   ]
  },
  {
   "cell_type": "code",
   "execution_count": 25,
   "id": "ab7f2590",
   "metadata": {},
   "outputs": [
    {
     "name": "stdout",
     "output_type": "stream",
     "text": [
      "Original DataFrame:\n",
      "      W     X   Y   Z\n",
      "0  68.0  78.0  84  86\n",
      "1  75.0  75.0  94  97\n",
      "2  86.0   NaN  89  96\n",
      "3  80.0  80.0  86  72\n",
      "4   NaN  86.0  86  83\n",
      "\n",
      "Original Series:\n",
      "0    68.0\n",
      "1    75.0\n",
      "2    86.0\n",
      "3    80.0\n",
      "4     NaN\n",
      "dtype: float64\n",
      "\n",
      "Check for inequality of the said series & dataframe:\n",
      "       W      X     Y     Z\n",
      "0  False   True  True  True\n",
      "1  False  False  True  True\n",
      "2  False   True  True  True\n",
      "3  False  False  True  True\n",
      "4   True   True  True  True\n"
     ]
    }
   ],
   "source": [
    "import pandas as pd\n",
    "df_data = pd.DataFrame({'W':[68,75,86,80,None],'X':[78,75,None,80,86], 'Y':[84,94,89,86,86],'Z':[86,97,96,72,83]});\n",
    "sr_data = pd.Series([68, 75, 86, 80, None]) \n",
    "print(\"Original DataFrame:\")\n",
    "print(df_data)\n",
    "print(\"\\nOriginal Series:\")\n",
    "print(sr_data)\n",
    "print(\"\\nCheck for inequality of the said series & dataframe:\")\n",
    "print(df_data.ne(sr_data, axis = 0))\n",
    "\n"
   ]
  },
  {
   "cell_type": "code",
   "execution_count": null,
   "id": "db27b3b5",
   "metadata": {},
   "outputs": [],
   "source": []
  },
  {
   "cell_type": "code",
   "execution_count": null,
   "id": "b34861e0",
   "metadata": {},
   "outputs": [],
   "source": []
  }
 ],
 "metadata": {
  "kernelspec": {
   "display_name": "Python 3 (ipykernel)",
   "language": "python",
   "name": "python3"
  },
  "language_info": {
   "codemirror_mode": {
    "name": "ipython",
    "version": 3
   },
   "file_extension": ".py",
   "mimetype": "text/x-python",
   "name": "python",
   "nbconvert_exporter": "python",
   "pygments_lexer": "ipython3",
   "version": "3.10.9"
  }
 },
 "nbformat": 4,
 "nbformat_minor": 5
}
