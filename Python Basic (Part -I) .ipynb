{
 "cells": [
  {
   "cell_type": "markdown",
   "id": "c8fe243e",
   "metadata": {},
   "source": [
    "# 1. Write a Python program to print the following string in a specific format (see the output).\n",
    "Sample String : \"Twinkle, twinkle, little star, How I wonder what you are! Up above the world so high, Like a diamond in the sky. Twinkle, twinkle, little star, How I wonder what you are\"\n",
    "Output :\n",
    "\n",
    "Twinkle, twinkle, little star,\n",
    "\tHow I wonder what you are! \n",
    "\t\tUp above the world so high,   \t\t\n",
    "\t\tLike a diamond in the sky. \n",
    "Twinkle, twinkle, little star, \n",
    "\tHow I wonder what you are\n"
   ]
  },
  {
   "cell_type": "code",
   "execution_count": 1,
   "id": "7c41fb3d",
   "metadata": {},
   "outputs": [
    {
     "ename": "SyntaxError",
     "evalue": "Missing parentheses in call to 'print'. Did you mean print(...)? (2477126155.py, line 1)",
     "output_type": "error",
     "traceback": [
      "\u001b[1;36m  Cell \u001b[1;32mIn[1], line 1\u001b[1;36m\u001b[0m\n\u001b[1;33m    Old: print \"The answer is\", 3*3\u001b[0m\n\u001b[1;37m         ^\u001b[0m\n\u001b[1;31mSyntaxError\u001b[0m\u001b[1;31m:\u001b[0m Missing parentheses in call to 'print'. Did you mean print(...)?\n"
     ]
    }
   ],
   "source": [
    "Old: print \"The answer is\", 3*3\n",
    "New: print(\"The answer is\", 3*23)\n",
    "\n",
    "Old: print a,           # Trailing comma suppresses newline\n",
    "New: print(a, end=\" \")  # Appends a space instead of a newline\n",
    "\n",
    "Old: print              # Prints a newline\n",
    "New: print()            # You must call the function!\n",
    "\n",
    "Old: print >>sys.stderr, \"fatal error\"\n",
    "New: print(\"fatal error\", file=sys.stderr)\n",
    "\n",
    "Old: print (a, b)       # prints repr((a, b))\n",
    "New: print((a, b))      # Not the same as print(a, b)"
   ]
  },
  {
   "cell_type": "markdown",
   "id": "b740f685",
   "metadata": {},
   "source": [
    "# 2. Write a Python program to find out what version of Python you are using."
   ]
  },
  {
   "cell_type": "code",
   "execution_count": null,
   "id": "507dc058",
   "metadata": {},
   "outputs": [],
   "source": [
    "import sys\n",
    "print(\"Python version\")\n",
    "print (sys.version)\n",
    "print(\"Version info.\")\n",
    "print (sys.version_info)\n"
   ]
  },
  {
   "cell_type": "markdown",
   "id": "9c1db452",
   "metadata": {},
   "source": [
    "# 3. Write a Python program to display the current date and time.\n",
    "Sample Output :\n",
    "Current date and time :\n",
    "2014-07-05 14:34:14\n"
   ]
  },
  {
   "cell_type": "code",
   "execution_count": null,
   "id": "59bd9061",
   "metadata": {},
   "outputs": [],
   "source": [
    "import datetime\n",
    "now = datetime.datetime.now()\n",
    "print (\"Current date and time : \")\n",
    "print (now.strftime(\"%Y-%m-%d %H:%M:%S\"))\n"
   ]
  },
  {
   "cell_type": "markdown",
   "id": "79e41589",
   "metadata": {},
   "source": [
    "# 4. Write a Python program that calculates the area of a circle based on the radius entered by the user.\n",
    "Sample Output :\n",
    "r = 1.1\n",
    "Area = 3.8013271108436504"
   ]
  },
  {
   "cell_type": "code",
   "execution_count": null,
   "id": "6481ffe3",
   "metadata": {},
   "outputs": [],
   "source": [
    "from math import pi\n",
    "r = float(input (\"Input the radius of the circle : \"))\n",
    "print (\"The area of the circle with radius \" + str(r) + \" is: \" + str(pi * r**2))\n"
   ]
  },
  {
   "cell_type": "markdown",
   "id": "7c20a5eb",
   "metadata": {},
   "source": [
    "# 5. Write a Python program that accepts the user's first and last name and prints them in reverse order with a space between them.\n",
    "\n"
   ]
  },
  {
   "cell_type": "code",
   "execution_count": null,
   "id": "66446897",
   "metadata": {},
   "outputs": [],
   "source": [
    "fname = input(\"Input your First Name : \")\n",
    "lname = input(\"Input your Last Name : \")\n",
    "print (\"Hello  \" + lname + \" \" + fname)\n"
   ]
  },
  {
   "cell_type": "markdown",
   "id": "0570f895",
   "metadata": {},
   "source": [
    "# 6. Write a Python program that accepts a sequence of comma-separated numbers from the user and generates a list and a tuple of those numbers.\n",
    "Sample data : 3, 5, 7, 23\n",
    "Output :\n",
    "List : ['3', ' 5', ' 7', ' 23']\n",
    "Tuple : ('3', ' 5', ' 7', ' 23')"
   ]
  },
  {
   "cell_type": "code",
   "execution_count": null,
   "id": "360dfe5a",
   "metadata": {},
   "outputs": [],
   "source": [
    "values = input(\"Input some comma seprated numbers : \")\n",
    "list = values.split(\",\")\n",
    "tuple = tuple(list)\n",
    "print('List : ',list)\n",
    "print('Tuple : ',tuple)\n"
   ]
  },
  {
   "cell_type": "markdown",
   "id": "c545ccfe",
   "metadata": {},
   "source": [
    "# 7. Write a Python program that accepts a filename from the user and prints the extension of the file.\n",
    "Sample filename : abc.java\n",
    "Output : java\n"
   ]
  },
  {
   "cell_type": "code",
   "execution_count": null,
   "id": "752b5ba3",
   "metadata": {},
   "outputs": [],
   "source": [
    "filename = input(\"Input the Filename: \")\n",
    "f_extns = filename.split(\".\")\n",
    "print (\"The extension of the file is : \" + repr(f_extns[-1]))\n"
   ]
  },
  {
   "cell_type": "markdown",
   "id": "7782ee12",
   "metadata": {},
   "source": [
    "# 8. Write a Python program to display the first and last colors from the following list.\n",
    "color_list = [\"Red\",\"Green\",\"White\" ,\"Black\"]\n"
   ]
  },
  {
   "cell_type": "code",
   "execution_count": null,
   "id": "f8a22393",
   "metadata": {},
   "outputs": [],
   "source": [
    "color_list = [\"Red\",\"Green\",\"White\" ,\"Black\"]\n",
    "print( \"%s %s\"%(color_list[0],color_list[-1]))\n"
   ]
  },
  {
   "cell_type": "markdown",
   "id": "697838b5",
   "metadata": {},
   "source": [
    "# 9. Write a Python program to display the examination schedule. (extract the date from exam_st_date).\n",
    "exam_st_date = (11, 12, 2014)\n",
    "Sample Output : The examination will start from : 11 / 12 / 2014\n"
   ]
  },
  {
   "cell_type": "code",
   "execution_count": 2,
   "id": "6bbf842f",
   "metadata": {},
   "outputs": [
    {
     "name": "stdout",
     "output_type": "stream",
     "text": [
      "The examination will start from : 11 / 12 / 2014\n"
     ]
    }
   ],
   "source": [
    "exam_st_date = (11,12,2014)\n",
    "print( \"The examination will start from : %i / %i / %i\"%exam_st_date)\n"
   ]
  },
  {
   "cell_type": "markdown",
   "id": "29a81f05",
   "metadata": {},
   "source": [
    "# 10. Write a Python program that accepts an integer (n) and computes the value of n+nn+nnn.\n",
    "Sample value of n is 5\n",
    "Expected Result : 615"
   ]
  },
  {
   "cell_type": "code",
   "execution_count": 3,
   "id": "c9fa1fdf",
   "metadata": {},
   "outputs": [
    {
     "name": "stdout",
     "output_type": "stream",
     "text": [
      "Input an integer : 5\n",
      "615\n"
     ]
    }
   ],
   "source": [
    "a = int(input(\"Input an integer : \"))\n",
    "n1 = int( \"%s\" % a )\n",
    "n2 = int( \"%s%s\" % (a,a) )\n",
    "n3 = int( \"%s%s%s\" % (a,a,a) )\n",
    "print (n1+n2+n3)\n"
   ]
  },
  {
   "cell_type": "markdown",
   "id": "b7074fea",
   "metadata": {},
   "source": [
    "# 11. Write a Python program to print the documents (syntax, description etc.) of Python built-in function(s).\n",
    "Sample function : abs()\n",
    "Expected Result :\n",
    "abs(number) -> number\n",
    "Return the absolute value of the argument.\n",
    "\n"
   ]
  },
  {
   "cell_type": "code",
   "execution_count": 4,
   "id": "31377e87",
   "metadata": {},
   "outputs": [
    {
     "name": "stdout",
     "output_type": "stream",
     "text": [
      "Return the absolute value of the argument.\n"
     ]
    }
   ],
   "source": [
    "print(abs.__doc__)"
   ]
  },
  {
   "cell_type": "markdown",
   "id": "c886040e",
   "metadata": {},
   "source": [
    "# 12. Write a Python program that prints the calendar for a given month and year.\n",
    "Note : Use 'calendar' module"
   ]
  },
  {
   "cell_type": "raw",
   "id": "883f7276",
   "metadata": {},
   "source": [
    "import calendar\n",
    "y = int(input(\"Input the year : \"))\n",
    "m = int(input(\"Input the month : \"))\n",
    "print(calendar.month(y, m))\n"
   ]
  },
  {
   "cell_type": "markdown",
   "id": "e2b0f037",
   "metadata": {},
   "source": [
    "# 13. Write a Python program to print the following 'here document'.\n",
    "Sample string :\n",
    "a string that you \"don't\" have to escape\n",
    "This\n",
    "is a ....... multi-line\n",
    "heredoc string --------> example"
   ]
  },
  {
   "cell_type": "code",
   "execution_count": 5,
   "id": "74a8dded",
   "metadata": {},
   "outputs": [
    {
     "name": "stdout",
     "output_type": "stream",
     "text": [
      "\n",
      "a string that you \"don't\" have to escape\n",
      "This\n",
      "is a  ....... multi-line\n",
      "heredoc string --------> example\n",
      "\n"
     ]
    }
   ],
   "source": [
    "print(\"\"\"\n",
    "a string that you \"don't\" have to escape\n",
    "This\n",
    "is a  ....... multi-line\n",
    "heredoc string --------> example\n",
    "\"\"\")\n"
   ]
  },
  {
   "cell_type": "markdown",
   "id": "5625d489",
   "metadata": {},
   "source": [
    "# 14. Write a Python program to calculate the number of days between two dates.\n",
    "Sample dates : (2014, 7, 2), (2014, 7, 11)\n",
    "Expected output : 9 days"
   ]
  },
  {
   "cell_type": "code",
   "execution_count": 6,
   "id": "ff8add49",
   "metadata": {},
   "outputs": [
    {
     "name": "stdout",
     "output_type": "stream",
     "text": [
      "9\n"
     ]
    }
   ],
   "source": [
    "from datetime import date\n",
    "f_date = date(2014, 7, 2)\n",
    "l_date = date(2014, 7, 11)\n",
    "delta = l_date - f_date\n",
    "print(delta.days)\n"
   ]
  },
  {
   "cell_type": "markdown",
   "id": "ac843519",
   "metadata": {},
   "source": [
    "# 15. Write a Python program to get the volume of a sphere with radius six."
   ]
  },
  {
   "cell_type": "code",
   "execution_count": 7,
   "id": "7a47344e",
   "metadata": {},
   "outputs": [
    {
     "name": "stdout",
     "output_type": "stream",
     "text": [
      "The volume of the sphere is:  904.7786842338603\n"
     ]
    }
   ],
   "source": [
    "pi = 3.1415926535897931\n",
    "r= 6.0\n",
    "V= 4.0/3.0*pi* r**3\n",
    "print('The volume of the sphere is: ',V)\n"
   ]
  },
  {
   "cell_type": "markdown",
   "id": "77093af6",
   "metadata": {},
   "source": [
    "# 16. Write a Python program to calculate the difference between a given number and 17. If the number is greater than 17, return twice the absolute difference."
   ]
  },
  {
   "cell_type": "code",
   "execution_count": 8,
   "id": "30bfb396",
   "metadata": {},
   "outputs": [
    {
     "name": "stdout",
     "output_type": "stream",
     "text": [
      "10\n",
      "3\n"
     ]
    }
   ],
   "source": [
    "def difference(n):\n",
    "    if n <= 17:\n",
    "        return 17 - n\n",
    "    else:\n",
    "        return (n - 17) * 2 \n",
    "\n",
    "print(difference(22))\n",
    "print(difference(14))\n"
   ]
  },
  {
   "cell_type": "markdown",
   "id": "6ba8d8ba",
   "metadata": {},
   "source": [
    "# 17. Write a Python program to test whether a number is within 100 of 1000 or 2000."
   ]
  },
  {
   "cell_type": "code",
   "execution_count": 9,
   "id": "9ef6af40",
   "metadata": {},
   "outputs": [
    {
     "name": "stdout",
     "output_type": "stream",
     "text": [
      "True\n",
      "True\n",
      "False\n",
      "False\n"
     ]
    }
   ],
   "source": [
    "def near_thousand(n):\n",
    "      return ((abs(1000 - n) <= 100) or (abs(2000 - n) <= 100))\n",
    "print(near_thousand(1000))\n",
    "print(near_thousand(900))\n",
    "print(near_thousand(800))   \n",
    "print(near_thousand(2200))\n"
   ]
  },
  {
   "cell_type": "markdown",
   "id": "406181f4",
   "metadata": {},
   "source": [
    "# 18. Write a Python program to calculate the sum of three given numbers. If the values are equal, return three times their sum."
   ]
  },
  {
   "cell_type": "code",
   "execution_count": 10,
   "id": "2bc60bbd",
   "metadata": {},
   "outputs": [
    {
     "name": "stdout",
     "output_type": "stream",
     "text": [
      "6\n",
      "27\n"
     ]
    }
   ],
   "source": [
    "def sum_thrice(x, y, z):\n",
    "\n",
    "     sum = x + y + z\n",
    "  \n",
    "     if x == y == z:\n",
    "      sum = sum * 3\n",
    "     return sum\n",
    "\n",
    "print(sum_thrice(1, 2, 3))\n",
    "print(sum_thrice(3, 3, 3))\n"
   ]
  },
  {
   "cell_type": "markdown",
   "id": "26a2fc7d",
   "metadata": {},
   "source": [
    "# 19. Write a Python program to get a newly-generated string from a given string where \"Is\" has been added to the front. Return the string unchanged if the given string already begins with \"Is\".\n"
   ]
  },
  {
   "cell_type": "code",
   "execution_count": 11,
   "id": "e846faad",
   "metadata": {},
   "outputs": [
    {
     "name": "stdout",
     "output_type": "stream",
     "text": [
      "IsArray\n",
      "IsEmpty\n"
     ]
    }
   ],
   "source": [
    "def new_string(text):\n",
    "      if len(text) >= 2 and text [:2] == \"Is\":\n",
    "        return text\n",
    "      return \"Is\" + text\n",
    "print(new_string(\"Array\"))\n",
    "print(new_string(\"IsEmpty\")) \n"
   ]
  },
  {
   "cell_type": "markdown",
   "id": "c06a4200",
   "metadata": {},
   "source": [
    "# 20. Write a Python program that returns a string that is n (non-negative integer) copies of a given string."
   ]
  },
  {
   "cell_type": "code",
   "execution_count": 12,
   "id": "6c7cce8d",
   "metadata": {},
   "outputs": [
    {
     "name": "stdout",
     "output_type": "stream",
     "text": [
      "abcabc\n",
      ".py.py.py\n"
     ]
    }
   ],
   "source": [
    "def larger_string(text, n):\n",
    "    result = \"\"\n",
    "    for i in range(n):\n",
    "        result = result + text\n",
    "    return result\n",
    "print(larger_string('abc', 2))\n",
    "print(larger_string('.py', 3)) \n"
   ]
  },
  {
   "cell_type": "markdown",
   "id": "663b83d9",
   "metadata": {},
   "source": [
    "# 21. Write a Python program that determines whether a given number (accepted from the user) is even or odd, and prints an appropriate message to the user."
   ]
  },
  {
   "cell_type": "code",
   "execution_count": 13,
   "id": "202a472a",
   "metadata": {},
   "outputs": [
    {
     "name": "stdout",
     "output_type": "stream",
     "text": [
      "Enter a number: 8\n",
      "This is an even number.\n"
     ]
    }
   ],
   "source": [
    "num = int(input(\"Enter a number: \"))\n",
    "mod = num % 2\n",
    "if mod > 0:\n",
    "    print(\"This is an odd number.\")\n",
    "else:\n",
    "    print(\"This is an even number.\")"
   ]
  },
  {
   "cell_type": "markdown",
   "id": "439a53e6",
   "metadata": {},
   "source": [
    "# 22. Write a Python program to count the number 4 in a given list."
   ]
  },
  {
   "cell_type": "code",
   "execution_count": 14,
   "id": "d12b1f04",
   "metadata": {},
   "outputs": [
    {
     "name": "stdout",
     "output_type": "stream",
     "text": [
      "2\n",
      "3\n"
     ]
    }
   ],
   "source": [
    "def list_count_4(nums):\n",
    "  count = 0  \n",
    "  for num in nums:\n",
    "    if num == 4:\n",
    "      count = count + 1\n",
    "\n",
    "  return count\n",
    "\n",
    "print(list_count_4([1, 4, 6, 7, 4]))\n",
    "print(list_count_4([1, 4, 6, 4, 7, 4]))\n"
   ]
  },
  {
   "cell_type": "markdown",
   "id": "300115c9",
   "metadata": {},
   "source": [
    "# 23. Write a Python program to get n (non-negative integer) copies of the first 2 characters of a given string. Return n copies of the whole string if the length is less than 2.\n"
   ]
  },
  {
   "cell_type": "code",
   "execution_count": 15,
   "id": "b315e8cb",
   "metadata": {},
   "outputs": [
    {
     "name": "stdout",
     "output_type": "stream",
     "text": [
      "abab\n",
      "ppp\n"
     ]
    }
   ],
   "source": [
    "def substring_copy(text, n):\n",
    "  flen = 2\n",
    "  if flen > len(text):\n",
    "    flen = len(text)\n",
    "  substr = text[:flen]\n",
    "  result = \"\"\n",
    "  for i in range(n):\n",
    "    result = result + substr\n",
    "  return result\n",
    "print(substring_copy('abcdef', 2))\n",
    "print(substring_copy('p', 3));\n"
   ]
  },
  {
   "cell_type": "markdown",
   "id": "f74ce039",
   "metadata": {},
   "source": [
    "# 24. Write a Python program to test whether a passed letter is a vowel or not."
   ]
  },
  {
   "cell_type": "code",
   "execution_count": 16,
   "id": "ed4c4ef3",
   "metadata": {},
   "outputs": [
    {
     "name": "stdout",
     "output_type": "stream",
     "text": [
      "False\n",
      "True\n"
     ]
    }
   ],
   "source": [
    "def is_vowel(char):\n",
    "    all_vowels = 'aeiou'\n",
    "    return char in all_vowels\n",
    "print(is_vowel('c'))\n",
    "print(is_vowel('e'))\n"
   ]
  },
  {
   "cell_type": "markdown",
   "id": "e551c227",
   "metadata": {},
   "source": [
    "# 25. Write a Python program that checks whether a specified value is contained within a group of values.\n",
    "Test Data :\n",
    "3 -> [1, 5, 8, 3] : True\n",
    "-1 -> [1, 5, 8, 3] : False"
   ]
  },
  {
   "cell_type": "code",
   "execution_count": 17,
   "id": "03ba10c8",
   "metadata": {},
   "outputs": [
    {
     "name": "stdout",
     "output_type": "stream",
     "text": [
      "True\n",
      "False\n"
     ]
    }
   ],
   "source": [
    "def is_group_member(group_data, n):\n",
    "   for value in group_data:\n",
    "       if n == value:\n",
    "           return True\n",
    "   return False\n",
    "print(is_group_member([1, 5, 8, 3], 3))\n",
    "print(is_group_member([5, 8, 3], -1))\n"
   ]
  },
  {
   "cell_type": "markdown",
   "id": "785e2a4b",
   "metadata": {},
   "source": [
    "# 26. Write a Python program to create a histogram from a given list of integers."
   ]
  },
  {
   "cell_type": "code",
   "execution_count": 18,
   "id": "410bf7e8",
   "metadata": {},
   "outputs": [
    {
     "name": "stdout",
     "output_type": "stream",
     "text": [
      "**\n",
      "***\n",
      "******\n",
      "*****\n"
     ]
    }
   ],
   "source": [
    "def histogram( items ):\n",
    "    for n in items:\n",
    "        output = ''\n",
    "        times = n\n",
    "        while( times > 0 ):\n",
    "          output += '*'\n",
    "          times = times - 1\n",
    "        print(output)\n",
    "\n",
    "histogram([2, 3, 6, 5])\n"
   ]
  },
  {
   "cell_type": "markdown",
   "id": "3462bac0",
   "metadata": {},
   "source": [
    "# 27. Write a Python program that concatenates all elements in a list into a string and returns it."
   ]
  },
  {
   "cell_type": "code",
   "execution_count": 19,
   "id": "66ac514b",
   "metadata": {},
   "outputs": [
    {
     "name": "stdout",
     "output_type": "stream",
     "text": [
      "15122\n"
     ]
    }
   ],
   "source": [
    "def concatenate_list_data(list):\n",
    "    result= ''\n",
    "    for element in list:\n",
    "        result += str(element)\n",
    "    return result\n",
    "\n",
    "print(concatenate_list_data([1, 5, 12, 2]))\n"
   ]
  },
  {
   "cell_type": "markdown",
   "id": "25afb57b",
   "metadata": {},
   "source": [
    "# 28. Write a Python program to print all even numbers from a given list of numbers in the same order and stop printing any after 237 in the sequence.\n",
    "Sample numbers list :\n",
    "\n",
    "numbers = [    \n",
    "    386, 462, 47, 418, 907, 344, 236, 375, 823, 566, 597, 978, 328, 615, 953, 345, \n",
    "    399, 162, 758, 219, 918, 237, 412, 566, 826, 248, 866, 950, 626, 949, 687, 217, \n",
    "    815, 67, 104, 58, 512, 24, 892, 894, 767, 553, 81, 379, 843, 831, 445, 742, 717, \n",
    "    958,743, 527\n",
    "    ]\n"
   ]
  },
  {
   "cell_type": "code",
   "execution_count": 20,
   "id": "3224a945",
   "metadata": {},
   "outputs": [
    {
     "name": "stdout",
     "output_type": "stream",
     "text": [
      "386\n",
      "462\n",
      "418\n",
      "344\n",
      "236\n",
      "566\n",
      "978\n",
      "328\n",
      "162\n",
      "758\n",
      "918\n",
      "237\n"
     ]
    }
   ],
   "source": [
    "numbers = [    \n",
    "    386, 462, 47, 418, 907, 344, 236, 375, 823, 566, 597, 978, 328, 615, 953, 345, \n",
    "    399, 162, 758, 219, 918, 237, 412, 566, 826, 248, 866, 950, 626, 949, 687, 217, \n",
    "    815, 67, 104, 58, 512, 24, 892, 894, 767, 553, 81, 379, 843, 831, 445, 742, 717, \n",
    "    958,743, 527\n",
    "    ]\n",
    "\n",
    "for x in numbers:\n",
    "    if x == 237:\n",
    "        print(x)\n",
    "        break;\n",
    "    elif x % 2 == 0:\n",
    "        print(x)\n",
    "\t\t"
   ]
  },
  {
   "cell_type": "markdown",
   "id": "9305eb77",
   "metadata": {},
   "source": [
    "# 29. Write a Python program that prints out all colors from color_list_1 that are not present in color_list_2.\n",
    "Test Data :\n",
    "color_list_1 = set([\"White\", \"Black\", \"Red\"])\n",
    "color_list_2 = set([\"Red\", \"Green\"])\n",
    "Expected Output :\n",
    "{'Black', 'White'}"
   ]
  },
  {
   "cell_type": "code",
   "execution_count": 21,
   "id": "1d9cb9da",
   "metadata": {},
   "outputs": [
    {
     "name": "stdout",
     "output_type": "stream",
     "text": [
      "Original set elements:\n",
      "{'White', 'Red', 'Black'}\n",
      "{'Green', 'Red'}\n",
      "\n",
      "Differenct of color_list_1 and color_list_2:\n",
      "{'White', 'Black'}\n",
      "\n",
      "Differenct of color_list_2 and color_list_1:\n",
      "{'Green'}\n"
     ]
    }
   ],
   "source": [
    "color_list_1 = set([\"White\", \"Black\", \"Red\"])\n",
    "color_list_2 = set([\"Red\", \"Green\"])\n",
    "print(\"Original set elements:\")\n",
    "print(color_list_1)\n",
    "print(color_list_2)\n",
    "print(\"\\nDifferenct of color_list_1 and color_list_2:\")\n",
    "print(color_list_1.difference(color_list_2))\n",
    "print(\"\\nDifferenct of color_list_2 and color_list_1:\")\n",
    "print(color_list_2.difference(color_list_1))\n"
   ]
  },
  {
   "cell_type": "markdown",
   "id": "b84fa108",
   "metadata": {},
   "source": [
    "# 30. Write a Python program that will accept the base and height of a triangle and compute its area."
   ]
  },
  {
   "cell_type": "code",
   "execution_count": 22,
   "id": "5550957e",
   "metadata": {},
   "outputs": [
    {
     "name": "stdout",
     "output_type": "stream",
     "text": [
      "Input the base : 9\n",
      "Input the height : 78\n",
      "area =  351.0\n"
     ]
    }
   ],
   "source": [
    "b = int(input(\"Input the base : \"))\n",
    "h = int(input(\"Input the height : \"))\n",
    "\n",
    "area = b*h/2\n",
    "\n",
    "print(\"area = \", area)\n"
   ]
  },
  {
   "cell_type": "markdown",
   "id": "adba10c4",
   "metadata": {},
   "source": [
    "# 31. Write a Python program that computes the greatest common divisor (GCD) of two positive integers."
   ]
  },
  {
   "cell_type": "code",
   "execution_count": 23,
   "id": "aa5fd796",
   "metadata": {},
   "outputs": [
    {
     "name": "stdout",
     "output_type": "stream",
     "text": [
      "GCD of 12 & 17 = 1\n",
      "GCD of 4 & 6 = 2\n",
      "GCD of 336 & 360 = 24\n"
     ]
    }
   ],
   "source": [
    "def gcd(x, y):\n",
    "   gcd = 1   \n",
    "   if x % y == 0:\n",
    "       return y   \n",
    "   for k in range(int(y / 2), 0, -1):\n",
    "       if x % k == 0 and y % k == 0:\n",
    "           gcd = k\n",
    "           break \n",
    "   return gcd\n",
    "print(\"GCD of 12 & 17 =\",gcd(12, 17))\n",
    "print(\"GCD of 4 & 6 =\",gcd(4, 6))\n",
    "print(\"GCD of 336 & 360 =\",gcd(336, 360))\n"
   ]
  },
  {
   "cell_type": "markdown",
   "id": "7f6c34a2",
   "metadata": {},
   "source": [
    "# 32. Write a Python program to find the least common multiple (LCM) of two positive integers.\n"
   ]
  },
  {
   "cell_type": "code",
   "execution_count": 148,
   "id": "92390619",
   "metadata": {},
   "outputs": [
    {
     "name": "stdout",
     "output_type": "stream",
     "text": [
      "12\n",
      "255\n"
     ]
    }
   ],
   "source": [
    "def lcm(x, y):\n",
    "  if x > y:\n",
    "      z = x\n",
    "  else:\n",
    "      z = y\n",
    "  while(True):\n",
    "      if((z % x == 0) and (z % y == 0)):\n",
    "          lcm = z\n",
    "          break\n",
    "      z += 1\n",
    "  return lcm\n",
    "print(lcm(4, 6))\n",
    "print(lcm(15, 17))\n"
   ]
  },
  {
   "cell_type": "markdown",
   "id": "8abcd17f",
   "metadata": {},
   "source": [
    "# 33. Write a Python program to sum three given integers. However, if two values are equal, the sum will be zero."
   ]
  },
  {
   "cell_type": "code",
   "execution_count": 25,
   "id": "5f86ef99",
   "metadata": {},
   "outputs": [
    {
     "name": "stdout",
     "output_type": "stream",
     "text": [
      "0\n",
      "0\n",
      "0\n",
      "6\n"
     ]
    }
   ],
   "source": [
    "def sum_three(x, y, z):\n",
    "    if x == y or y == z or x==z:\n",
    "        sum = 0\n",
    "    else:\n",
    "        sum = x + y + z\n",
    "    return sum\n",
    "print(sum_three(2, 1, 2))\n",
    "print(sum_three(3, 2, 2))\n",
    "print(sum_three(2, 2, 2))\n",
    "print(sum_three(1, 2, 3))\n"
   ]
  },
  {
   "cell_type": "markdown",
   "id": "e2d9761b",
   "metadata": {},
   "source": [
    "# 34. Write a Python program to sum two given integers. However, if the sum is between 15 and 20 it will return 20."
   ]
  },
  {
   "cell_type": "code",
   "execution_count": 26,
   "id": "37f33c37",
   "metadata": {},
   "outputs": [
    {
     "name": "stdout",
     "output_type": "stream",
     "text": [
      "20\n",
      "12\n",
      "22\n"
     ]
    }
   ],
   "source": [
    "def sum(x, y):\n",
    "    sum = x + y\n",
    "    if sum in range(15, 20):\n",
    "        return 20\n",
    "    else:\n",
    "        return sum\n",
    "\n",
    "print(sum(10, 6))\n",
    "print(sum(10, 2))\n",
    "print(sum(10, 12))\n"
   ]
  },
  {
   "cell_type": "markdown",
   "id": "c9dd78c0",
   "metadata": {},
   "source": [
    "# 35. Write a Python program that returns true if the two given integer values are equal or their sum or difference is 5.\n"
   ]
  },
  {
   "cell_type": "code",
   "execution_count": 27,
   "id": "613771da",
   "metadata": {},
   "outputs": [
    {
     "name": "stdout",
     "output_type": "stream",
     "text": [
      "True\n",
      "True\n",
      "True\n",
      "False\n",
      "False\n"
     ]
    }
   ],
   "source": [
    "def test_number5(x, y):\n",
    "   if x == y or abs(x-y) == 5 or (x+y) == 5:\n",
    "       return True\n",
    "   else:\n",
    "       return False\n",
    "print(test_number5(7, 2))\n",
    "print(test_number5(3, 2))\n",
    "print(test_number5(2, 2))\n",
    "print(test_number5(7, 3))\n",
    "print(test_number5(27, 53))\n"
   ]
  },
  {
   "cell_type": "markdown",
   "id": "c1a8348f",
   "metadata": {},
   "source": [
    "# 36. Write a Python program to add two objects if both objects are integers.\n"
   ]
  },
  {
   "cell_type": "code",
   "execution_count": 149,
   "id": "c44cd702",
   "metadata": {},
   "outputs": [
    {
     "name": "stdout",
     "output_type": "stream",
     "text": [
      "30\n",
      "Inputs must be integers!\n",
      "Inputs must be integers!\n",
      "Inputs must be integers!\n"
     ]
    }
   ],
   "source": [
    "def add_numbers(a, b):\n",
    "    if not (isinstance(a, int) and isinstance(b, int)):\n",
    "        return \"Inputs must be integers!\"\n",
    "    return a + b\n",
    "print(add_numbers(10, 20))\n",
    "print(add_numbers(10, 20.23))\n",
    "print(add_numbers('5', 6))\n",
    "print(add_numbers('5', '6'))\n"
   ]
  },
  {
   "cell_type": "markdown",
   "id": "2f1a4c45",
   "metadata": {},
   "source": [
    "# 37. Write a Python program that displays your name, age, and address on three different lines."
   ]
  },
  {
   "cell_type": "code",
   "execution_count": 29,
   "id": "7fbf71eb",
   "metadata": {},
   "outputs": [
    {
     "name": "stdout",
     "output_type": "stream",
     "text": [
      "Name: Simon\n",
      "Age: 19\n",
      "Address: Bangalore, Karnataka, India\n"
     ]
    }
   ],
   "source": [
    "def personal_details():\n",
    "    name, age = \"Simon\", 19\n",
    "    address = \"Bangalore, Karnataka, India\"\n",
    "    print(\"Name: {}\\nAge: {}\\nAddress: {}\".format(name, age, address))\n",
    "\n",
    "personal_details()\n"
   ]
  },
  {
   "cell_type": "markdown",
   "id": "fe2afc18",
   "metadata": {},
   "source": [
    "# 38. Write a Python program to solve (x + y) * (x + y).\n",
    "Test Data : x = 4, y = 3\n",
    "Expected Output : (4 + 3) ^ 2) = 49"
   ]
  },
  {
   "cell_type": "code",
   "execution_count": 30,
   "id": "12ae7cd6",
   "metadata": {},
   "outputs": [
    {
     "name": "stdout",
     "output_type": "stream",
     "text": [
      "(4 + 3) ^ 2) = 49\n"
     ]
    }
   ],
   "source": [
    "x, y = 4, 3\n",
    "result = x * x + 2 * x * y + y * y\n",
    "print(\"({} + {}) ^ 2) = {}\".format(x, y, result))\n"
   ]
  },
  {
   "cell_type": "markdown",
   "id": "2d15b0db",
   "metadata": {},
   "source": [
    "# 39. Write a Python program to compute the future value of a specified principal amount, rate of interest, and number of years.\n",
    "Test Data : amt = 10000, int = 3.5, years = 7\n",
    "Expected Output : 12722.79\n"
   ]
  },
  {
   "cell_type": "code",
   "execution_count": 31,
   "id": "c0a05839",
   "metadata": {},
   "outputs": [
    {
     "name": "stdout",
     "output_type": "stream",
     "text": [
      "12722.79\n"
     ]
    }
   ],
   "source": [
    "amt = 10000\n",
    "int = 3.5\n",
    "years = 7\n",
    "future_value = amt*((1+(0.01*int)) ** years)\n",
    "print(round(future_value,2))\n"
   ]
  },
  {
   "cell_type": "markdown",
   "id": "552414d3",
   "metadata": {},
   "source": [
    "# 40. Write a Python program to calculate the distance between the points (x1, y1) and (x2, y2).\n"
   ]
  },
  {
   "cell_type": "code",
   "execution_count": 32,
   "id": "5ef26ffe",
   "metadata": {},
   "outputs": [
    {
     "name": "stdout",
     "output_type": "stream",
     "text": [
      "6.324555320336759\n"
     ]
    }
   ],
   "source": [
    "import math\n",
    "p1 = [4, 0]\n",
    "p2 = [6, 6]\n",
    "distance = math.sqrt( ((p1[0]-p2[0])**2)+((p1[1]-p2[1])**2) )\n",
    "\n",
    "print(distance)\n"
   ]
  },
  {
   "cell_type": "markdown",
   "id": "ccb9f8e8",
   "metadata": {},
   "source": [
    "# 41. Write a Python program to check whether a file exists."
   ]
  },
  {
   "cell_type": "code",
   "execution_count": 33,
   "id": "666434cc",
   "metadata": {},
   "outputs": [
    {
     "name": "stdout",
     "output_type": "stream",
     "text": [
      "False\n",
      "False\n"
     ]
    }
   ],
   "source": [
    "import os.path\n",
    "print(os.path.isfile('main.txt'))\n",
    "print(os.path.isfile('main.py'))\n"
   ]
  },
  {
   "cell_type": "markdown",
   "id": "891689bf",
   "metadata": {},
   "source": [
    "# 42. Write a Python program to determine if a Python shell is executing in 32bit or 64bit mode on OS.\n"
   ]
  },
  {
   "cell_type": "code",
   "execution_count": 34,
   "id": "2d84f69b",
   "metadata": {},
   "outputs": [
    {
     "name": "stdout",
     "output_type": "stream",
     "text": [
      "64\n"
     ]
    }
   ],
   "source": [
    "# For 32 bit it will return 32 and for 64 bit it will return 64\n",
    "import struct\n",
    "print(struct.calcsize(\"P\") * 8)\n"
   ]
  },
  {
   "cell_type": "markdown",
   "id": "9cc23ca8",
   "metadata": {},
   "source": [
    "# 43. Write a Python program to get OS name, platform and release information."
   ]
  },
  {
   "cell_type": "code",
   "execution_count": 35,
   "id": "dd334b41",
   "metadata": {},
   "outputs": [
    {
     "name": "stdout",
     "output_type": "stream",
     "text": [
      "Name of the operating system: nt\n",
      "\n",
      "Name of the OS system: Windows\n",
      "\n",
      "Version of the operating system: 10\n"
     ]
    }
   ],
   "source": [
    "import platform\n",
    "import os\n",
    "print(\"Name of the operating system:\",os.name)\n",
    "print(\"\\nName of the OS system:\",platform.system())\n",
    "print(\"\\nVersion of the operating system:\",platform.release())\n"
   ]
  },
  {
   "cell_type": "markdown",
   "id": "bc889b74",
   "metadata": {},
   "source": [
    "# 44. Write a Python program to locate Python site packages."
   ]
  },
  {
   "cell_type": "code",
   "execution_count": 36,
   "id": "892aafcc",
   "metadata": {},
   "outputs": [
    {
     "name": "stdout",
     "output_type": "stream",
     "text": [
      "['C:\\\\ProgramData\\\\anaconda3', 'C:\\\\ProgramData\\\\anaconda3\\\\lib\\\\site-packages']\n"
     ]
    }
   ],
   "source": [
    "import site; \n",
    "print(site.getsitepackages())\n"
   ]
  },
  {
   "cell_type": "markdown",
   "id": "a7764b47",
   "metadata": {},
   "source": [
    "# 45. Write a Python program that calls an external command."
   ]
  },
  {
   "cell_type": "code",
   "execution_count": 128,
   "id": "020abcf5",
   "metadata": {},
   "outputs": [
    {
     "name": "stdout",
     "output_type": "stream",
     "text": [
      "1\n"
     ]
    }
   ],
   "source": [
    "import os\n",
    "print(os.system('ls -l'))\n"
   ]
  },
  {
   "cell_type": "code",
   "execution_count": 130,
   "id": "0db43c61",
   "metadata": {},
   "outputs": [
    {
     "name": "stdout",
     "output_type": "stream",
     "text": [
      "12\n"
     ]
    }
   ],
   "source": [
    "import psutil\n",
    "print(psutil.cpu_count())\n"
   ]
  },
  {
   "cell_type": "markdown",
   "id": "b6e17a1f",
   "metadata": {},
   "source": [
    "# 46. Write a Python program to retrieve the path and name of the file currently being executed."
   ]
  },
  {
   "cell_type": "code",
   "execution_count": 134,
   "id": "4cd571e3",
   "metadata": {},
   "outputs": [
    {
     "ename": "NameError",
     "evalue": "name '__file__' is not defined",
     "output_type": "error",
     "traceback": [
      "\u001b[1;31m---------------------------------------------------------------------------\u001b[0m",
      "\u001b[1;31mNameError\u001b[0m                                 Traceback (most recent call last)",
      "Cell \u001b[1;32mIn[134], line 2\u001b[0m\n\u001b[0;32m      1\u001b[0m \u001b[38;5;28;01mimport\u001b[39;00m \u001b[38;5;21;01mos\u001b[39;00m\n\u001b[1;32m----> 2\u001b[0m \u001b[38;5;28mprint\u001b[39m(\u001b[38;5;124m\"\u001b[39m\u001b[38;5;124mCurrent File Name : \u001b[39m\u001b[38;5;124m\"\u001b[39m,os\u001b[38;5;241m.\u001b[39mpath\u001b[38;5;241m.\u001b[39mrealpath(\u001b[38;5;18;43m__file__\u001b[39;49m))\n",
      "\u001b[1;31mNameError\u001b[0m: name '__file__' is not defined"
     ]
    }
   ],
   "source": [
    "import os\n",
    "print(\"Current File Name : \",os.path.realpath(__file__))\n"
   ]
  },
  {
   "cell_type": "markdown",
   "id": "ff362359",
   "metadata": {},
   "source": [
    "# 47. Write a Python program to find out the number of CPUs used."
   ]
  },
  {
   "cell_type": "code",
   "execution_count": 123,
   "id": "bdc38bb9",
   "metadata": {},
   "outputs": [
    {
     "name": "stdout",
     "output_type": "stream",
     "text": [
      "12\n"
     ]
    }
   ],
   "source": [
    "import multiprocessing\n",
    "print(multiprocessing.cpu_count())\n"
   ]
  },
  {
   "cell_type": "markdown",
   "id": "f5ad9310",
   "metadata": {},
   "source": [
    "# 48. Write a Python program to parse a string to float or integer."
   ]
  },
  {
   "cell_type": "code",
   "execution_count": 122,
   "id": "f9b3dbee",
   "metadata": {},
   "outputs": [
    {
     "name": "stdout",
     "output_type": "stream",
     "text": [
      "246.2458\n",
      "246\n"
     ]
    }
   ],
   "source": [
    "n = \"246.2458\"\n",
    "print(float(n))\n",
    "print(int(float(n)))\n"
   ]
  },
  {
   "cell_type": "markdown",
   "id": "b29ecaeb",
   "metadata": {},
   "source": [
    "# 49. Write a Python program to list all files in a directory."
   ]
  },
  {
   "cell_type": "code",
   "execution_count": 125,
   "id": "933dc50e",
   "metadata": {},
   "outputs": [
    {
     "ename": "SyntaxError",
     "evalue": "invalid syntax (474588748.py, line 15)",
     "output_type": "error",
     "traceback": [
      "\u001b[1;36m  Cell \u001b[1;32mIn[125], line 15\u001b[1;36m\u001b[0m\n\u001b[1;33m    for file\u001b[0m\n\u001b[1;37m            ^\u001b[0m\n\u001b[1;31mSyntaxError\u001b[0m\u001b[1;31m:\u001b[0m invalid syntax\n"
     ]
    }
   ],
   "source": [
    "import os\n",
    "\n",
    "def list_files(directory):\n",
    "    files = []\n",
    "    for file in os.listdir(directory):\n",
    "        if os.path.isfile(os.path.join(directory, file)):\n",
    "            files.append(file)\n",
    "    return files\n",
    "\n",
    "# Example usage\n",
    "directory_path = 'path/to/directory'\n",
    "file_list = list_files(directory_path)\n",
    "\n",
    "print(\"Files in the directory:\")\n",
    "for file\n",
    "\n"
   ]
  },
  {
   "cell_type": "markdown",
   "id": "5a63f06b",
   "metadata": {},
   "source": [
    "# 50. Write a Python program to print without a newline or space."
   ]
  },
  {
   "cell_type": "code",
   "execution_count": 120,
   "id": "dd77a733",
   "metadata": {},
   "outputs": [
    {
     "name": "stdout",
     "output_type": "stream",
     "text": [
      "**********\n",
      "\n"
     ]
    }
   ],
   "source": [
    "for i in range(0, 10):\n",
    "    print('*', end=\"\")\n",
    "print(\"\\n\")\n",
    "\t"
   ]
  },
  {
   "cell_type": "markdown",
   "id": "4c4b7443",
   "metadata": {},
   "source": [
    "# 51. Write a Python program to determine the profiling of Python programs.\n",
    "Note: A profile is a set of statistics that describes how often and for how long various parts of the program executed. These statistics can be formatted into reports via the pstats module\n"
   ]
  },
  {
   "cell_type": "code",
   "execution_count": 119,
   "id": "844c0311",
   "metadata": {},
   "outputs": [
    {
     "name": "stdout",
     "output_type": "stream",
     "text": [
      "3\n",
      "         29 function calls in 0.000 seconds\n",
      "\n",
      "   Ordered by: standard name\n",
      "\n",
      "   ncalls  tottime  percall  cumtime  percall filename:lineno(function)\n",
      "        1    0.000    0.000    0.000    0.000 2274340755.py:2(sum)\n",
      "        1    0.000    0.000    0.000    0.000 <string>:1(<module>)\n",
      "        1    0.000    0.000    0.000    0.000 iostream.py:202(schedule)\n",
      "        2    0.000    0.000    0.000    0.000 iostream.py:437(_is_master_process)\n",
      "        2    0.000    0.000    0.000    0.000 iostream.py:456(_schedule_flush)\n",
      "        2    0.000    0.000    0.000    0.000 iostream.py:526(write)\n",
      "        1    0.000    0.000    0.000    0.000 iostream.py:90(_event_pipe)\n",
      "        1    0.000    0.000    0.000    0.000 socket.py:543(send)\n",
      "        1    0.000    0.000    0.000    0.000 threading.py:1102(_wait_for_tstate_lock)\n",
      "        1    0.000    0.000    0.000    0.000 threading.py:1169(is_alive)\n",
      "        1    0.000    0.000    0.000    0.000 threading.py:553(is_set)\n",
      "        1    0.000    0.000    0.000    0.000 {built-in method builtins.exec}\n",
      "        2    0.000    0.000    0.000    0.000 {built-in method builtins.isinstance}\n",
      "        2    0.000    0.000    0.000    0.000 {built-in method builtins.len}\n",
      "        1    0.000    0.000    0.000    0.000 {built-in method builtins.print}\n",
      "        2    0.000    0.000    0.000    0.000 {built-in method nt.getpid}\n",
      "        2    0.000    0.000    0.000    0.000 {method '__exit__' of '_thread.RLock' objects}\n",
      "        1    0.000    0.000    0.000    0.000 {method 'acquire' of '_thread.lock' objects}\n",
      "        1    0.000    0.000    0.000    0.000 {method 'append' of 'collections.deque' objects}\n",
      "        1    0.000    0.000    0.000    0.000 {method 'disable' of '_lsprof.Profiler' objects}\n",
      "        2    0.000    0.000    0.000    0.000 {method 'write' of '_io.StringIO' objects}\n",
      "\n",
      "\n"
     ]
    }
   ],
   "source": [
    "import cProfile\n",
    "def sum():\n",
    "    print(1+2)\n",
    "cProfile.run('sum()')\n"
   ]
  },
  {
   "cell_type": "markdown",
   "id": "9802a932",
   "metadata": {},
   "source": [
    "# 52. Write a Python program to print to STDERR."
   ]
  },
  {
   "cell_type": "code",
   "execution_count": 118,
   "id": "129709d9",
   "metadata": {},
   "outputs": [
    {
     "name": "stderr",
     "output_type": "stream",
     "text": [
      "abc--efg--xyz\n"
     ]
    }
   ],
   "source": [
    "from __future__ import print_function\n",
    "import sys\n",
    "\n",
    "def eprint(*args, **kwargs):\n",
    "    print(*args, file=sys.stderr, **kwargs)\n",
    "\n",
    "eprint(\"abc\", \"efg\", \"xyz\", sep=\"--\")\n"
   ]
  },
  {
   "cell_type": "markdown",
   "id": "39cf55ef",
   "metadata": {},
   "source": [
    "# 53. Write a Python program to access environment variables.\n"
   ]
  },
  {
   "cell_type": "code",
   "execution_count": 117,
   "id": "f49f395e",
   "metadata": {},
   "outputs": [
    {
     "name": "stdout",
     "output_type": "stream",
     "text": [
      "*----------------------------------*\n",
      "environ({'ALLUSERSPROFILE': 'C:\\\\ProgramData', 'APPDATA': 'C:\\\\Users\\\\Akshit Koche\\\\AppData\\\\Roaming', 'COMMONPROGRAMFILES': 'C:\\\\Program Files\\\\Common Files', 'COMMONPROGRAMFILES(X86)': 'C:\\\\Program Files (x86)\\\\Common Files', 'COMMONPROGRAMW6432': 'C:\\\\Program Files\\\\Common Files', 'COMPUTERNAME': 'LAPTOP-E0VMF9CR', 'COMSPEC': 'C:\\\\windows\\\\system32\\\\cmd.exe', 'DRIVERDATA': 'C:\\\\Windows\\\\System32\\\\Drivers\\\\DriverData', 'EFC_11392': '1', 'HOMEDRIVE': 'C:', 'HOMEPATH': '\\\\Users\\\\Akshit Koche', 'LOCALAPPDATA': 'C:\\\\Users\\\\Akshit Koche\\\\AppData\\\\Local', 'LOGONSERVER': '\\\\\\\\LAPTOP-E0VMF9CR', 'NUMBER_OF_PROCESSORS': '12', 'ONEDRIVE': 'C:\\\\Users\\\\Akshit Koche\\\\OneDrive', 'ONEDRIVECONSUMER': 'C:\\\\Users\\\\Akshit Koche\\\\OneDrive', 'ONLINESERVICES': 'Online Services', 'OS': 'Windows_NT', 'PATH': 'C:\\\\ProgramData\\\\anaconda3;C:\\\\ProgramData\\\\anaconda3\\\\Library\\\\mingw-w64\\\\bin;C:\\\\ProgramData\\\\anaconda3\\\\Library\\\\usr\\\\bin;C:\\\\ProgramData\\\\anaconda3\\\\Library\\\\bin;C:\\\\ProgramData\\\\anaconda3\\\\Scripts;C:\\\\windows\\\\system32;C:\\\\windows;C:\\\\windows\\\\System32\\\\Wbem;C:\\\\windows\\\\System32\\\\WindowsPowerShell\\\\v1.0\\\\;C:\\\\windows\\\\System32\\\\OpenSSH\\\\;C:\\\\Program Files (x86)\\\\NVIDIA Corporation\\\\PhysX\\\\Common;C:\\\\Program Files\\\\NVIDIA Corporation\\\\NVIDIA NvDLISR;C:\\\\windows\\\\system32;C:\\\\windows;C:\\\\windows\\\\System32\\\\Wbem;C:\\\\windows\\\\System32\\\\WindowsPowerShell\\\\v1.0\\\\;C:\\\\windows\\\\System32\\\\OpenSSH\\\\;C:\\\\Program Files\\\\dotnet\\\\;C:\\\\Program Files (x86)\\\\Windows Kits\\\\8.1\\\\Windows Performance Toolkit\\\\;C:\\\\Program Files (x86)\\\\MySQL\\\\MySQL Utilities 1.3.6\\\\;C:\\\\Program Files\\\\Azure Data Studio\\\\bin;C:\\\\Program Files (x86)\\\\Microsoft SQL Server\\\\110\\\\Tools\\\\Binn\\\\;C:\\\\Program Files (x86)\\\\Microsoft SQL Server\\\\110\\\\DTS\\\\Binn\\\\;C:\\\\Program Files\\\\Git\\\\cmd;C:\\\\Users\\\\Akshit Koche\\\\AppData\\\\Local\\\\Microsoft\\\\WindowsApps;C:\\\\Users\\\\Akshit Koche\\\\AppData\\\\Local\\\\Programs\\\\Microsoft VS Code\\\\bin;C:\\\\Users\\\\Akshit Koche\\\\AppData\\\\Local\\\\GitHubDesktop\\\\bin;C:\\\\Program Files\\\\Azure Data Studio\\\\bin', 'PATHEXT': '.COM;.EXE;.BAT;.CMD;.VBS;.VBE;.JS;.JSE;.WSF;.WSH;.MSC', 'PLATFORMCODE': 'KV', 'PROCESSOR_ARCHITECTURE': 'AMD64', 'PROCESSOR_IDENTIFIER': 'AMD64 Family 25 Model 80 Stepping 0, AuthenticAMD', 'PROCESSOR_LEVEL': '25', 'PROCESSOR_REVISION': '5000', 'PROGRAMDATA': 'C:\\\\ProgramData', 'PROGRAMFILES': 'C:\\\\Program Files', 'PROGRAMFILES(X86)': 'C:\\\\Program Files (x86)', 'PROGRAMW6432': 'C:\\\\Program Files', 'PSMODULEPATH': 'C:\\\\Program Files\\\\WindowsPowerShell\\\\Modules;C:\\\\windows\\\\system32\\\\WindowsPowerShell\\\\v1.0\\\\Modules;C:\\\\Program Files (x86)\\\\Microsoft SQL Server\\\\110\\\\Tools\\\\PowerShell\\\\Modules\\\\', 'PUBLIC': 'C:\\\\Users\\\\Public', 'REGIONCODE': 'APJ', 'SESSIONNAME': 'Console', 'SYSTEMDRIVE': 'C:', 'SYSTEMROOT': 'C:\\\\windows', 'TEMP': 'C:\\\\Users\\\\AKSHIT~1\\\\AppData\\\\Local\\\\Temp', 'TMP': 'C:\\\\Users\\\\AKSHIT~1\\\\AppData\\\\Local\\\\Temp', 'USERDOMAIN': 'LAPTOP-E0VMF9CR', 'USERDOMAIN_ROAMINGPROFILE': 'LAPTOP-E0VMF9CR', 'USERNAME': 'Akshit Koche', 'USERPROFILE': 'C:\\\\Users\\\\Akshit Koche', 'VS120COMNTOOLS': 'C:\\\\Program Files (x86)\\\\Common7\\\\Tools\\\\', 'WINDIR': 'C:\\\\windows', 'CONDA_PREFIX': 'C:\\\\ProgramData\\\\anaconda3', 'PYDEVD_USE_FRAME_EVAL': 'NO', 'JPY_INTERRUPT_EVENT': '3716', 'IPY_INTERRUPT_EVENT': '3716', 'JPY_PARENT_PID': '3712', 'TERM': 'xterm-color', 'CLICOLOR': '1', 'FORCE_COLOR': '1', 'CLICOLOR_FORCE': '1', 'PAGER': 'cat', 'GIT_PAGER': 'cat', 'MPLBACKEND': 'module://matplotlib_inline.backend_inline'})\n",
      "*----------------------------------*\n"
     ]
    },
    {
     "ename": "KeyError",
     "evalue": "'HOME'",
     "output_type": "error",
     "traceback": [
      "\u001b[1;31m---------------------------------------------------------------------------\u001b[0m",
      "\u001b[1;31mKeyError\u001b[0m                                  Traceback (most recent call last)",
      "Cell \u001b[1;32mIn[117], line 7\u001b[0m\n\u001b[0;32m      5\u001b[0m \u001b[38;5;28mprint\u001b[39m(\u001b[38;5;124m'\u001b[39m\u001b[38;5;124m*----------------------------------*\u001b[39m\u001b[38;5;124m'\u001b[39m)\n\u001b[0;32m      6\u001b[0m \u001b[38;5;66;03m# Access a particular environment variable \u001b[39;00m\n\u001b[1;32m----> 7\u001b[0m \u001b[38;5;28mprint\u001b[39m(\u001b[43mos\u001b[49m\u001b[38;5;241;43m.\u001b[39;49m\u001b[43menviron\u001b[49m\u001b[43m[\u001b[49m\u001b[38;5;124;43m'\u001b[39;49m\u001b[38;5;124;43mHOME\u001b[39;49m\u001b[38;5;124;43m'\u001b[39;49m\u001b[43m]\u001b[49m)\n\u001b[0;32m      8\u001b[0m \u001b[38;5;28mprint\u001b[39m(\u001b[38;5;124m'\u001b[39m\u001b[38;5;124m*----------------------------------*\u001b[39m\u001b[38;5;124m'\u001b[39m)\n\u001b[0;32m      9\u001b[0m \u001b[38;5;28mprint\u001b[39m(os\u001b[38;5;241m.\u001b[39menviron[\u001b[38;5;124m'\u001b[39m\u001b[38;5;124mPATH\u001b[39m\u001b[38;5;124m'\u001b[39m])\n",
      "File \u001b[1;32mC:\\ProgramData\\anaconda3\\lib\\os.py:680\u001b[0m, in \u001b[0;36m_Environ.__getitem__\u001b[1;34m(self, key)\u001b[0m\n\u001b[0;32m    677\u001b[0m     value \u001b[38;5;241m=\u001b[39m \u001b[38;5;28mself\u001b[39m\u001b[38;5;241m.\u001b[39m_data[\u001b[38;5;28mself\u001b[39m\u001b[38;5;241m.\u001b[39mencodekey(key)]\n\u001b[0;32m    678\u001b[0m \u001b[38;5;28;01mexcept\u001b[39;00m \u001b[38;5;167;01mKeyError\u001b[39;00m:\n\u001b[0;32m    679\u001b[0m     \u001b[38;5;66;03m# raise KeyError with the original key value\u001b[39;00m\n\u001b[1;32m--> 680\u001b[0m     \u001b[38;5;28;01mraise\u001b[39;00m \u001b[38;5;167;01mKeyError\u001b[39;00m(key) \u001b[38;5;28;01mfrom\u001b[39;00m \u001b[38;5;28mNone\u001b[39m\n\u001b[0;32m    681\u001b[0m \u001b[38;5;28;01mreturn\u001b[39;00m \u001b[38;5;28mself\u001b[39m\u001b[38;5;241m.\u001b[39mdecodevalue(value)\n",
      "\u001b[1;31mKeyError\u001b[0m: 'HOME'"
     ]
    }
   ],
   "source": [
    "import os\n",
    "# Access all environment variables \n",
    "print('*----------------------------------*')\n",
    "print(os.environ)\n",
    "print('*----------------------------------*')\n",
    "# Access a particular environment variable \n",
    "print(os.environ['HOME'])\n",
    "print('*----------------------------------*')\n",
    "print(os.environ['PATH'])\n",
    "print('*----------------------------------*')\n"
   ]
  },
  {
   "cell_type": "markdown",
   "id": "8be92d8b",
   "metadata": {},
   "source": [
    "# 54. Write a Python program to get the current username."
   ]
  },
  {
   "cell_type": "code",
   "execution_count": 116,
   "id": "5c475533",
   "metadata": {},
   "outputs": [
    {
     "name": "stdout",
     "output_type": "stream",
     "text": [
      "Akshit Koche\n"
     ]
    }
   ],
   "source": [
    "import getpass\n",
    "print(getpass.getuser())\n"
   ]
  },
  {
   "cell_type": "markdown",
   "id": "024d0137",
   "metadata": {},
   "source": [
    "# 55. Write a Python program to find local IP addresses using Python's stdlib."
   ]
  },
  {
   "cell_type": "code",
   "execution_count": 115,
   "id": "839a2162",
   "metadata": {},
   "outputs": [
    {
     "name": "stdout",
     "output_type": "stream",
     "text": [
      "192.168.1.51\n"
     ]
    }
   ],
   "source": [
    "import socket\n",
    "print([l for l in ([ip for ip in socket.gethostbyname_ex(socket.gethostname())[2] \n",
    "if not ip.startswith(\"127.\")][:1], [[(s.connect(('8.8.8.8', 53)), \n",
    "s.getsockname()[0], s.close()) for s in [socket.socket(socket.AF_INET, \n",
    "socket.SOCK_DGRAM)]][0][1]]) if l][0][0])\n"
   ]
  },
  {
   "cell_type": "markdown",
   "id": "5603d122",
   "metadata": {},
   "source": [
    "# 56. Write a Python program to get the height and width of the console window."
   ]
  },
  {
   "cell_type": "code",
   "execution_count": 114,
   "id": "11e54b4d",
   "metadata": {},
   "outputs": [
    {
     "name": "stdout",
     "output_type": "stream",
     "text": [
      "Console height: 30\n",
      "Console width: 120\n"
     ]
    }
   ],
   "source": [
    "import shutil\n",
    "\n",
    "def get_console_size():\n",
    "    size = shutil.get_terminal_size()\n",
    "    return size.lines, size.columns\n",
    "\n",
    "# Example usage\n",
    "height, width = get_console_size()\n",
    "print(f\"Console height: {height}\")\n",
    "print(f\"Console width: {width}\")\n",
    "\n"
   ]
  },
  {
   "cell_type": "markdown",
   "id": "1b81d605",
   "metadata": {},
   "source": [
    "# 57. Write a Python program to get the execution time of a Python method."
   ]
  },
  {
   "cell_type": "code",
   "execution_count": 112,
   "id": "0aec4b4d",
   "metadata": {},
   "outputs": [
    {
     "name": "stdout",
     "output_type": "stream",
     "text": [
      "\n",
      "Time to sum of 1 to  5  and required time to calculate is : (15, 0.0)\n"
     ]
    }
   ],
   "source": [
    "import time\n",
    "def sum_of_n_numbers(n):\n",
    "    start_time = time.time()\n",
    "    s = 0\n",
    "    for i in range(1,n+1):\n",
    "        s = s + i\n",
    "    end_time = time.time()\n",
    "    return s,end_time-start_time\n",
    "\n",
    "n = 5\n",
    "print(\"\\nTime to sum of 1 to \",n,\" and required time to calculate is :\",sum_of_n_numbers(n))\n"
   ]
  },
  {
   "cell_type": "markdown",
   "id": "57385b91",
   "metadata": {},
   "source": [
    "# 58. Write a Python program to sum the first n positive integers."
   ]
  },
  {
   "cell_type": "code",
   "execution_count": 111,
   "id": "86967e33",
   "metadata": {},
   "outputs": [
    {
     "name": "stdout",
     "output_type": "stream",
     "text": [
      "Input a number: 7\n",
      "Sum of the first 7 positive integers: 28.0\n"
     ]
    }
   ],
   "source": [
    "n = int(input(\"Input a number: \"))\n",
    "sum_num = (n * (n + 1)) / 2\n",
    "print(\"Sum of the first\", n ,\"positive integers:\", sum_num)\n"
   ]
  },
  {
   "cell_type": "markdown",
   "id": "dccf3a99",
   "metadata": {},
   "source": [
    "# 59. Write a Python program to convert height (in feet and inches) to centimeters."
   ]
  },
  {
   "cell_type": "code",
   "execution_count": 110,
   "id": "cb1102b9",
   "metadata": {},
   "outputs": [
    {
     "name": "stdout",
     "output_type": "stream",
     "text": [
      "Input your height: \n",
      "Feet: 77\n",
      "Inches: 5\n",
      "Your height is : 2359 cm.\n"
     ]
    }
   ],
   "source": [
    "print(\"Input your height: \")\n",
    "h_ft = int(input(\"Feet: \"))\n",
    "h_inch = int(input(\"Inches: \"))\n",
    "\n",
    "h_inch += h_ft * 12\n",
    "h_cm = round(h_inch * 2.54, 1)\n",
    "\n",
    "print(\"Your height is : %d cm.\" % h_cm)\n"
   ]
  },
  {
   "cell_type": "markdown",
   "id": "36892965",
   "metadata": {},
   "source": [
    "# 60. Write a Python program to calculate the hypotenuse of a right angled triangle."
   ]
  },
  {
   "cell_type": "code",
   "execution_count": 107,
   "id": "70ae77b4",
   "metadata": {},
   "outputs": [
    {
     "name": "stdout",
     "output_type": "stream",
     "text": [
      "Input lengths of shorter triangle sides:\n",
      "a: 7\n",
      "b: 5\n",
      "The length of the hypotenuse is: 8.602325267042627\n"
     ]
    }
   ],
   "source": [
    "from math import sqrt\n",
    "print(\"Input lengths of shorter triangle sides:\")\n",
    "a = float(input(\"a: \"))\n",
    "b = float(input(\"b: \"))\n",
    "c = sqrt(a**2 + b**2)\n",
    "print(\"The length of the hypotenuse is:\", c )\n"
   ]
  },
  {
   "cell_type": "markdown",
   "id": "a68ec4d1",
   "metadata": {},
   "source": [
    "# 61. Write a Python program to convert the distance (in feet) to inches, yards, and miles."
   ]
  },
  {
   "cell_type": "code",
   "execution_count": 108,
   "id": "0f48afe1",
   "metadata": {},
   "outputs": [
    {
     "name": "stdout",
     "output_type": "stream",
     "text": [
      "Input distance in feet: 45\n",
      "The distance in inches is 540 inches.\n",
      "The distance in yards is 15.00 yards.\n",
      "The distance in miles is 0.01 miles.\n"
     ]
    }
   ],
   "source": [
    "d_ft = int(input(\"Input distance in feet: \"))\n",
    "d_inches = d_ft * 12\n",
    "d_yards = d_ft / 3.0\n",
    "d_miles = d_ft / 5280.0\n",
    "\n",
    "print(\"The distance in inches is %i inches.\" % d_inches)\n",
    "print(\"The distance in yards is %.2f yards.\" % d_yards)\n",
    "print(\"The distance in miles is %.2f miles.\" % d_miles)\n"
   ]
  },
  {
   "cell_type": "markdown",
   "id": "59f67648",
   "metadata": {},
   "source": [
    "# 62. Write a Python program to convert all units of time into seconds."
   ]
  },
  {
   "cell_type": "code",
   "execution_count": 109,
   "id": "bcbac905",
   "metadata": {},
   "outputs": [
    {
     "name": "stdout",
     "output_type": "stream",
     "text": [
      "Input days: 47\n",
      "Input hours: 56\n",
      "Input minutes: 7\n",
      "Input seconds: 89\n",
      "The  amounts of seconds 4262909\n"
     ]
    }
   ],
   "source": [
    "days = int(input(\"Input days: \")) * 3600 * 24\n",
    "hours = int(input(\"Input hours: \")) * 3600\n",
    "minutes = int(input(\"Input minutes: \")) * 60\n",
    "seconds = int(input(\"Input seconds: \"))\n",
    "\n",
    "time = days + hours + minutes + seconds\n",
    "\n",
    "print(\"The  amounts of seconds\", time)\n"
   ]
  },
  {
   "cell_type": "markdown",
   "id": "7307bd21",
   "metadata": {},
   "source": [
    "# 63. Write a Python program to get an absolute file path."
   ]
  },
  {
   "cell_type": "code",
   "execution_count": null,
   "id": "1f5c19c0",
   "metadata": {},
   "outputs": [],
   "source": [
    "def absolute_file_path(path_fname):\n",
    "        import os\n",
    "        return os.path.abspath('path_fname')        \n",
    "print(\"Absolute file path: \",absolute_file_path(\"test.txt\"))\n"
   ]
  },
  {
   "cell_type": "markdown",
   "id": "cfd08298",
   "metadata": {},
   "source": [
    "# 64. Write a Python program that retrieves the date and time of file creation and modification."
   ]
  },
  {
   "cell_type": "code",
   "execution_count": 106,
   "id": "7da61a6a",
   "metadata": {},
   "outputs": [
    {
     "name": "stdout",
     "output_type": "stream",
     "text": [
      "'path/to/file.txt' is not a file or doesn't exist.\n"
     ]
    }
   ],
   "source": [
    "import os\n",
    "import time\n",
    "\n",
    "def get_file_timestamps(file_path):\n",
    "    if os.path.isfile(file_path):\n",
    "        creation_time = os.path.getctime(file_path)\n",
    "        modification_time = os.path.getmtime(file_path)\n",
    "        return (creation_time, modification_time)\n",
    "    else:\n",
    "        return None\n",
    "\n",
    "# Example usage\n",
    "file_path = 'path/to/file.txt'\n",
    "timestamps = get_file_timestamps(file_path)\n",
    "\n",
    "if timestamps:\n",
    "    creation_time = time.ctime(timestamps[0])\n",
    "    modification_time = time.ctime(timestamps[1])\n",
    "    print(f\"File creation time: {creation_time}\")\n",
    "    print(f\"File modification time: {modification_time}\")\n",
    "else:\n",
    "    print(f\"'{file_path}' is not a file or doesn't exist.\")\n"
   ]
  },
  {
   "cell_type": "markdown",
   "id": "8007fc30",
   "metadata": {},
   "source": [
    "# 65. Write a Python program that converts seconds into days, hours, minutes, and seconds."
   ]
  },
  {
   "cell_type": "code",
   "execution_count": 104,
   "id": "ffbb613f",
   "metadata": {},
   "outputs": [
    {
     "name": "stdout",
     "output_type": "stream",
     "text": [
      "Input time in seconds: 45\n",
      "d:h:m:s-> 0:0:0:45\n"
     ]
    }
   ],
   "source": [
    "time = float(input(\"Input time in seconds: \"))\n",
    "day = time // (24 * 3600)\n",
    "time = time % (24 * 3600)\n",
    "hour = time // 3600\n",
    "time %= 3600\n",
    "minutes = time // 60\n",
    "time %= 60\n",
    "seconds = time\n",
    "print(\"d:h:m:s-> %d:%d:%d:%d\" % (day, hour, minutes, seconds))\n"
   ]
  },
  {
   "cell_type": "markdown",
   "id": "4c8fb59d",
   "metadata": {},
   "source": [
    "# 66. Write a Python program to calculate the body mass index."
   ]
  },
  {
   "cell_type": "code",
   "execution_count": 103,
   "id": "ca1a5617",
   "metadata": {},
   "outputs": [
    {
     "name": "stdout",
     "output_type": "stream",
     "text": [
      "Input your height in Feet: 45\n",
      "Input your weight in Kilogram: 65\n",
      "Your body mass index is:  0.03\n"
     ]
    }
   ],
   "source": [
    "height = float(input(\"Input your height in Feet: \"))\n",
    "weight = float(input(\"Input your weight in Kilogram: \"))\n",
    "print(\"Your body mass index is: \", round(weight / (height * height), 2))\n"
   ]
  },
  {
   "cell_type": "markdown",
   "id": "f330d318",
   "metadata": {},
   "source": [
    "# 67. Write a Python program to convert pressure in kilopascals to pounds per square inch, a millimeter of mercury (mmHg) and atmosphere pressure."
   ]
  },
  {
   "cell_type": "code",
   "execution_count": 102,
   "id": "a27ef67d",
   "metadata": {},
   "outputs": [
    {
     "name": "stdout",
     "output_type": "stream",
     "text": [
      "Input pressure in in kilopascals> 45\n",
      "The pressure in pounds per square inch: 6.53 psi\n",
      "The pressure in millimeter of mercury: 337.53 mmHg\n",
      "Atmosphere pressure: 0.44 atm.\n"
     ]
    }
   ],
   "source": [
    "kpa = float(input(\"Input pressure in in kilopascals> \"))\n",
    "psi = kpa / 6.89475729\n",
    "mmhg = kpa * 760 / 101.325\n",
    "atm = kpa / 101.325\n",
    "print(\"The pressure in pounds per square inch: %.2f psi\"  % (psi))\n",
    "print(\"The pressure in millimeter of mercury: %.2f mmHg\" % (mmhg))\n",
    "print(\"Atmosphere pressure: %.2f atm.\" % (atm))\n"
   ]
  },
  {
   "cell_type": "markdown",
   "id": "0c9a5cd8",
   "metadata": {},
   "source": [
    "# 68. Write a Python program to calculate sum of digits of a number."
   ]
  },
  {
   "cell_type": "code",
   "execution_count": 101,
   "id": "5542a296",
   "metadata": {},
   "outputs": [
    {
     "name": "stdout",
     "output_type": "stream",
     "text": [
      "Input a four digit numbers: 54\n",
      "The sum of digits in the number is 9\n"
     ]
    }
   ],
   "source": [
    "num = int(input(\"Input a four digit numbers: \"))\n",
    "x  = num //1000\n",
    "x1 = (num - x*1000)//100\n",
    "x2 = (num - x*1000 - x1*100)//10\n",
    "x3 = num - x*1000 - x1*100 - x2*10\n",
    "print(\"The sum of digits in the number is\", x+x1+x2+x3)\n"
   ]
  },
  {
   "cell_type": "markdown",
   "id": "b702f631",
   "metadata": {},
   "source": [
    "# 69. Write a Python program to sort three integers without using conditional statements and loops."
   ]
  },
  {
   "cell_type": "code",
   "execution_count": 100,
   "id": "5484ff4e",
   "metadata": {},
   "outputs": [
    {
     "name": "stdout",
     "output_type": "stream",
     "text": [
      "Input first number: 55\n",
      "Input second number: 47\n",
      "Input third number: 456\n",
      "Numbers in sorted order:  47 55 456\n"
     ]
    }
   ],
   "source": [
    "x = int(input(\"Input first number: \"))\n",
    "y = int(input(\"Input second number: \"))\n",
    "z = int(input(\"Input third number: \"))\n",
    "\n",
    "a1 = min(x, y, z)\n",
    "a3 = max(x, y, z)\n",
    "a2 = (x + y + z) - a1 - a3\n",
    "print(\"Numbers in sorted order: \", a1, a2, a3)\n"
   ]
  },
  {
   "cell_type": "markdown",
   "id": "07eb821d",
   "metadata": {},
   "source": [
    "# 70. Write a Python program to sort files by date.\n"
   ]
  },
  {
   "cell_type": "code",
   "execution_count": 99,
   "id": "d4bfa2e1",
   "metadata": {},
   "outputs": [
    {
     "name": "stdout",
     "output_type": "stream",
     "text": [
      "untitled.txt\n"
     ]
    }
   ],
   "source": [
    "import glob\n",
    "import os\n",
    "\n",
    "files = glob.glob(\"*.txt\")\n",
    "files.sort(key=os.path.getmtime)\n",
    "print(\"\\n\".join(files))\n"
   ]
  },
  {
   "cell_type": "markdown",
   "id": "aa99c94f",
   "metadata": {},
   "source": [
    "# 71. Write a Python program to get a directory listing, sorted by creation date."
   ]
  },
  {
   "cell_type": "code",
   "execution_count": 98,
   "id": "022cf417",
   "metadata": {},
   "outputs": [
    {
     "name": "stdout",
     "output_type": "stream",
     "text": [
      "Sat May 27 10:30:27 2023 20 most important functions.docx\n",
      "Sat May 27 10:30:27 2023 Pandas Functions simple.docx\n",
      "Sat May 27 10:30:27 2023 Pandas Practice.docx\n",
      "Sat May 27 10:30:27 2023 Pandas_bascis2.ipynb\n",
      "Sat May 27 10:30:27 2023 Pandas_police_data.ipynb\n",
      "Sat May 27 10:30:27 2023 pandas_basics.ipynb\n",
      "Sat May 27 10:30:27 2023 police.csv\n",
      "Mon May 29 09:51:17 2023 untitled.txt\n",
      "Mon May 29 09:51:22 2023 amazing design.ipynb\n",
      "Mon May 29 15:39:42 2023 turtle design in python.ipynb\n",
      "Tue Jun 20 09:28:57 2023 Python Basic (Part -I) .ipynb\n",
      "Tue Jun 20 09:30:37 2023 Python Basic(Part-II).ipynb\n"
     ]
    }
   ],
   "source": [
    "from stat import S_ISREG, ST_CTIME, ST_MODE\n",
    "import os, sys, time\n",
    "\n",
    "#Relative or absolute path to the directory\n",
    "dir_path = sys.argv[1] if len(sys.argv) == 2 else r'.'\n",
    "\n",
    "#all entries in the directory w/ stats\n",
    "data = (os.path.join(dir_path, fn) for fn in os.listdir(dir_path))\n",
    "data = ((os.stat(path), path) for path in data)\n",
    "\n",
    "# regular files, insert creation date\n",
    "data = ((stat[ST_CTIME], path)\n",
    "           for stat, path in data if S_ISREG(stat[ST_MODE]))\n",
    "\n",
    "for cdate, path in sorted(data):\n",
    "    print(time.ctime(cdate), os.path.basename(path))\n",
    "\t"
   ]
  },
  {
   "cell_type": "markdown",
   "id": "9e399dfa",
   "metadata": {},
   "source": [
    "# 72. Write a Python program to get the details of the math module."
   ]
  },
  {
   "cell_type": "code",
   "execution_count": 97,
   "id": "fb6fbeae",
   "metadata": {},
   "outputs": [
    {
     "name": "stdout",
     "output_type": "stream",
     "text": [
      "['__doc__', '__loader__', '__name__', '__package__', '__spec__', 'acos', 'acosh', 'asin', 'asinh', 'atan', 'atan2', 'atanh', 'ceil', 'comb', 'copysign', 'cos', 'cosh', 'degrees', 'dist', 'e', 'erf', 'erfc', 'exp', 'expm1', 'fabs', 'factorial', 'floor', 'fmod', 'frexp', 'fsum', 'gamma', 'gcd', 'hypot', 'inf', 'isclose', 'isfinite', 'isinf', 'isnan', 'isqrt', 'lcm', 'ldexp', 'lgamma', 'log', 'log10', 'log1p', 'log2', 'modf', 'nan', 'nextafter', 'perm', 'pi', 'pow', 'prod', 'radians', 'remainder', 'sin', 'sinh', 'sqrt', 'tan', 'tanh', 'tau', 'trunc', 'ulp']\n"
     ]
    }
   ],
   "source": [
    "# Imports the math module\n",
    "import math            \n",
    "#Sets everything to a list of math module\n",
    "math_ls = dir(math) # \n",
    "print(math_ls)\n"
   ]
  },
  {
   "cell_type": "markdown",
   "id": "5e232ffb",
   "metadata": {},
   "source": [
    "# 73. Write a Python program to calculate the midpoints of a line.\n"
   ]
  },
  {
   "cell_type": "code",
   "execution_count": 96,
   "id": "43a74c30",
   "metadata": {},
   "outputs": [
    {
     "name": "stdout",
     "output_type": "stream",
     "text": [
      "\n",
      "Calculate the midpoint of a line :\n",
      "The value of x (the first endpoint) 55\n",
      "The value of y (the first endpoint) 8\n",
      "The value of x (the first endpoint) 79\n",
      "The value of y (the first endpoint) 45\n",
      "\n",
      "The midpoint of line is :\n",
      "The midpoint's x value is:  67.0\n",
      "The midpoint's y value is:  26.5\n",
      "\n"
     ]
    }
   ],
   "source": [
    "print('\\nCalculate the midpoint of a line :')\n",
    "\n",
    "x1 = float(input('The value of x (the first endpoint) '))\n",
    "y1 = float(input('The value of y (the first endpoint) '))\n",
    "\n",
    "x2 = float(input('The value of x (the first endpoint) '))\n",
    "y2 = float(input('The value of y (the first endpoint) '))\n",
    "\n",
    "x_m_point = (x1 + x2)/2\n",
    "y_m_point = (y1 + y2)/2\n",
    "print();\n",
    "print(\"The midpoint of line is :\")\n",
    "print( \"The midpoint's x value is: \",x_m_point)\n",
    "print( \"The midpoint's y value is: \",y_m_point)\n",
    "print();\n"
   ]
  },
  {
   "cell_type": "markdown",
   "id": "4dc209d0",
   "metadata": {},
   "source": [
    "# 74. Write a Python program to hash a word."
   ]
  },
  {
   "cell_type": "code",
   "execution_count": 95,
   "id": "2b189fa1",
   "metadata": {},
   "outputs": [
    {
     "name": "stdout",
     "output_type": "stream",
     "text": [
      "Input the word be hashed: 5\n",
      "\n",
      "The coded word is: 5\n",
      "\n"
     ]
    }
   ],
   "source": [
    "soundex=[0,1,2,3,0,1,2,0,0,2,2,4,5,5,0,1,2,6,2,3,0,1,0,2,0,2]\n",
    " \n",
    "word=input(\"Input the word be hashed: \")\n",
    " \n",
    "word=word.upper()\n",
    " \n",
    "coded=word[0]\n",
    " \n",
    "for a in word[1:len(word)]:\n",
    "    i=65-ord(a)\n",
    "    coded=coded+str(soundex[i])\n",
    "print() \n",
    "print(\"The coded word is: \"+coded)\n",
    "print()\n"
   ]
  },
  {
   "cell_type": "markdown",
   "id": "f181e46a",
   "metadata": {},
   "source": [
    "# 75. Write a Python program to get the copyright information and write Copyright information in Python code."
   ]
  },
  {
   "cell_type": "code",
   "execution_count": 94,
   "id": "11d96290",
   "metadata": {},
   "outputs": [
    {
     "name": "stdout",
     "output_type": "stream",
     "text": [
      "\n",
      "Python Copyright Information\n",
      "Copyright (c) 2001-2022 Python Software Foundation.\n",
      "All Rights Reserved.\n",
      "\n",
      "Copyright (c) 2000 BeOpen.com.\n",
      "All Rights Reserved.\n",
      "\n",
      "Copyright (c) 1995-2001 Corporation for National Research Initiatives.\n",
      "All Rights Reserved.\n",
      "\n",
      "Copyright (c) 1991-1995 Stichting Mathematisch Centrum, Amsterdam.\n",
      "All Rights Reserved.\n",
      "\n"
     ]
    }
   ],
   "source": [
    "import sys\n",
    "print(\"\\nPython Copyright Information\")\n",
    "print(sys.copyright)\n",
    "print()\n"
   ]
  },
  {
   "cell_type": "markdown",
   "id": "fbd31ac3",
   "metadata": {},
   "source": [
    "# 76. Write a Python program to get the command-line arguments (name of the script, the number of arguments, arguments) passed to a script."
   ]
  },
  {
   "cell_type": "code",
   "execution_count": null,
   "id": "96f46de7",
   "metadata": {},
   "outputs": [],
   "source": [
    "import sys\n",
    "print(\"This is the name/path of the script:\"),sys.argv[0]\n",
    "print(\"Number of arguments:\",len(sys.argv))\n",
    "print(\"Argument List:\",str(sys.argv))\n"
   ]
  },
  {
   "cell_type": "markdown",
   "id": "d18b0bd3",
   "metadata": {},
   "source": [
    "# 77. Write a Python program to test whether the system is a big-endian platform or a little-endian platform."
   ]
  },
  {
   "cell_type": "code",
   "execution_count": 90,
   "id": "790acdbd",
   "metadata": {},
   "outputs": [
    {
     "name": "stdout",
     "output_type": "stream",
     "text": [
      "\n",
      "Little-endian platform.\n",
      "\n"
     ]
    }
   ],
   "source": [
    "import sys\n",
    "print()\n",
    "if sys.byteorder == \"little\":\n",
    "    #intel, alpha\n",
    "    print(\"Little-endian platform.\")\n",
    "else:\n",
    "    #motorola, sparc\n",
    "    print(\"Big-endian platform.\")\n",
    "print()\n"
   ]
  },
  {
   "cell_type": "markdown",
   "id": "8f535c78",
   "metadata": {},
   "source": [
    "# 78. Write a Python program to find the available built-in modules.\n"
   ]
  },
  {
   "cell_type": "code",
   "execution_count": 91,
   "id": "979d5dd3",
   "metadata": {},
   "outputs": [
    {
     "name": "stdout",
     "output_type": "stream",
     "text": [
      "_abc, _ast, _bisect, _blake2, _codecs, _codecs_cn, _codecs_hk,\n",
      "_codecs_iso2022, _codecs_jp, _codecs_kr, _codecs_tw, _collections,\n",
      "_contextvars, _csv, _datetime, _functools, _heapq, _imp, _io, _json,\n",
      "_locale, _lsprof, _md5, _multibytecodec, _opcode, _operator, _pickle,\n",
      "_random, _sha1, _sha256, _sha3, _sha512, _signal, _sre, _stat,\n",
      "_statistics, _string, _struct, _symtable, _thread, _tracemalloc,\n",
      "_warnings, _weakref, _winapi, _xxsubinterpreters, array, atexit,\n",
      "audioop, binascii, builtins, cmath, errno, faulthandler, gc,\n",
      "itertools, marshal, math, mmap, msvcrt, nt, sys, time, winreg,\n",
      "xxsubtype, zlib\n"
     ]
    }
   ],
   "source": [
    "import sys\n",
    "import textwrap\n",
    "module_name = ', '.join(sorted(sys.builtin_module_names))\n",
    "print(textwrap.fill(module_name, width=70))\n"
   ]
  },
  {
   "cell_type": "markdown",
   "id": "7f00ba77",
   "metadata": {},
   "source": [
    "# 79. Write a Python program to get the size of an object in bytes."
   ]
  },
  {
   "cell_type": "code",
   "execution_count": 93,
   "id": "14183185",
   "metadata": {},
   "outputs": [
    {
     "name": "stdout",
     "output_type": "stream",
     "text": [
      "Size of the object: 104 bytes\n"
     ]
    }
   ],
   "source": [
    "import sys\n",
    "\n",
    "def get_object_size(obj):\n",
    "    return sys.getsizeof(obj)\n",
    "\n",
    "# Example usage\n",
    "my_list = [1, 2, 3, 4, 5]\n",
    "size = get_object_size(my_list)\n",
    "\n",
    "print(f\"Size of the object: {size} bytes\")\n"
   ]
  },
  {
   "cell_type": "markdown",
   "id": "d2a35579",
   "metadata": {},
   "source": [
    "# 80. Write a Python program to get the current value of the recursion limit."
   ]
  },
  {
   "cell_type": "code",
   "execution_count": 81,
   "id": "5bfa5204",
   "metadata": {},
   "outputs": [
    {
     "name": "stdout",
     "output_type": "stream",
     "text": [
      "\n",
      "Current value of the recursion limit:\n",
      "3000\n",
      "\n"
     ]
    }
   ],
   "source": [
    "import sys\n",
    "print()\n",
    "print(\"Current value of the recursion limit:\")\n",
    "print(sys.getrecursionlimit())\n",
    "print()\n"
   ]
  },
  {
   "cell_type": "markdown",
   "id": "dc0980f2",
   "metadata": {},
   "source": [
    "# 81. Write a Python program to concatenate N strings."
   ]
  },
  {
   "cell_type": "code",
   "execution_count": 82,
   "id": "13026cb0",
   "metadata": {},
   "outputs": [
    {
     "name": "stdout",
     "output_type": "stream",
     "text": [
      "\n",
      "All Colors: Red-White-Black\n",
      "\n"
     ]
    }
   ],
   "source": [
    "list_of_colors = ['Red', 'White', 'Black']  \n",
    "colors = '-'.join(list_of_colors)\n",
    "print()\n",
    "print(\"All Colors: \"+colors)\n",
    "print()\n"
   ]
  },
  {
   "cell_type": "markdown",
   "id": "46fee9a6",
   "metadata": {},
   "source": [
    "# 82. Write a Python program to calculate the sum of all items of a container (tuple, list, set, dictionary)."
   ]
  },
  {
   "cell_type": "code",
   "execution_count": 83,
   "id": "efa8216e",
   "metadata": {},
   "outputs": [
    {
     "name": "stdout",
     "output_type": "stream",
     "text": [
      "\n",
      "Sum of the container:  60\n",
      "\n"
     ]
    }
   ],
   "source": [
    "s = sum([10,20,30])\n",
    "print(\"\\nSum of the container: \", s)\n",
    "print()\n"
   ]
  },
  {
   "cell_type": "markdown",
   "id": "3ff6593a",
   "metadata": {},
   "source": [
    "# 83. Write a Python program to test whether all numbers in a list are greater than a certain number."
   ]
  },
  {
   "cell_type": "code",
   "execution_count": 84,
   "id": "4fec7393",
   "metadata": {},
   "outputs": [
    {
     "name": "stdout",
     "output_type": "stream",
     "text": [
      "\n",
      "True\n",
      "False\n",
      "\n"
     ]
    }
   ],
   "source": [
    "num = [2, 3, 4, 5]\n",
    "print()\n",
    "print(all(x > 1 for x in num))\n",
    "print(all(x > 4 for x in num))\n",
    "print()\n"
   ]
  },
  {
   "cell_type": "markdown",
   "id": "6f1f8aeb",
   "metadata": {},
   "source": [
    "# 84. Write a Python program to count the number of occurrences of a specific character in a string.\n",
    "\n"
   ]
  },
  {
   "cell_type": "code",
   "execution_count": 85,
   "id": "fe494f2b",
   "metadata": {},
   "outputs": [
    {
     "name": "stdout",
     "output_type": "stream",
     "text": [
      "Original string:\n",
      "The quick brown fox jumps over the lazy dog.\n",
      "Number of occurrence of 'o' in the said string:\n",
      "4\n"
     ]
    }
   ],
   "source": [
    "s = \"The quick brown fox jumps over the lazy dog.\"  \n",
    "print(\"Original string:\")\n",
    "print(s)\n",
    "print(\"Number of occurrence of 'o' in the said string:\")\n",
    "print(s.count(\"o\"))\n"
   ]
  },
  {
   "cell_type": "markdown",
   "id": "7da9674a",
   "metadata": {},
   "source": [
    "# 85. Write a Python program to check whether a file path is a file or a directory."
   ]
  },
  {
   "cell_type": "code",
   "execution_count": 86,
   "id": "54d73712",
   "metadata": {},
   "outputs": [
    {
     "name": "stdout",
     "output_type": "stream",
     "text": [
      "It is a special file (socket, FIFO, device file)\n",
      "\n"
     ]
    }
   ],
   "source": [
    "import os  \n",
    "path=\"abc.txt\"  \n",
    "if os.path.isdir(path):  \n",
    "    print(\"\\nIt is a directory\")  \n",
    "elif os.path.isfile(path):  \n",
    "    print(\"\\nIt is a normal file\")  \n",
    "else:  \n",
    "    print(\"It is a special file (socket, FIFO, device file)\" )\n",
    "print()\n"
   ]
  },
  {
   "cell_type": "markdown",
   "id": "44ab2700",
   "metadata": {},
   "source": [
    "# 86. Write a Python program to get the ASCII value of a character."
   ]
  },
  {
   "cell_type": "code",
   "execution_count": 87,
   "id": "b960b5d6",
   "metadata": {},
   "outputs": [
    {
     "name": "stdout",
     "output_type": "stream",
     "text": [
      "\n",
      "97\n",
      "65\n",
      "49\n",
      "64\n",
      "\n"
     ]
    }
   ],
   "source": [
    "print()\n",
    "print(ord('a'))\n",
    "print(ord('A'))\n",
    "print(ord('1'))\n",
    "print(ord('@'))\n",
    "print()\n"
   ]
  },
  {
   "cell_type": "markdown",
   "id": "9bc10ac4",
   "metadata": {},
   "source": [
    "# 87. Write a Python program to get the size of a file."
   ]
  },
  {
   "cell_type": "code",
   "execution_count": 89,
   "id": "3763c5f6",
   "metadata": {},
   "outputs": [
    {
     "name": "stdout",
     "output_type": "stream",
     "text": [
      "'path/to/file.txt' is not a file or doesn't exist.\n"
     ]
    }
   ],
   "source": [
    "import os\n",
    "\n",
    "def get_file_size(file_path):\n",
    "    if os.path.isfile(file_path):\n",
    "        return os.path.getsize(file_path)\n",
    "    else:\n",
    "        return -1\n",
    "\n",
    "# Example usage\n",
    "file_path = 'path/to/file.txt'\n",
    "file_size = get_file_size(file_path)\n",
    "\n",
    "if file_size != -1:\n",
    "    print(f\"File size of '{file_path}': {file_size} bytes\")\n",
    "else:\n",
    "    print(f\"'{file_path}' is not a file or doesn't exist.\")\n"
   ]
  },
  {
   "cell_type": "markdown",
   "id": "7dca7f56",
   "metadata": {},
   "source": [
    "# 88. Given variables x=30 and y=20, write a Python program to print \"30+20=50\"."
   ]
  },
  {
   "cell_type": "code",
   "execution_count": null,
   "id": "4750ba34",
   "metadata": {},
   "outputs": [],
   "source": [
    "x = 30\n",
    "y = 20\n",
    "print(\"\\n%d+%d=%d\" % (x, y, x+y))\n",
    "print()\n"
   ]
  },
  {
   "cell_type": "markdown",
   "id": "86b5110c",
   "metadata": {},
   "source": [
    "# 89. Write a Python program to perform an action if a condition is true.\n",
    "Given a variable name, if the value is 1, display the string \"First day of a Month!\" and do nothing if the value is not equal."
   ]
  },
  {
   "cell_type": "code",
   "execution_count": null,
   "id": "2db3d011",
   "metadata": {},
   "outputs": [],
   "source": [
    "n=1\n",
    "if n == 1:\n",
    "   print(\"\\nFirst day of a Month!\")\n",
    "print()\n"
   ]
  },
  {
   "cell_type": "markdown",
   "id": "44c6ea5a",
   "metadata": {},
   "source": [
    "# 90. Write a Python program to create a copy of its own source code."
   ]
  },
  {
   "cell_type": "code",
   "execution_count": 73,
   "id": "11ba51f2",
   "metadata": {},
   "outputs": [],
   "source": [
    "def file_copy(src, dest):\n",
    "    with open(src) as f, open(dest, 'w') as d:\n",
    "        d.write(f.read())\n",
    "        file_copy(\"untitled0.py\", \"z.py\")\n",
    "        with open('z.py', 'r') as filehandle:\n",
    "            for line in filehandle:\n",
    "                print(line, end = '')\n"
   ]
  },
  {
   "cell_type": "markdown",
   "id": "b9fc3656",
   "metadata": {},
   "source": [
    "# 91. Write a Python program to swap two variables."
   ]
  },
  {
   "cell_type": "code",
   "execution_count": 74,
   "id": "4f92c58d",
   "metadata": {},
   "outputs": [
    {
     "name": "stdout",
     "output_type": "stream",
     "text": [
      "\n",
      "Before swap a = 30 and b = 20\n",
      "\n",
      "After swaping a = 20 and b = 30\n",
      "\n"
     ]
    }
   ],
   "source": [
    "a = 30\n",
    "b = 20\n",
    "print(\"\\nBefore swap a = %d and b = %d\" %(a, b))\n",
    "a, b = b, a\n",
    "print(\"\\nAfter swaping a = %d and b = %d\" %(a, b))\n",
    "print()\n"
   ]
  },
  {
   "cell_type": "markdown",
   "id": "53a62dfd",
   "metadata": {},
   "source": [
    "# 92. Write a Python program to define a string containing special characters in various forms."
   ]
  },
  {
   "cell_type": "code",
   "execution_count": 75,
   "id": "312cebff",
   "metadata": {},
   "outputs": [
    {
     "name": "stdout",
     "output_type": "stream",
     "text": [
      "\n",
      "\\#{'}${\"}@/\n",
      "\\#{'}${\"}@/\n",
      "\\#{'}${\"}@/\n",
      "\\#{'}${\"}@/\n",
      "\\#{'}${\"}@/\n",
      "\\#{'}${\"}@/\n",
      "\n"
     ]
    }
   ],
   "source": [
    "print()\n",
    "print(\"\\#{'}${\\\"}@/\")\n",
    "print(\"\\#{'}${\"'\"'\"}@/\")\n",
    "print(r\"\"\"\\#{'}${\"}@/\"\"\")\n",
    "print('\\#{\\'}${\"}@/')\n",
    "print('\\#{'\"'\"'}${\"}@/')\n",
    "print(r'''\\#{'}${\"}@/''')\n",
    "print()\n"
   ]
  },
  {
   "cell_type": "markdown",
   "id": "d4556994",
   "metadata": {},
   "source": [
    "# 93. Write a Python program to get the Identity, Type, and Value of an object."
   ]
  },
  {
   "cell_type": "code",
   "execution_count": 76,
   "id": "86dfb52d",
   "metadata": {},
   "outputs": [
    {
     "name": "stdout",
     "output_type": "stream",
     "text": [
      "\n",
      "Identity:  34\n",
      "\n",
      "Type:  <class 'int'>\n",
      "\n",
      "Value:  2034969347344\n"
     ]
    }
   ],
   "source": [
    "x = 34\n",
    "print(\"\\nIdentity: \",x)\n",
    "print(\"\\nType: \",type(x))\n",
    "print(\"\\nValue: \",id(x))\n"
   ]
  },
  {
   "cell_type": "markdown",
   "id": "a6325ea7",
   "metadata": {},
   "source": [
    "# 94. Write a Python program to convert the bytes in a given string to a list of integers."
   ]
  },
  {
   "cell_type": "code",
   "execution_count": 77,
   "id": "84ed1e40",
   "metadata": {},
   "outputs": [
    {
     "name": "stdout",
     "output_type": "stream",
     "text": [
      "\n",
      "\n",
      "Convert bytes of the said string to a list of integers:\n",
      "[65, 98, 99]\n",
      "\n"
     ]
    }
   ],
   "source": [
    "x = b'Abc'\n",
    "print()\n",
    "print(\"\\nConvert bytes of the said string to a list of integers:\")\n",
    "print(list(x))\n",
    "print()\n"
   ]
  },
  {
   "cell_type": "markdown",
   "id": "5ffe9160",
   "metadata": {},
   "source": [
    "# 95. Write a Python program to check whether a string is numeric."
   ]
  },
  {
   "cell_type": "code",
   "execution_count": 78,
   "id": "ee6e5b53",
   "metadata": {},
   "outputs": [
    {
     "name": "stdout",
     "output_type": "stream",
     "text": [
      "\n",
      "Not numeric\n",
      "\n"
     ]
    }
   ],
   "source": [
    "str = 'a123'\n",
    "#str = '123'\n",
    "try:\n",
    "    i = float(str)\n",
    "except (ValueError, TypeError):\n",
    "    print('\\nNot numeric')\n",
    "print()\n"
   ]
  },
  {
   "cell_type": "markdown",
   "id": "6246608b",
   "metadata": {},
   "source": [
    "# 96. Write a Python program to print the current call stack."
   ]
  },
  {
   "cell_type": "code",
   "execution_count": 79,
   "id": "cf41eb58",
   "metadata": {},
   "outputs": [
    {
     "name": "stdout",
     "output_type": "stream",
     "text": [
      "\n",
      "\n"
     ]
    },
    {
     "name": "stderr",
     "output_type": "stream",
     "text": [
      "  File \"C:\\ProgramData\\anaconda3\\lib\\runpy.py\", line 196, in _run_module_as_main\n",
      "    return _run_code(code, main_globals, None,\n",
      "  File \"C:\\ProgramData\\anaconda3\\lib\\runpy.py\", line 86, in _run_code\n",
      "    exec(code, run_globals)\n",
      "  File \"C:\\ProgramData\\anaconda3\\lib\\site-packages\\ipykernel_launcher.py\", line 17, in <module>\n",
      "    app.launch_new_instance()\n",
      "  File \"C:\\ProgramData\\anaconda3\\lib\\site-packages\\traitlets\\config\\application.py\", line 992, in launch_instance\n",
      "    app.start()\n",
      "  File \"C:\\ProgramData\\anaconda3\\lib\\site-packages\\ipykernel\\kernelapp.py\", line 711, in start\n",
      "    self.io_loop.start()\n",
      "  File \"C:\\ProgramData\\anaconda3\\lib\\site-packages\\tornado\\platform\\asyncio.py\", line 199, in start\n",
      "    self.asyncio_loop.run_forever()\n",
      "  File \"C:\\ProgramData\\anaconda3\\lib\\asyncio\\base_events.py\", line 603, in run_forever\n",
      "    self._run_once()\n",
      "  File \"C:\\ProgramData\\anaconda3\\lib\\asyncio\\base_events.py\", line 1906, in _run_once\n",
      "    handle._run()\n",
      "  File \"C:\\ProgramData\\anaconda3\\lib\\asyncio\\events.py\", line 80, in _run\n",
      "    self._context.run(self._callback, *self._args)\n",
      "  File \"C:\\ProgramData\\anaconda3\\lib\\site-packages\\ipykernel\\kernelbase.py\", line 510, in dispatch_queue\n",
      "    await self.process_one()\n",
      "  File \"C:\\ProgramData\\anaconda3\\lib\\site-packages\\ipykernel\\kernelbase.py\", line 499, in process_one\n",
      "    await dispatch(*args)\n",
      "  File \"C:\\ProgramData\\anaconda3\\lib\\site-packages\\ipykernel\\kernelbase.py\", line 406, in dispatch_shell\n",
      "    await result\n",
      "  File \"C:\\ProgramData\\anaconda3\\lib\\site-packages\\ipykernel\\kernelbase.py\", line 729, in execute_request\n",
      "    reply_content = await reply_content\n",
      "  File \"C:\\ProgramData\\anaconda3\\lib\\site-packages\\ipykernel\\ipkernel.py\", line 411, in do_execute\n",
      "    res = shell.run_cell(\n",
      "  File \"C:\\ProgramData\\anaconda3\\lib\\site-packages\\ipykernel\\zmqshell.py\", line 531, in run_cell\n",
      "    return super().run_cell(*args, **kwargs)\n",
      "  File \"C:\\ProgramData\\anaconda3\\lib\\site-packages\\IPython\\core\\interactiveshell.py\", line 2961, in run_cell\n",
      "    result = self._run_cell(\n",
      "  File \"C:\\ProgramData\\anaconda3\\lib\\site-packages\\IPython\\core\\interactiveshell.py\", line 3016, in _run_cell\n",
      "    result = runner(coro)\n",
      "  File \"C:\\ProgramData\\anaconda3\\lib\\site-packages\\IPython\\core\\async_helpers.py\", line 129, in _pseudo_sync_runner\n",
      "    coro.send(None)\n",
      "  File \"C:\\ProgramData\\anaconda3\\lib\\site-packages\\IPython\\core\\interactiveshell.py\", line 3221, in run_cell_async\n",
      "    has_raised = await self.run_ast_nodes(code_ast.body, cell_name,\n",
      "  File \"C:\\ProgramData\\anaconda3\\lib\\site-packages\\IPython\\core\\interactiveshell.py\", line 3400, in run_ast_nodes\n",
      "    if await self.run_code(code, result, async_=asy):\n",
      "  File \"C:\\ProgramData\\anaconda3\\lib\\site-packages\\IPython\\core\\interactiveshell.py\", line 3460, in run_code\n",
      "    exec(code_obj, self.user_global_ns, self.user_ns)\n",
      "  File \"C:\\Users\\Akshit Koche\\AppData\\Local\\Temp\\ipykernel_21208\\3146606309.py\", line 5, in <module>\n",
      "    f1()\n",
      "  File \"C:\\Users\\Akshit Koche\\AppData\\Local\\Temp\\ipykernel_21208\\3146606309.py\", line 3, in f1\n",
      "    def f1():return abc()\n",
      "  File \"C:\\Users\\Akshit Koche\\AppData\\Local\\Temp\\ipykernel_21208\\3146606309.py\", line 4, in abc\n",
      "    def abc():traceback.print_stack()\n"
     ]
    }
   ],
   "source": [
    "import traceback\n",
    "print()\n",
    "def f1():return abc()\n",
    "def abc():traceback.print_stack()\n",
    "f1()\n",
    "print()\n"
   ]
  },
  {
   "cell_type": "markdown",
   "id": "a6d9e156",
   "metadata": {},
   "source": [
    "# 97. Write a Python program to list the special variables used in the language."
   ]
  },
  {
   "cell_type": "code",
   "execution_count": 80,
   "id": "b9fbd633",
   "metadata": {},
   "outputs": [
    {
     "name": "stdout",
     "output_type": "stream",
     "text": [
      "\n",
      "ArithmeticError AssertionError AttributeError BaseException BlockingIOError BrokenPipeError BufferError BytesWarning\n",
      "ChildProcessError ConnectionAbortedError ConnectionError ConnectionRefusedError ConnectionResetError DeprecationWarning EOFError Ellipsis\n",
      "EncodingWarning EnvironmentError Exception False FileExistsError FileNotFoundError FloatingPointError FutureWarning\n",
      "GeneratorExit IOError ImportError ImportWarning In IndentationError IndexError InterruptedError\n",
      "IsADirectoryError KeyError KeyboardInterrupt LookupError MemoryError ModuleNotFoundError NameError None\n",
      "NotADirectoryError NotImplemented NotImplementedError OSError Out OverflowError PendingDeprecationWarning PermissionError\n",
      "ProcessLookupError RecursionError ReferenceError ResourceWarning RuntimeError RuntimeWarning StopAsyncIteration StopIteration\n",
      "SyntaxError SyntaxWarning SystemError SystemExit TabError TimeoutError True TypeError\n",
      "UnboundLocalError UnicodeDecodeError UnicodeEncodeError UnicodeError UnicodeTranslateError UnicodeWarning UserWarning ValueError\n",
      "Warning WindowsError ZeroDivisionError _68 __ __IPYTHON__ ___ __build_class__\n",
      "__builtin__ __builtins__ __debug__ __doc__ __import__ __loader__ __name__ __package__\n",
      "__spec__ _dh _i _i1 _i10 _i11 _i12 _i13\n",
      "_i14 _i15 _i16 _i17 _i18 _i19 _i2 _i20\n",
      "_i21 _i22 _i23 _i24 _i25 _i26 _i27 _i28\n",
      "_i29 _i3 _i30 _i31 _i32 _i33 _i34 _i35\n",
      "_i36 _i37 _i38 _i39 _i4 _i40 _i41 _i43\n",
      "_i45 _i46 _i47 _i48 _i49 _i5 _i50 _i51\n",
      "_i52 _i53 _i54 _i55 _i56 _i57 _i58 _i59\n",
      "_i6 _i60 _i61 _i62 _i63 _i64 _i65 _i66\n",
      "_i67 _i68 _i69 _i7 _i70 _i71 _i72 _i73\n",
      "_i74 _i75 _i76 _i77 _i78 _i79 _i8 _i80\n",
      "_i9 _ih _ii _iii _oh a abc abs\n",
      "add addr aiter all anext any ascii b\n",
      "bin bool breakpoint bytearray bytes callable chr classmethod\n",
      "color compile complex copyright credits d dechimal_nums dechimal_to_Hex\n",
      "default_timer delattr dict dir display divmod enumerate eval\n",
      "exec execfile exit f1 file_copy file_list filename filter\n",
      "find_path float format frozenset get_ipython getattr getmodule glob\n",
      "globals has_odd_product_pair hasattr hash help hex host_name id\n",
      "imp input inspect int int_val isinstance issubclass iter\n",
      "json l len license list locals lower_case_str map\n",
      "math max max_min memoryview min multiple multiple_variables_equality n\n",
      "next num num_list number numbers nums nums_product object\n",
      "oct open ord order_amt os path pos_nums pow\n",
      "print property quit range reduce repr result reversed\n",
      "round runfile s_var_names set setattr slice socket sorted\n",
      "sqrt staticmethod str str1 str2 str_num struct sum\n",
      "sum_cubes super sys t test time timer traceback\n",
      "tuple type values var_list vars x y z\n",
      "zip\n",
      "\n"
     ]
    }
   ],
   "source": [
    "s_var_names = sorted((set(globals().keys()) | set(__builtins__.__dict__.keys())) - set('_ names i'.split()))\n",
    "print()\n",
    "print( '\\n'.join(' '.join(s_var_names[i:i+8]) for i in range(0, len(s_var_names), 8)) )\n",
    "print()\n"
   ]
  },
  {
   "cell_type": "markdown",
   "id": "693e06d3",
   "metadata": {},
   "source": [
    "# 98. Write a Python program to get system time.\n",
    "\n",
    "Note : The system time is important for debugging, network information, random number seeds, or something as simple as program performance."
   ]
  },
  {
   "cell_type": "code",
   "execution_count": 69,
   "id": "6a0c757c",
   "metadata": {},
   "outputs": [
    {
     "name": "stdout",
     "output_type": "stream",
     "text": [
      "\n",
      "Tue Jun 20 15:12:14 2023\n",
      "\n"
     ]
    }
   ],
   "source": [
    "import time\n",
    "print()\n",
    "print(time.ctime())\n",
    "print()\n"
   ]
  },
  {
   "cell_type": "markdown",
   "id": "da845dab",
   "metadata": {},
   "source": [
    "# 99. Write a Python program to clear the screen or terminal."
   ]
  },
  {
   "cell_type": "code",
   "execution_count": 68,
   "id": "356af76e",
   "metadata": {},
   "outputs": [
    {
     "data": {
      "text/plain": [
       "1"
      ]
     },
     "execution_count": 68,
     "metadata": {},
     "output_type": "execute_result"
    }
   ],
   "source": [
    "import os\n",
    "import time\n",
    "# for windows\n",
    "# os.system('cls')\n",
    "os.system(\"ls\")\n",
    "time.sleep(2)\n",
    "# Ubuntu version 10.10\n",
    "os.system('clear')\n"
   ]
  },
  {
   "cell_type": "markdown",
   "id": "2f603181",
   "metadata": {},
   "source": [
    "# 100. Write a Python program to get the name of the host on which the routine is running."
   ]
  },
  {
   "cell_type": "code",
   "execution_count": 67,
   "id": "7679b932",
   "metadata": {},
   "outputs": [
    {
     "name": "stdout",
     "output_type": "stream",
     "text": [
      "Host name: LAPTOP-E0VMF9CR\n"
     ]
    }
   ],
   "source": [
    "import socket\n",
    "host_name = socket.gethostname()\n",
    "print(\"Host name:\", host_name)\n"
   ]
  },
  {
   "cell_type": "markdown",
   "id": "f5046768",
   "metadata": {},
   "source": [
    "# 101. Write a Python program to access and print a URL's content to the console."
   ]
  },
  {
   "cell_type": "code",
   "execution_count": null,
   "id": "2e357c6f",
   "metadata": {},
   "outputs": [],
   "source": [
    "from http.client import HTTPConnection\n",
    "conn = HTTPConnection(\"example.com\")\n",
    "conn.request(\"GET\", \"/\")  \n",
    "result = conn.getresponse()\n",
    "# retrieves the entire contents.  \n",
    "contents = result.read() \n",
    "print(contents)\n"
   ]
  },
  {
   "cell_type": "code",
   "execution_count": null,
   "id": "bfca6a81",
   "metadata": {},
   "outputs": [],
   "source": [
    "import requests\n",
    "data = requests.get('https://google.com/')\n",
    "print(data.text)\n"
   ]
  },
  {
   "cell_type": "markdown",
   "id": "182a87c7",
   "metadata": {},
   "source": [
    "# 102. Write a Python program to get system command output."
   ]
  },
  {
   "cell_type": "code",
   "execution_count": null,
   "id": "a52b507b",
   "metadata": {},
   "outputs": [],
   "source": [
    "import subprocess\n",
    "# file and directory listing\n",
    "returned_text = subprocess.check_output(\"dir\", shell=True, universal_newlines=True)\n",
    "print(\"dir command to list file and directory\")\n",
    "print(returned_text)\n"
   ]
  },
  {
   "cell_type": "markdown",
   "id": "ed98300a",
   "metadata": {},
   "source": [
    "# 103. Write a Python program to extract the filename from a given path.\n"
   ]
  },
  {
   "cell_type": "code",
   "execution_count": null,
   "id": "33b3dadf",
   "metadata": {},
   "outputs": [],
   "source": [
    "import os\n",
    "\n",
    "def extract_filename(path):\n",
    "    return os.path.basename(path)\n",
    "\n",
    "# Example usage\n",
    "path = '/path/to/file.txt'\n",
    "filename = extract_filename(path)\n",
    "print(f\"Filename: {filename}\")\n",
    "\n"
   ]
  },
  {
   "cell_type": "markdown",
   "id": "d01029d5",
   "metadata": {},
   "source": [
    "# 104. Write a Python program to get the effective group id, effective user id, real group id, and a list of supplemental group ids associated with the current process.\n",
    "Note: Availability: Unix."
   ]
  },
  {
   "cell_type": "code",
   "execution_count": null,
   "id": "e7d9f231",
   "metadata": {},
   "outputs": [],
   "source": [
    "import os\n",
    "print(\"\\nEffective group id: \",os.getegid())\n",
    "print(\"Effective user id: \",os.geteuid())\n",
    "print(\"Real group id: \",os.getgid())\n",
    "print(\"List of supplemental group ids: \",os.getgroups())\n",
    "print()\n"
   ]
  },
  {
   "cell_type": "markdown",
   "id": "2d69f8a9",
   "metadata": {},
   "source": [
    "# 105. Write a Python program to get the users environment."
   ]
  },
  {
   "cell_type": "code",
   "execution_count": null,
   "id": "cd0a4dc2",
   "metadata": {},
   "outputs": [],
   "source": [
    "import os\n",
    "print()\n",
    "print(os.environ)\n",
    "print()\n"
   ]
  },
  {
   "cell_type": "markdown",
   "id": "826e79bf",
   "metadata": {},
   "source": [
    "# 106. Write a Python program to divide a path by the extension separator."
   ]
  },
  {
   "cell_type": "code",
   "execution_count": null,
   "id": "78224ece",
   "metadata": {},
   "outputs": [],
   "source": [
    "import os.path\n",
    "for path in [ 'test.txt', 'filename', '/user/system/test.txt', '/', '' ]:\n",
    "    print('\"%s\" :' % path, os.path.splitext(path))\n",
    "\t"
   ]
  },
  {
   "cell_type": "markdown",
   "id": "d1e24e67",
   "metadata": {},
   "source": [
    "# 107. Write a Python program to retrieve file properties."
   ]
  },
  {
   "cell_type": "code",
   "execution_count": null,
   "id": "e8e19ae3",
   "metadata": {},
   "outputs": [],
   "source": [
    "import os.path\n",
    "import time\n",
    "\n",
    "print('File         :', __file__)\n",
    "print('Access time  :', time.ctime(os.path.getatime(__file__)))\n",
    "print('Modified time:', time.ctime(os.path.getmtime(__file__)))\n",
    "print('Change time  :', time.ctime(os.path.getctime(__file__)))\n",
    "print('Size         :', os.path.getsize(__file__))\n"
   ]
  },
  {
   "cell_type": "markdown",
   "id": "2a6c9953",
   "metadata": {},
   "source": [
    "# 108. Write a Python program to find the path to a file or directory when you encounter a path name.\n",
    "\n"
   ]
  },
  {
   "cell_type": "code",
   "execution_count": 64,
   "id": "9a05d1aa",
   "metadata": {},
   "outputs": [
    {
     "name": "stdout",
     "output_type": "stream",
     "text": [
      "'example.txt' not found.\n"
     ]
    }
   ],
   "source": [
    "import os\n",
    "\n",
    "def find_path(name):\n",
    "    for root, dirs, files in os.walk('/'):\n",
    "        if name in files or name in dirs:\n",
    "            return os.path.join(root, name)\n",
    "    return None\n",
    "\n",
    "# Example usage\n",
    "filename = 'example.txt'\n",
    "path = find_path(filename)\n",
    "\n",
    "if path:\n",
    "    print(f\"Path to '{filename}': {path}\")\n",
    "else:\n",
    "    print(f\"'{filename}' not found.\")\n"
   ]
  },
  {
   "cell_type": "markdown",
   "id": "89789144",
   "metadata": {},
   "source": [
    "# 109. Write a Python program to find the path to a file or directory when you encounter a path name."
   ]
  },
  {
   "cell_type": "code",
   "execution_count": 62,
   "id": "bbdff6ef",
   "metadata": {},
   "outputs": [
    {
     "name": "stdout",
     "output_type": "stream",
     "text": [
      "Input a number: 8\n",
      "It is positive number\n"
     ]
    }
   ],
   "source": [
    "num = float(input(\"Input a number: \"))\n",
    "if num > 0:\n",
    "   print(\"It is positive number\")\n",
    "elif num == 0:\n",
    "   print(\"It is Zero\")\n",
    "else:\n",
    "   print(\"It is a negative number\")\n",
    "   "
   ]
  },
  {
   "cell_type": "markdown",
   "id": "3e667e2c",
   "metadata": {},
   "source": [
    "# 110. Write a Python program to get numbers divisible by fifteen from a list using an anonymous function."
   ]
  },
  {
   "cell_type": "code",
   "execution_count": 61,
   "id": "cb526ab2",
   "metadata": {},
   "outputs": [
    {
     "name": "stdout",
     "output_type": "stream",
     "text": [
      "Numbers divisible by 15 are [45, 60, 105]\n"
     ]
    }
   ],
   "source": [
    "num_list = [45, 55, 60, 37, 100, 105, 220]\n",
    "# use anonymous function to filter\n",
    "result = list(filter(lambda x: (x % 15 == 0), num_list))\n",
    "print(\"Numbers divisible by 15 are\",result)\n"
   ]
  },
  {
   "cell_type": "markdown",
   "id": "a469eb91",
   "metadata": {},
   "source": [
    "# 111. Write a Python program to make file lists from the current directory using a wildcard."
   ]
  },
  {
   "cell_type": "code",
   "execution_count": 60,
   "id": "28aa4325",
   "metadata": {},
   "outputs": [
    {
     "name": "stdout",
     "output_type": "stream",
     "text": [
      "['20 most important functions.docx', 'amazing design.ipynb', 'Pandas Functions simple.docx', 'Pandas Practice.docx', 'Pandas_bascis2.ipynb', 'pandas_basics.ipynb', 'Pandas_police_data.ipynb', 'police.csv', 'Python Basic (Part -I) .ipynb', 'Python Basic(Part-II).ipynb', 'turtle design in python.ipynb', 'untitled.txt']\n",
      "[]\n",
      "[]\n"
     ]
    }
   ],
   "source": [
    "import glob\n",
    "file_list = glob.glob('*.*')\n",
    "print(file_list)\n",
    "#Specific files\n",
    "print(glob.glob('*.py'))\n",
    "print(glob.glob('./[0-9].*'))\n"
   ]
  },
  {
   "cell_type": "markdown",
   "id": "b94dc6a8",
   "metadata": {},
   "source": [
    "# 112. Write a Python program to remove the first item from a specified list."
   ]
  },
  {
   "cell_type": "code",
   "execution_count": 59,
   "id": "c2de1523",
   "metadata": {},
   "outputs": [
    {
     "name": "stdout",
     "output_type": "stream",
     "text": [
      "Original list elements:\n",
      "['Red', 'Black', 'Green', 'White', 'Orange']\n",
      "After removing the first color:\n",
      "['Black', 'Green', 'White', 'Orange']\n"
     ]
    }
   ],
   "source": [
    "color = [\"Red\", \"Black\", \"Green\", \"White\", \"Orange\"]\n",
    "print(\"Original list elements:\")\n",
    "print(color)\n",
    "del color[0]\n",
    "print(\"After removing the first color:\")\n",
    "print(color)\n"
   ]
  },
  {
   "cell_type": "markdown",
   "id": "66c15794",
   "metadata": {},
   "source": [
    "# 113. Write a Python program that inputs a number and generates an error message if it is not a number."
   ]
  },
  {
   "cell_type": "code",
   "execution_count": 58,
   "id": "57ab446c",
   "metadata": {},
   "outputs": [
    {
     "name": "stdout",
     "output_type": "stream",
     "text": [
      "Input a number: 5\n"
     ]
    }
   ],
   "source": [
    "while True:\n",
    "    try:\n",
    "        a = int(input(\"Input a number: \"))\n",
    "        break\n",
    "    except ValueError:\n",
    "        print(\"\\nThis is not a number. Try again...\")\n",
    "        print()\n",
    "\t\t"
   ]
  },
  {
   "cell_type": "markdown",
   "id": "91a6a4cc",
   "metadata": {},
   "source": [
    "# 114. Write a Python program to filter positive numbers from a list."
   ]
  },
  {
   "cell_type": "code",
   "execution_count": 57,
   "id": "d5437a84",
   "metadata": {},
   "outputs": [
    {
     "name": "stdout",
     "output_type": "stream",
     "text": [
      "Original numbers in the list:  [34, 1, 0, -23, 12, -88]\n",
      "Positive numbers in the said list: \n",
      "34 1 12 "
     ]
    }
   ],
   "source": [
    "nums = [34, 1, 0, -23, 12, -88]\n",
    "print(\"Original numbers in the list: \",nums)\n",
    "print(\"Positive numbers in the said list: \")\n",
    "for pos_nums in nums:\n",
    "    if pos_nums > 0:\n",
    "        print(pos_nums, end = \" \")\n"
   ]
  },
  {
   "cell_type": "markdown",
   "id": "2e1ec544",
   "metadata": {},
   "source": [
    "# 115. Write a Python program to compute the product of a list of integers (without using a for loop)."
   ]
  },
  {
   "cell_type": "code",
   "execution_count": 56,
   "id": "d9f85a5b",
   "metadata": {},
   "outputs": [
    {
     "name": "stdout",
     "output_type": "stream",
     "text": [
      "Original list numbers:\n",
      "[10, 20, 30]\n",
      "\n",
      "Product of the said numbers (without using for loop): 6000\n"
     ]
    }
   ],
   "source": [
    "from functools import reduce\n",
    "nums = [10, 20, 30,]\n",
    "print(\"Original list numbers:\")\n",
    "print(nums)\n",
    "nums_product = reduce( (lambda x, y: x * y), nums)\n",
    "print(\"\\nProduct of the said numbers (without using for loop):\",nums_product)\n"
   ]
  },
  {
   "cell_type": "code",
   "execution_count": 55,
   "id": "4185b2d1",
   "metadata": {},
   "outputs": [
    {
     "name": "stdout",
     "output_type": "stream",
     "text": [
      "Original list numbers:\n",
      "[10, 20, 30]\n",
      "\n",
      "Product of the said numbers (without using for loop): 6000\n"
     ]
    }
   ],
   "source": [
    "import math\n",
    " # Python version 3.9.\n",
    "nums = [10, 20, 30,]\n",
    "print(\"Original list numbers:\")\n",
    "print(nums)\n",
    "nums_product = math.prod(nums)\n",
    "print(\"\\nProduct of the said numbers (without using for loop):\",nums_product)\n"
   ]
  },
  {
   "cell_type": "markdown",
   "id": "157b0127",
   "metadata": {},
   "source": [
    "# 116. Write a Python program to print Unicode characters."
   ]
  },
  {
   "cell_type": "code",
   "execution_count": 54,
   "id": "2417b2a5",
   "metadata": {},
   "outputs": [
    {
     "name": "stdout",
     "output_type": "stream",
     "text": [
      "\n",
      "Python Exercises - w3resource\n",
      "\n"
     ]
    }
   ],
   "source": [
    "str = u'\\u0050\\u0079\\u0074\\u0068\\u006f\\u006e \\u0045\\u0078\\u0065\\u0072\\u0063\\u0069\\u0073\\u0065\\u0073 \\u002d \\u0077\\u0033\\u0072\\u0065\\u0073\\u006f\\u0075\\u0072\\u0063\\u0065'\n",
    "print()\n",
    "print(str)\n",
    "print()\n"
   ]
  },
  {
   "cell_type": "markdown",
   "id": "6faf0d7b",
   "metadata": {},
   "source": [
    "# 117. Write a Python program to prove that two string variables of the same value point to the same memory location.\n"
   ]
  },
  {
   "cell_type": "code",
   "execution_count": 53,
   "id": "d328b156",
   "metadata": {},
   "outputs": [
    {
     "name": "stdout",
     "output_type": "stream",
     "text": [
      "\n",
      "Memory location of str1 = 0x1d9cdeb41b0\n",
      "Memory location of str2 = 0x1d9cdeb41b0\n",
      "\n"
     ]
    }
   ],
   "source": [
    "str1 = \"Python\"\n",
    "str2 = \"Python\"\n",
    " \n",
    "print(\"\\nMemory location of str1 =\", hex(id(str1)))\n",
    "print(\"Memory location of str2 =\", hex(id(str2)))\n",
    "print()\n"
   ]
  },
  {
   "cell_type": "markdown",
   "id": "2d660fe1",
   "metadata": {},
   "source": [
    "# 118. Write a Python program to create a bytearray from a list."
   ]
  },
  {
   "cell_type": "code",
   "execution_count": 52,
   "id": "f78774d6",
   "metadata": {},
   "outputs": [
    {
     "name": "stdout",
     "output_type": "stream",
     "text": [
      "\n",
      "10\n",
      "20\n",
      "56\n",
      "35\n",
      "17\n",
      "99\n",
      "\n"
     ]
    }
   ],
   "source": [
    "print()\n",
    "nums = [10, 20, 56, 35, 17, 99]\n",
    "# Create bytearray from list of integers.\n",
    "values = bytearray(nums)\n",
    "for x in values: print(x)\n",
    "print()\n"
   ]
  },
  {
   "cell_type": "markdown",
   "id": "7c331f27",
   "metadata": {},
   "source": [
    "# 119. Write a Python program to round a floating-point number to a specified number of decimal places."
   ]
  },
  {
   "cell_type": "code",
   "execution_count": 51,
   "id": "b478e468",
   "metadata": {},
   "outputs": [
    {
     "name": "stdout",
     "output_type": "stream",
     "text": [
      "\n",
      "The total order amount comes to 212.374000\n",
      "The total order amount comes to 212.37\n",
      "\n"
     ]
    }
   ],
   "source": [
    "order_amt = 212.374\n",
    "print('\\nThe total order amount comes to %f' % order_amt)\n",
    "print('The total order amount comes to %.2f' % order_amt)\n",
    "print()\n"
   ]
  },
  {
   "cell_type": "markdown",
   "id": "f3df32fb",
   "metadata": {},
   "source": [
    "# 120. Write a Python program to format a specified string and limit the length of a string.\n"
   ]
  },
  {
   "cell_type": "code",
   "execution_count": 50,
   "id": "dd497e10",
   "metadata": {},
   "outputs": [
    {
     "name": "stdout",
     "output_type": "stream",
     "text": [
      "Original string: 1234567890\n",
      "123456\n",
      "123456789\n",
      "1234567890\n"
     ]
    }
   ],
   "source": [
    "str_num = \"1234567890\"\n",
    "print(\"Original string:\",str_num)\n",
    "print('%.6s' % str_num)\n",
    "print('%.9s' % str_num)\n",
    "print('%.10s' % str_num)\n"
   ]
  },
  {
   "cell_type": "markdown",
   "id": "22b2dbc9",
   "metadata": {},
   "source": [
    "# 121. Write a Python program to determine if a variable is defined or not."
   ]
  },
  {
   "cell_type": "code",
   "execution_count": 49,
   "id": "df52cd2d",
   "metadata": {},
   "outputs": [
    {
     "name": "stdout",
     "output_type": "stream",
     "text": [
      "Variable is defined.\n",
      "Variable is defined.\n"
     ]
    }
   ],
   "source": [
    "try:\n",
    "    x = 1\n",
    "except NameError:\n",
    "    print(\"Variable is not defined....!\")\n",
    "else:\n",
    "    print(\"Variable is defined.\")\n",
    "try:\n",
    "    y\n",
    "except NameError:\n",
    "    print(\"Variable is not defined....!\")\n",
    "else:\n",
    "    print(\"Variable is defined.\")\n",
    "  "
   ]
  },
  {
   "cell_type": "markdown",
   "id": "e64d682a",
   "metadata": {},
   "source": [
    "# 122. Write a Python program to empty a variable without destroying it.\n",
    "\n",
    "Sample data: n=20\n",
    "d = {\"x\":200}\n",
    "Expected Output : 0\n",
    "{}"
   ]
  },
  {
   "cell_type": "code",
   "execution_count": 48,
   "id": "e1eafe1f",
   "metadata": {},
   "outputs": [
    {
     "name": "stdout",
     "output_type": "stream",
     "text": [
      "0\n",
      "{}\n",
      "[]\n",
      "()\n"
     ]
    }
   ],
   "source": [
    "n = 20\n",
    "d = {\"x\":200}\n",
    "l = [1,3,5]\n",
    "t= (5,7,8)\n",
    "print(type(n)())\n",
    "print(type(d)())\n",
    "print(type(l)())\n",
    "print(type(t)())\n"
   ]
  },
  {
   "cell_type": "markdown",
   "id": "574bef4f",
   "metadata": {},
   "source": [
    "# 123. Write a Python program to determine the largest and smallest integers, longs, and floats."
   ]
  },
  {
   "cell_type": "code",
   "execution_count": 46,
   "id": "3ed5af4a",
   "metadata": {},
   "outputs": [
    {
     "name": "stdout",
     "output_type": "stream",
     "text": [
      "Float value information:  sys.float_info(max=1.7976931348623157e+308, max_exp=1024, max_10_exp=308, min=2.2250738585072014e-308, min_exp=-1021, min_10_exp=-307, dig=15, mant_dig=53, epsilon=2.220446049250313e-16, radix=2, rounds=1)\n",
      "\n",
      "Integer value information:  sys.int_info(bits_per_digit=30, sizeof_digit=4, default_max_str_digits=4300, str_digits_check_threshold=640)\n",
      "\n",
      "Maximum size of an integer:  9223372036854775807\n"
     ]
    }
   ],
   "source": [
    "import sys\n",
    "print(\"Float value information: \",sys.float_info)\n",
    "print(\"\\nInteger value information: \",sys.int_info)\n",
    "print(\"\\nMaximum size of an integer: \",sys.maxsize) \n"
   ]
  },
  {
   "cell_type": "markdown",
   "id": "835b64c3",
   "metadata": {},
   "source": [
    "# 124. Write a Python program to check whether multiple variables have the same value."
   ]
  },
  {
   "cell_type": "code",
   "execution_count": 47,
   "id": "ae9cc902",
   "metadata": {},
   "outputs": [
    {
     "name": "stdout",
     "output_type": "stream",
     "text": [
      "All variables have not same value.\n",
      "All variables have same value.\n",
      "All variables have same value.\n"
     ]
    }
   ],
   "source": [
    "def multiple_variables_equality(*vars):\n",
    "    for x in vars:\n",
    "        if x != vars[0]:\n",
    "            return \"All variables have not same value.\"\n",
    "    return \"All variables have same value.\"\n",
    "print(multiple_variables_equality(2,3,2,2,2,2))\n",
    "print(multiple_variables_equality(10,10,10,10))\n",
    "print(multiple_variables_equality(-3,-3,-3,-3))  \n"
   ]
  },
  {
   "cell_type": "markdown",
   "id": "5dbb035d",
   "metadata": {},
   "source": [
    "# 125. Write a Python program to sum all counts in a collection."
   ]
  },
  {
   "cell_type": "code",
   "execution_count": null,
   "id": "56d10cc0",
   "metadata": {},
   "outputs": [],
   "source": [
    "nums = [2,2,4,6,6,8,6,10,4]\n",
    "print(len(nums))\n"
   ]
  },
  {
   "cell_type": "markdown",
   "id": "13332fa0",
   "metadata": {},
   "source": [
    "# 126. Write a Python program to get the actual module object for a given object."
   ]
  },
  {
   "cell_type": "code",
   "execution_count": 38,
   "id": "033595cc",
   "metadata": {},
   "outputs": [
    {
     "name": "stdout",
     "output_type": "stream",
     "text": [
      "<module 'math' (built-in)>\n"
     ]
    }
   ],
   "source": [
    "from inspect import getmodule\n",
    "from math import sqrt\n",
    "print(getmodule(sqrt))\n"
   ]
  },
  {
   "cell_type": "code",
   "execution_count": 39,
   "id": "69c66ebe",
   "metadata": {},
   "outputs": [
    {
     "name": "stdout",
     "output_type": "stream",
     "text": [
      "<module '__main__'>\n"
     ]
    }
   ],
   "source": [
    "import inspect\n",
    "def add(x, y):\n",
    "    return x + y\n",
    "print(inspect.getmodule(add))\n"
   ]
  },
  {
   "cell_type": "markdown",
   "id": "f9636667",
   "metadata": {},
   "source": [
    "# 127. Write a Python program to check whether an integer fits in 64 bits.\n"
   ]
  },
  {
   "cell_type": "code",
   "execution_count": 40,
   "id": "4329f3aa",
   "metadata": {},
   "outputs": [
    {
     "name": "stdout",
     "output_type": "stream",
     "text": [
      "64\n",
      "64\n"
     ]
    }
   ],
   "source": [
    "int_val = 30\n",
    "if int_val.bit_length() <= 63:\n",
    "    print((-2 ** 63).bit_length())\n",
    "    print((2 ** 63).bit_length())\n",
    "\t"
   ]
  },
  {
   "cell_type": "markdown",
   "id": "33bb6144",
   "metadata": {},
   "source": [
    "# 128. Write a Python program to check whether lowercase letters exist in a string."
   ]
  },
  {
   "cell_type": "code",
   "execution_count": 45,
   "id": "d3fc7a12",
   "metadata": {},
   "outputs": [
    {
     "name": "stdout",
     "output_type": "stream",
     "text": [
      "Original string: A8238i823acdeOUEI\n",
      "Lowercase letters exist in the said string:  True\n",
      "\n",
      "Original string: PYTHON\n",
      "Lowercase letters exist in the said string:  None\n",
      "\n",
      "Original string: javascript\n",
      "Lowercase letters exist in the said string:  True\n"
     ]
    }
   ],
   "source": [
    "def lower_case_str(text):\n",
    "    ctr = 0\n",
    "    for char in text:\n",
    "        if(ord(char) >= 97 and ord(char) <= 122):\n",
    "            ctr = ctr + 1\n",
    "    if (ctr>0):\n",
    "        return True\n",
    "str1 = 'A8238i823acdeOUEI'\n",
    "print(\"Original string:\",str1)\n",
    "print(\"Lowercase letters exist in the said string: \",lower_case_str(str1))\n",
    "str1 = 'PYTHON'\n",
    "print(\"\\nOriginal string:\",str1)\n",
    "print(\"Lowercase letters exist in the said string: \",lower_case_str(str1))\n",
    "str1 = 'javascript'\n",
    "print(\"\\nOriginal string:\",str1)\n",
    "print(\"Lowercase letters exist in the said string: \",lower_case_str(str1))\n"
   ]
  },
  {
   "cell_type": "markdown",
   "id": "ebd140bc",
   "metadata": {},
   "source": [
    "# 129. Write a Python program to add leading zeroes to a string."
   ]
  },
  {
   "cell_type": "code",
   "execution_count": 35,
   "id": "243c0280",
   "metadata": {},
   "outputs": [
    {
     "name": "stdout",
     "output_type": "stream",
     "text": [
      "Original String:  122.22\n",
      "\n",
      "Added trailing zeros:\n",
      "122.2200\n",
      "122.220000\n",
      "\n",
      "Added leading zeros:\n",
      "00122.22\n",
      "0000122.22\n"
     ]
    }
   ],
   "source": [
    "str1='122.22'\n",
    "print(\"Original String: \",str1)\n",
    "print(\"\\nAdded trailing zeros:\")\n",
    "str1 = str1.ljust(8, '0')\n",
    "print(str1)\n",
    "str1 = str1.ljust(10, '0')\n",
    "print(str1)\n",
    "print(\"\\nAdded leading zeros:\")\n",
    "str1='122.22'\n",
    "str1 = str1.rjust(8, '0')\n",
    "print(str1)\n",
    "str1 = str1.rjust(10, '0')\n",
    "print(str1)\n"
   ]
  },
  {
   "cell_type": "markdown",
   "id": "6397ca3e",
   "metadata": {},
   "source": [
    "# 130. Write a Python program that uses double quotes to display strings."
   ]
  },
  {
   "cell_type": "code",
   "execution_count": 36,
   "id": "90661752",
   "metadata": {},
   "outputs": [
    {
     "name": "stdout",
     "output_type": "stream",
     "text": [
      "{\"Alex\": 1, \"Suresh\": 2, \"Agnessa\": 3}\n"
     ]
    }
   ],
   "source": [
    "import json\n",
    "print(json.dumps({'Alex': 1, 'Suresh': 2, 'Agnessa': 3}))\n"
   ]
  },
  {
   "cell_type": "markdown",
   "id": "b9030c71",
   "metadata": {},
   "source": [
    "# 131. Write a Python program to split a variable length string into variables."
   ]
  },
  {
   "cell_type": "code",
   "execution_count": 37,
   "id": "8effe799",
   "metadata": {},
   "outputs": [
    {
     "name": "stdout",
     "output_type": "stream",
     "text": [
      "a b c\n",
      "100 20.25\n"
     ]
    }
   ],
   "source": [
    "var_list = ['a', 'b', 'c']\n",
    "x, y, z = (var_list + [None] * 3)[:3]\n",
    "print(x, y, z)\n",
    "var_list = [100, 20.25]\n",
    "x, y = (var_list + [None] * 2)[:2]\n",
    "print(x, y)\n"
   ]
  },
  {
   "cell_type": "markdown",
   "id": "ee88dba2",
   "metadata": {},
   "source": [
    "# 132. Write a Python program to list the home directory without an absolute path."
   ]
  },
  {
   "cell_type": "code",
   "execution_count": 31,
   "id": "2f902b7d",
   "metadata": {},
   "outputs": [
    {
     "name": "stdout",
     "output_type": "stream",
     "text": [
      "C:\\Users\\Akshit Koche\n"
     ]
    }
   ],
   "source": [
    "import os.path\n",
    "print(os.path.expanduser('~'))\n"
   ]
  },
  {
   "cell_type": "markdown",
   "id": "98f906c2",
   "metadata": {},
   "source": [
    "# 133. Write a Python program to calculate the time runs (difference between start and current time) of a program.\n"
   ]
  },
  {
   "cell_type": "code",
   "execution_count": 32,
   "id": "fe20b5ee",
   "metadata": {},
   "outputs": [
    {
     "name": "stdout",
     "output_type": "stream",
     "text": [
      "0\n",
      "1\n",
      "2\n",
      "3\n",
      "4\n",
      "8.620000153314322e-05\n",
      "0\n",
      "1\n",
      "2\n",
      "3\n",
      "4\n",
      "5\n",
      "6\n",
      "7\n",
      "8\n",
      "9\n",
      "10\n",
      "11\n",
      "12\n",
      "13\n",
      "14\n",
      "4.3400010326877236e-05\n"
     ]
    }
   ],
   "source": [
    "from timeit import default_timer\n",
    "def timer(n):\n",
    "    start = default_timer()\n",
    "    # some code here\n",
    "    for row in range(0,n):\n",
    "        print(row)\n",
    "    print(default_timer() - start)\n",
    "\n",
    "timer(5)\n",
    "timer(15)\n"
   ]
  },
  {
   "cell_type": "markdown",
   "id": "40127e61",
   "metadata": {},
   "source": [
    "# 134. Write a Python program to input two integers on a single line."
   ]
  },
  {
   "cell_type": "code",
   "execution_count": 33,
   "id": "24ce7dfb",
   "metadata": {},
   "outputs": [
    {
     "name": "stdout",
     "output_type": "stream",
     "text": [
      "Input the value of x & y\n",
      "8 5 \n",
      "The value of x & y are:  8 5\n"
     ]
    }
   ],
   "source": [
    "print(\"Input the value of x & y\")\n",
    "x, y = map(int, input().split())\n",
    "print(\"The value of x & y are: \",x,y)\n"
   ]
  },
  {
   "cell_type": "markdown",
   "id": "fd767e1d",
   "metadata": {},
   "source": [
    "# 135. Write a Python program to print a variable without spaces between values.\n",
    "Sample value : x =30\n",
    "Expected output : Value of x is \"30\""
   ]
  },
  {
   "cell_type": "code",
   "execution_count": 29,
   "id": "c6097e05",
   "metadata": {},
   "outputs": [
    {
     "name": "stdout",
     "output_type": "stream",
     "text": [
      "Value of x is \"30\"\n"
     ]
    }
   ],
   "source": [
    "x = 30\n",
    "print('Value of x is \"{}\"'.format(x))\n"
   ]
  },
  {
   "cell_type": "markdown",
   "id": "730a79a3",
   "metadata": {},
   "source": [
    "# 136. Write a Python program to find files and skip directories in a given directory."
   ]
  },
  {
   "cell_type": "code",
   "execution_count": null,
   "id": "00c2ea8f",
   "metadata": {},
   "outputs": [],
   "source": [
    "import os\n",
    "print([f for f in os.listdir('/home/students') if os.path.isfile(os.path.join('/home/students', f))])\n"
   ]
  },
  {
   "cell_type": "markdown",
   "id": "d23511a5",
   "metadata": {},
   "source": [
    "# 137. Write a Python program to extract a single key-value pair from a dictionary into variables."
   ]
  },
  {
   "cell_type": "code",
   "execution_count": null,
   "id": "89ae82bb",
   "metadata": {},
   "outputs": [],
   "source": [
    "d = {'Red': 'Green'}\n",
    "(c1, c2), = d.items()\n",
    "print(c1)\n",
    "print(c2)\n"
   ]
  },
  {
   "cell_type": "markdown",
   "id": "7f0d2df1",
   "metadata": {},
   "source": [
    "# 138. Write a Python program to convert true to 1 and false to 0."
   ]
  },
  {
   "cell_type": "code",
   "execution_count": 25,
   "id": "d923b073",
   "metadata": {},
   "outputs": [
    {
     "name": "stdout",
     "output_type": "stream",
     "text": [
      "1\n",
      "0\n"
     ]
    }
   ],
   "source": [
    "x = 'true'\n",
    "x = int(x == 'true')\n",
    "print(x)\n",
    "x = 'abcd'\n",
    "x = int(x == 'true')\n",
    "print(x)\n"
   ]
  },
  {
   "cell_type": "markdown",
   "id": "61a2b9ac",
   "metadata": {},
   "source": [
    "# 139. Write a Python program to validate an IP address."
   ]
  },
  {
   "cell_type": "code",
   "execution_count": 24,
   "id": "d7a6ddc2",
   "metadata": {},
   "outputs": [
    {
     "name": "stdout",
     "output_type": "stream",
     "text": [
      "Invalid IP\n"
     ]
    }
   ],
   "source": [
    "import socket\n",
    "addr = '127.0.0.2561'\n",
    "try:\n",
    "    socket.inet_aton(addr)\n",
    "    print(\"Valid IP\")\n",
    "except socket.error:\n",
    "    print(\"Invalid IP\")\n"
   ]
  },
  {
   "cell_type": "markdown",
   "id": "5a0e0556",
   "metadata": {},
   "source": [
    "# 140. Write a Python program to convert an integer to binary that keeps leading zeros.\n",
    "Sample data : x=12\n",
    "Expected output : 00001100\n",
    "0000001100"
   ]
  },
  {
   "cell_type": "code",
   "execution_count": 23,
   "id": "e81d4c27",
   "metadata": {},
   "outputs": [
    {
     "name": "stdout",
     "output_type": "stream",
     "text": [
      "00001100\n",
      "0000001100\n"
     ]
    }
   ],
   "source": [
    "x = 12\n",
    "print(format(x, '08b'))\n",
    "print(format(x, '010b'))\n"
   ]
  },
  {
   "cell_type": "markdown",
   "id": "6c2b0174",
   "metadata": {},
   "source": [
    "# 141. Write a python program to convert decimal to hexadecimal.\n",
    "Sample decimal number: 30, 4\n",
    "Expected output: 1e, 04\n"
   ]
  },
  {
   "cell_type": "code",
   "execution_count": 22,
   "id": "ff3751a5",
   "metadata": {},
   "outputs": [
    {
     "name": "stdout",
     "output_type": "stream",
     "text": [
      "1e\n",
      "04\n"
     ]
    }
   ],
   "source": [
    "x = 30\n",
    "print(format(x, '02x'))\n",
    "x = 4\n",
    "print(format(x, '02x'))\n"
   ]
  },
  {
   "cell_type": "code",
   "execution_count": 21,
   "id": "52d72afe",
   "metadata": {},
   "outputs": [
    {
     "name": "stdout",
     "output_type": "stream",
     "text": [
      "Dechimal numbers:\n",
      "[0, 15, 30, 55, 355, 656, 896, 1125]\n",
      "\n",
      "Hexadechimal numbers of the said dechimal numbers:\n",
      "['0', 'F', '1E', '37', '163', '290', '380', '465']\n"
     ]
    }
   ],
   "source": [
    "def dechimal_to_Hex(n):   \n",
    "   x = (n % 16)\n",
    "   ch = \"\"\n",
    "   if (x < 10):\n",
    "       ch = x\n",
    "   if (x == 10):\n",
    "       ch = \"A\"\n",
    "   if (x == 11):\n",
    "       ch = \"B\"\n",
    "   if (x == 12):\n",
    "       ch = \"ch\"\n",
    "   if (x == 13):\n",
    "       ch = \"D\"\n",
    "   if (x == 14):\n",
    "       ch = \"E\"\n",
    "   if (x == 15):\n",
    "       ch = \"F\"\n",
    "   if (n - x != 0):\n",
    "       return dechimal_to_Hex(n // 16) + str(ch)\n",
    "   else:\n",
    "       return str(ch)\n",
    "dechimal_nums = [0, 15, 30, 55, 355, 656, 896, 1125]\n",
    "print(\"Dechimal numbers:\")\n",
    "print(dechimal_nums)\n",
    "print(\"\\nHexadechimal numbers of the said dechimal numbers:\")\n",
    "print([dechimal_to_Hex(x) for x in dechimal_nums])\n"
   ]
  },
  {
   "cell_type": "markdown",
   "id": "9526e59d",
   "metadata": {},
   "source": [
    "# 142. Write a Python program to check if every consecutive sequence of zeroes is followed by a consecutive sequence of ones of same length in a given string. Return True/False.\n",
    "Original sequence: 01010101\n",
    "Check if every consecutive sequence of zeroes is followed by a consecutive sequence of ones in the said string:\n",
    "True\n",
    "Original sequence: 00\n",
    "Check if every consecutive sequence of zeroes is followed by a consecutive sequence of ones in the said string:\n",
    "False\n",
    "Original sequence: 000111000111\n",
    "Check if every consecutive sequence of zeroes is followed by a consecutive sequence of ones in the said string:\n",
    "True\n",
    "Original sequence: 00011100011\n",
    "Check if every consecutive sequence of zeroes is followed by a consecutive sequence of ones in the said string:\n",
    "False"
   ]
  },
  {
   "cell_type": "code",
   "execution_count": 20,
   "id": "fe75a9c1",
   "metadata": {},
   "outputs": [
    {
     "name": "stdout",
     "output_type": "stream",
     "text": [
      "Original sequence: 01010101\n",
      "Check if every consecutive sequence of zeroes is followed by a consecutive sequence of ones in the said string:\n",
      "True\n",
      "\n",
      "Original sequence: 00\n",
      "Check if every consecutive sequence of zeroes is followed by a consecutive sequence of ones in the said string:\n",
      "False\n",
      "\n",
      "Original sequence: 000111000111\n",
      "Check if every consecutive sequence of zeroes is followed by a consecutive sequence of ones in the said string:\n",
      "True\n",
      "\n",
      "Original sequence: 00011100011\n",
      "Check if every consecutive sequence of zeroes is followed by a consecutive sequence of ones in the said string:\n",
      "False\n"
     ]
    }
   ],
   "source": [
    "def test(str1):\n",
    "    while '01' in str1:\n",
    "        str1 = str1.replace('01', '')\n",
    "    return len(str1) == 0\n",
    "\n",
    "str1 = \"01010101\"\n",
    "print(\"Original sequence:\",str1)\n",
    "print(\"Check if every consecutive sequence of zeroes is followed by a consecutive sequence of ones in the said string:\")\n",
    "print(test(str1))\n",
    "str1 = \"00\"\n",
    "print(\"\\nOriginal sequence:\",str1)\n",
    "print(\"Check if every consecutive sequence of zeroes is followed by a consecutive sequence of ones in the said string:\")\n",
    "print(test(str1))\n",
    "str1 = \"000111000111\"\n",
    "print(\"\\nOriginal sequence:\",str1)\n",
    "print(\"Check if every consecutive sequence of zeroes is followed by a consecutive sequence of ones in the said string:\")\n",
    "print(test(str1))\n",
    "str1 = \"00011100011\"\n",
    "print(\"\\nOriginal sequence:\",str1)\n",
    "print(\"Check if every consecutive sequence of zeroes is followed by a consecutive sequence of ones in the said string:\")\n",
    "print(test(str1))\n"
   ]
  },
  {
   "cell_type": "markdown",
   "id": "9ceb1d9c",
   "metadata": {},
   "source": [
    "# 143. Write a Python program to determine if the Python shell is executing in 32-bit or 64-bit mode on the operating system.\n",
    "\n"
   ]
  },
  {
   "cell_type": "code",
   "execution_count": 18,
   "id": "eed70732",
   "metadata": {},
   "outputs": [
    {
     "name": "stdout",
     "output_type": "stream",
     "text": [
      "64\n"
     ]
    }
   ],
   "source": [
    "import struct\n",
    "print(struct.calcsize(\"P\") * 8)\n"
   ]
  },
  {
   "cell_type": "markdown",
   "id": "45cf8e23",
   "metadata": {},
   "source": [
    "# 144. Write a Python program to check whether a variable is an integer or string.\n"
   ]
  },
  {
   "cell_type": "code",
   "execution_count": 17,
   "id": "bacc743f",
   "metadata": {},
   "outputs": [
    {
     "name": "stdout",
     "output_type": "stream",
     "text": [
      "True\n",
      "False\n",
      "True\n"
     ]
    }
   ],
   "source": [
    "print(isinstance(25,int) or isinstance(25,str))\n",
    "print(isinstance([25],int) or isinstance([25],str))\n",
    "print(isinstance(\"25\",int) or isinstance(\"25\",str))\n"
   ]
  },
  {
   "cell_type": "markdown",
   "id": "32e27504",
   "metadata": {},
   "source": [
    "# 145. Write a Python program to test if a variable is a list, tuple, or set.\n"
   ]
  },
  {
   "cell_type": "code",
   "execution_count": 16,
   "id": "9ae11322",
   "metadata": {},
   "outputs": [
    {
     "name": "stdout",
     "output_type": "stream",
     "text": [
      "x is a tuple\n"
     ]
    }
   ],
   "source": [
    "#x = ['a', 'b', 'c', 'd']\n",
    "#x = {'a', 'b', 'c', 'd'}\n",
    "x = ('tuple', False, 3.2, 1)\n",
    "if type(x) is list:\n",
    "    print('x is a list')\n",
    "elif type(x) is set:\n",
    "    print('x is a set')\n",
    "elif type(x) is tuple:\n",
    "    print('x is a tuple')    \n",
    "else:\n",
    "    print('Neither a list or a set or a tuple.')\n"
   ]
  },
  {
   "cell_type": "markdown",
   "id": "e0d55542",
   "metadata": {},
   "source": [
    "# 146. Write a Python program to find the location of Python module sources."
   ]
  },
  {
   "cell_type": "code",
   "execution_count": 15,
   "id": "24856f24",
   "metadata": {},
   "outputs": [
    {
     "name": "stdout",
     "output_type": "stream",
     "text": [
      "Location of Python os module sources:\n",
      "(<_io.TextIOWrapper name='C:\\\\ProgramData\\\\anaconda3\\\\lib\\\\os.py' mode='r' encoding='utf-8'>, 'C:\\\\ProgramData\\\\anaconda3\\\\lib\\\\os.py', ('.py', 'r', 1))\n",
      "\n",
      "Location of Python sys module sources:\n",
      "(<_io.TextIOWrapper name='C:\\\\ProgramData\\\\anaconda3\\\\lib\\\\datetime.py' mode='r' encoding='utf-8'>, 'C:\\\\ProgramData\\\\anaconda3\\\\lib\\\\datetime.py', ('.py', 'r', 1))\n"
     ]
    },
    {
     "name": "stderr",
     "output_type": "stream",
     "text": [
      "C:\\Users\\Akshit Koche\\AppData\\Local\\Temp\\ipykernel_21208\\1800006020.py:1: DeprecationWarning: the imp module is deprecated in favour of importlib and slated for removal in Python 3.12; see the module's documentation for alternative uses\n",
      "  import imp\n"
     ]
    }
   ],
   "source": [
    "import imp\n",
    "print(\"Location of Python os module sources:\")\n",
    "print(imp.find_module('os'))\n",
    "print(\"\\nLocation of Python sys module sources:\")\n",
    "print(imp.find_module('datetime'))\n"
   ]
  },
  {
   "cell_type": "markdown",
   "id": "fdea4c74",
   "metadata": {},
   "source": [
    "# 147. Write a Python function to check whether a number is divisible by another number. Accept two integer values from the user.\n"
   ]
  },
  {
   "cell_type": "code",
   "execution_count": 9,
   "id": "25711b32",
   "metadata": {},
   "outputs": [
    {
     "name": "stdout",
     "output_type": "stream",
     "text": [
      "True\n",
      "False\n"
     ]
    }
   ],
   "source": [
    "def multiple(m, n):\n",
    "\treturn True if m % n == 0 else False\n",
    "\n",
    "print(multiple(20, 5))\n",
    "print(multiple(7, 2))\n"
   ]
  },
  {
   "cell_type": "markdown",
   "id": "1118e32c",
   "metadata": {},
   "source": [
    "# 148. Write a Python function to find the maximum and minimum numbers from a sequence of numbers.\n",
    "Note: Do not use built-in functions."
   ]
  },
  {
   "cell_type": "code",
   "execution_count": 10,
   "id": "5f8864ec",
   "metadata": {},
   "outputs": [
    {
     "name": "stdout",
     "output_type": "stream",
     "text": [
      "(75, -5)\n"
     ]
    }
   ],
   "source": [
    "def max_min(data):\n",
    "  l = data[0]\n",
    "  s = data[0]\n",
    "  for num in data:\n",
    "    if num> l:\n",
    "      l = num\n",
    "    elif num< s:\n",
    "        s = num\n",
    "  return l, s\n",
    "\n",
    "print(max_min([0, 10, 15, 40, -5, 42, 17, 28, 75]))\n"
   ]
  },
  {
   "cell_type": "markdown",
   "id": "4d554b9a",
   "metadata": {},
   "source": [
    "# 149. Write a Python function that takes a positive integer and returns the sum of the cube of all positive integers smaller than the specified number."
   ]
  },
  {
   "cell_type": "code",
   "execution_count": 11,
   "id": "3795cda9",
   "metadata": {},
   "outputs": [],
   "source": [
    "def sum_cubes(n):\n",
    "    result = 0\n",
    "    for i in range(1, n):\n",
    "        result += i**3\n",
    "    return result\n",
    "\n"
   ]
  },
  {
   "cell_type": "code",
   "execution_count": 12,
   "id": "192513f5",
   "metadata": {},
   "outputs": [
    {
     "name": "stdout",
     "output_type": "stream",
     "text": [
      "100\n"
     ]
    }
   ],
   "source": [
    "number = 5\n",
    "result = sum_cubes(number)\n",
    "print(result)  # Output: 100\n"
   ]
  },
  {
   "cell_type": "markdown",
   "id": "7a570062",
   "metadata": {},
   "source": [
    "# 150. Write a Python function to check whether a distinct pair of numbers whose product is odd is present in a sequence of integer values."
   ]
  },
  {
   "cell_type": "code",
   "execution_count": 13,
   "id": "afe0a138",
   "metadata": {},
   "outputs": [],
   "source": [
    "def has_odd_product_pair(sequence):\n",
    "    odd_numbers = set()\n",
    "    \n",
    "    for num in sequence:\n",
    "        if num % 2 != 0:\n",
    "            if num in odd_numbers:\n",
    "                return True\n",
    "            else:\n",
    "                odd_numbers.add(num)\n",
    "    \n",
    "    return False\n"
   ]
  },
  {
   "cell_type": "code",
   "execution_count": 14,
   "id": "4e6f3634",
   "metadata": {},
   "outputs": [
    {
     "name": "stdout",
     "output_type": "stream",
     "text": [
      "False\n",
      "False\n"
     ]
    }
   ],
   "source": [
    "numbers = [1, 2, 3, 4, 5, 6, 7, 8, 9, 10]\n",
    "result = has_odd_product_pair(numbers)\n",
    "print(result)  # Output: True\n",
    "\n",
    "numbers = [2, 4, 6, 8]\n",
    "result = has_odd_product_pair(numbers)\n",
    "print(result)  # Output: False\n"
   ]
  },
  {
   "cell_type": "code",
   "execution_count": null,
   "id": "670f37e7",
   "metadata": {},
   "outputs": [],
   "source": []
  }
 ],
 "metadata": {
  "kernelspec": {
   "display_name": "Python 3 (ipykernel)",
   "language": "python",
   "name": "python3"
  },
  "language_info": {
   "codemirror_mode": {
    "name": "ipython",
    "version": 3
   },
   "file_extension": ".py",
   "mimetype": "text/x-python",
   "name": "python",
   "nbconvert_exporter": "python",
   "pygments_lexer": "ipython3",
   "version": "3.10.9"
  }
 },
 "nbformat": 4,
 "nbformat_minor": 5
}
